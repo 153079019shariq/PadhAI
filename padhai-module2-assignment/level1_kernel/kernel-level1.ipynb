{
 "cells": [
  {
   "cell_type": "code",
   "execution_count": 1,
   "metadata": {
    "_uuid": "47c36d8b02c2897cf1c64f440ce0a03d73f42e98",
    "colab": {},
    "colab_type": "code",
    "id": "a192xmwKijHs"
   },
   "outputs": [],
   "source": [
    "import os\n",
    "import sys\n",
    "import pickle\n",
    "import numpy as np\n",
    "import pandas as pd\n",
    "from PIL import Image, ImageFilter\n",
    "from tqdm import tqdm_notebook\n",
    "from sklearn.preprocessing import StandardScaler\n",
    "from sklearn.metrics import accuracy_score, mean_squared_error, log_loss, confusion_matrix\n",
    "import matplotlib.pyplot as plt\n",
    "\n",
    "np.random.seed(100)\n",
    "LEVEL = 'level_1'\n"
   ]
  },
  {
   "cell_type": "code",
   "execution_count": 2,
   "metadata": {
    "_uuid": "4b9fbcc10b81653d6dc716dcc2081147f673aed0",
    "colab": {},
    "colab_type": "code",
    "id": "fIuRdSezijHx"
   },
   "outputs": [],
   "source": [
    "class SigmoidNeuron:\n",
    "  \n",
    "  def __init__(self):\n",
    "    self.w = None\n",
    "    self.b = None\n",
    "    \n",
    "  def perceptron(self, x):\n",
    "    return np.dot(x, self.w.T) + self.b\n",
    "  \n",
    "  def sigmoid(self, x):\n",
    "    return 1.0/(1.0 + np.exp(-x))\n",
    "  \n",
    "  def grad_w_mse(self, x, y):\n",
    "    y_pred = self.sigmoid(self.perceptron(x))\n",
    "    return (y_pred - y) * y_pred * (1 - y_pred) * x\n",
    "  \n",
    "  def grad_b_mse(self, x, y):\n",
    "    y_pred = self.sigmoid(self.perceptron(x))\n",
    "    return (y_pred - y) * y_pred * (1 - y_pred)\n",
    "  \n",
    "  def grad_w_ce(self, x, y):\n",
    "    y_pred = self.sigmoid(self.perceptron(x))\n",
    "    if y == 0:\n",
    "      return y_pred * x\n",
    "    elif y == 1:\n",
    "      return -1 * (1 - y_pred) * x\n",
    "    else:\n",
    "      raise ValueError(\"y should be 0 or 1\")\n",
    "    \n",
    "  def grad_b_ce(self, x, y):\n",
    "    y_pred = self.sigmoid(self.perceptron(x))\n",
    "    if y == 0:\n",
    "      return y_pred \n",
    "    elif y == 1:\n",
    "      return -1 * (1 - y_pred)\n",
    "    else:\n",
    "      raise ValueError(\"y should be 0 or 1\")\n",
    "  \n",
    "  def fit(self, X, Y, epochs=1, learning_rate=1, initialise=True, loss_fn=\"mse\", display_loss=False):\n",
    "    best_w = 0\n",
    "    best_b = 0\n",
    "    best_acc =0\n",
    "    # initialise w, b\n",
    "    if initialise:\n",
    "      self.w = np.zeros((1, X.shape[1]))\n",
    "      self.b = 0\n",
    "      \n",
    "    if display_loss:\n",
    "      loss = {}\n",
    "    \n",
    "    for i in tqdm_notebook(range(epochs), total=epochs, unit=\"epoch\"):\n",
    "      dw = 0\n",
    "      db = 0\n",
    "         \n",
    "      for x, y in zip(X, Y):\n",
    "        if loss_fn == \"mse\":\n",
    "          dw += self.grad_w_mse(x, y)\n",
    "          db += self.grad_b_mse(x, y) \n",
    "        elif loss_fn == \"ce\":\n",
    "          dw += self.grad_w_ce(x, y)\n",
    "          db += self.grad_b_ce(x, y)\n",
    "      #print(\"dw\",dw)\n",
    "      self.w -= learning_rate * dw\n",
    "      self.b -= learning_rate * db\n",
    "      \n",
    "      if display_loss:\n",
    "        Y_pred = self.sigmoid(self.perceptron(X))\n",
    "        #print(Y_pred)\n",
    "        if loss_fn == \"mse\":\n",
    "          loss[i] = mean_squared_error(Y, Y_pred)\n",
    "        elif loss_fn == \"ce\":\n",
    "          loss[i] = log_loss(Y, Y_pred)\n",
    "      Y_pred =(Y_pred>= 0.5).astype(int)\n",
    "      accuracy = accuracy_score(Y_pred,Y.reshape(-1,1))\n",
    "      if(accuracy>=best_acc):\n",
    "                    best_acc = accuracy\n",
    "                    best_w   = self.w\n",
    "                    best_b   = self.b\n",
    "    self.w   = best_w\n",
    "    self.b   = best_b\n",
    "    if display_loss:\n",
    "      print(loss.values())\n",
    "      print(\"w,b\",self.w,self.b)\n",
    "      plt.plot(loss.values())\n",
    "      plt.xlabel('Epochs')\n",
    "      if loss_fn == \"mse\":\n",
    "        plt.ylabel('Mean Squared Error')\n",
    "      elif loss_fn == \"ce\":\n",
    "        plt.ylabel('Log Loss')\n",
    "      plt.show()\n",
    "      \n",
    "  def predict(self, X):\n",
    "    Y_pred = []\n",
    "    for x in X:\n",
    "      y_pred = self.sigmoid(self.perceptron(x))\n",
    "      Y_pred.append(y_pred)\n",
    "    return np.array(Y_pred)"
   ]
  },
  {
   "cell_type": "code",
   "execution_count": 3,
   "metadata": {
    "_uuid": "ef7426f65f7967b4b5cecd61feee4b51c30959b0"
   },
   "outputs": [],
   "source": [
    "class SigmoidNeuron1:\n",
    "    def __init__(self):\n",
    "        self.w = None\n",
    "        self.b = None  \n",
    "    def sigmoid(self,X):\n",
    "        return 1/(1+np.exp(-X))\n",
    "    def forward_prop(self,X):\n",
    "        #print(\"forwar_prop\",X.shape,self.w.shape,self.b,self.sigmoid(np.dot (X,self.w) + self.b).shape)\n",
    "        return self.sigmoid(np.dot (X,self.w) + self.b)\n",
    "    def backward_prop(self,X,Y):\n",
    "        m = X.shape[0]\n",
    "        #print(self.forward_prop(X).shape,Y.reshape(-1,1).shape)\n",
    "        dz = self.forward_prop(X) -Y.reshape(-1,1) \n",
    "        #print(\"dz X\",dz.shape,X.shape,type(dz))\n",
    "        db = np.sum(dz)\n",
    "        dw = np.dot(X.T,dz)\n",
    "        #print(\"dw db\",dw.shape,db)\n",
    "        return dw,db\n",
    "    def loss(self,y,y_predict):\n",
    "        m=y.shape[0]\n",
    "        y=y.reshape(-1,1)\n",
    "        print(y.shape)\n",
    "        #print(y_predict)\n",
    "        for i,j,k in zip(y,y_predict,(y*np.log(y_predict)+(1-y)*np.log(1-y_predict))):\n",
    "            print(i,j,k)\n",
    "            print(i*np.log(j))\n",
    "            print(1-i,np.log(1-j),(1-i)*np.log(1-j))\n",
    "        print((y*np.log(y_predict)+(1-y)*np.log(1-y_predict)))\n",
    "        return -1/m*np.sum(y*np.log(y_predict)+(1-y)*np.log(1-y_predict))\n",
    "    def update(self,dw,db,learning_rate):\n",
    "        self.w  = self.w -learning_rate* dw\n",
    "        self.b  = self.b -learning_rate* db \n",
    "    def fit(self, X, Y, epochs=1, learning_rate=1, initialise=True, loss_fn=\"mse\",display_loss=False):\n",
    "        loss_list =[]\n",
    "        if(initialise):\n",
    "            self.w = np.zeros((X.shape[1],1))\n",
    "            self.b = 0\n",
    "            dw     = 0\n",
    "            db     = 0\n",
    "            best_w = 0\n",
    "            best_b = 0\n",
    "            best_acc =0\n",
    "        for iter1 in range(epochs):\n",
    "                y_predict = self.forward_prop(X)\n",
    "                #print(y_predict)\n",
    "                \n",
    "                dw,db = self.backward_prop(X,Y)\n",
    "                self.update(dw,db,learning_rate)\n",
    "                y_predict = self.forward_prop(X)\n",
    "                loss_list.append(log_loss(Y,y_predict))\n",
    "                y_predict =(y_predict>= 0.5).astype(int)\n",
    "                accuracy = accuracy_score(y_predict,Y.reshape(-1,1))\n",
    "                if(accuracy>=best_acc):\n",
    "                    best_acc = accuracy\n",
    "                    best_w   = self.w\n",
    "                    best_b   = self.b\n",
    "        self.w   = best_w\n",
    "        self.b   = best_b\n",
    "                #print(y_predict)\n",
    "        if display_loss:\n",
    "            print(loss_list)\n",
    "            print(\"w,b\",self.w,self.b)\n",
    "            plt.plot(loss_list)\n",
    "            plt.xlabel('Epochs')\n",
    "            plt.ylabel('Log Loss')\n",
    "            plt.show()\n",
    "    def predict(self,X):\n",
    "        return self.forward_prop(X)         "
   ]
  },
  {
   "cell_type": "code",
   "execution_count": 4,
   "metadata": {
    "_uuid": "f2860e27b7d0595e238b80c365724161edafc3ad",
    "colab": {},
    "colab_type": "code",
    "id": "VDe2wjl_ijH0"
   },
   "outputs": [],
   "source": [
    "def read_all(folder_path, key_prefix=\"\"):\n",
    "    '''\n",
    "    It returns a dictionary with 'file names' as keys and 'flattened image arrays' as values.\n",
    "    '''\n",
    "    print(\"Reading:\")\n",
    "    images = {}\n",
    "    files = os.listdir(folder_path)\n",
    "    print (files)\n",
    "    for i, file_name in tqdm_notebook(enumerate(files), total=len(files)):\n",
    "        file_path = os.path.join(folder_path, file_name)\n",
    "        image_index = key_prefix + file_name[:-4]\n",
    "        image = Image.open(file_path)\n",
    "        image = image.convert(\"L\")\n",
    "        images[image_index] = np.array(image.copy()).flatten()\n",
    "        image.close()\n",
    "    return images"
   ]
  },
  {
   "cell_type": "code",
   "execution_count": 5,
   "metadata": {
    "_uuid": "8526f481b03444df914d4bf28a6d7710bf63249b",
    "colab": {},
    "colab_type": "code",
    "id": "mjuaN532ijH4",
    "outputId": "4124ae5e-4a9c-44dc-8c84-7919e6927fe5"
   },
   "outputs": [
    {
     "name": "stdout",
     "output_type": "stream",
     "text": [
      "Reading:\n",
      "['145.jpg', '19_d2.jpg', '44_d3.jpg', '15_d2.jpg', '46_d2.jpg', '34.jpg', '51_d2.jpg', '90.jpg', '100_d3.jpg', '106_d2.jpg', '97_d2.jpg', '58_d2.jpg', '48.jpg', '62_d3.jpg', '123.jpg', '106.jpg', '21_d2.jpg', '48_d3.jpg', '138.jpg', '78_d3.jpg', '91_d3.jpg', '98_d2.jpg', '141.jpg', '69.jpg', '109_d2.jpg', '60_d2.jpg', '113_d2.jpg', '86_d2.jpg', '122.jpg', '16_d2.jpg', '140.jpg', '115_d2.jpg', '100_d2.jpg', '117.jpg', '49_d3.jpg', '17.jpg', '96_d3.jpg', '90_d2.jpg', '25_d3.jpg', '135_d3.jpg', '72.jpg', '142_d3.jpg', '119.jpg', '7_d3.jpg', '131_d3.jpg', '12_d2.jpg', '101_d3.jpg', '143.jpg', '93_d3.jpg', '116_d2.jpg', '10.jpg', '44_d2.jpg', '137_d3.jpg', '83_d2.jpg', '111_d3.jpg', '74.jpg', '21.jpg', '134.jpg', '112.jpg', '4.jpg', '84_d3.jpg', '146_d2.jpg', '88_d2.jpg', '36_d3.jpg', '44.jpg', '26_d2.jpg', '45_d2.jpg', '146_d3.jpg', '97.jpg', '136.jpg', '149.jpg', '54_d3.jpg', '56_d3.jpg', '116.jpg', '58.jpg', '2_d3.jpg', '67.jpg', '69_d2.jpg', '147.jpg', '110_d2.jpg', '84.jpg', '118_d3.jpg', '81_d2.jpg', '77_d2.jpg', '114.jpg', '73_d3.jpg', '85.jpg', '40_d2.jpg', '66_d2.jpg', '92.jpg', '72_d2.jpg', '59_d3.jpg', '47.jpg', '99_d3.jpg', '104_d2.jpg', '126_d3.jpg', '11_d3.jpg', '64.jpg', '129.jpg', '9.jpg', '129_d3.jpg', '64_d3.jpg', '5_d2.jpg', '61.jpg', '49_d2.jpg', '35_d2.jpg', '68_d2.jpg', '51.jpg', '47_d2.jpg', '73.jpg', '37_d3.jpg', '129_d2.jpg', '28.jpg', '11.jpg', '36.jpg', '111.jpg', '51_d3.jpg', '68_d3.jpg', '87_d3.jpg', '103_d2.jpg', '118.jpg', '32_d3.jpg', '74_d2.jpg', '114_d2.jpg', '145_d2.jpg', '53.jpg', '67_d2.jpg', '41_d2.jpg', '13.jpg', '46.jpg', '8_d3.jpg', '1_d2.jpg', '59_d2.jpg', '7.jpg', '93.jpg', '63_d2.jpg', '19_d3.jpg', '49.jpg', '128_d3.jpg', '17_d3.jpg', '133_d3.jpg', '119_d3.jpg', '75.jpg', '124.jpg', '142_d2.jpg', '56_d2.jpg', '79_d2.jpg', '148_d2.jpg', '41_d3.jpg', '75_d2.jpg', '135.jpg', '80_d3.jpg', '111_d2.jpg', '37_d2.jpg', '113.jpg', '93_d2.jpg', '3_d2.jpg', '31.jpg', '117_d3.jpg', '63_d3.jpg', '39.jpg', '7_d2.jpg', '34_d3.jpg', '39_d2.jpg', '132_d3.jpg', '86_d3.jpg', '148.jpg', '24.jpg', '6.jpg', '50_d3.jpg', '71_d3.jpg', '127.jpg', '23_d2.jpg', '28_d2.jpg', '105_d3.jpg', '66_d3.jpg', '103_d3.jpg', '134_d3.jpg', '108_d3.jpg', '92_d3.jpg', '55_d3.jpg', '142.jpg', '98.jpg', '12_d3.jpg', '105_d2.jpg', '35_d3.jpg', '91.jpg', '149_d3.jpg', '39_d3.jpg', '48_d2.jpg', '21_d3.jpg', '121_d2.jpg', '117_d2.jpg', '125_d2.jpg', '65_d2.jpg', '110.jpg', '110_d3.jpg', '82_d3.jpg', '84_d2.jpg', '19.jpg', '18_d3.jpg', '94_d3.jpg', '88.jpg', '6_d3.jpg', '18_d2.jpg', '134_d2.jpg', '4_d2.jpg', '1_d3.jpg', '130_d2.jpg', '76.jpg', '101.jpg', '25.jpg', '15.jpg', '138_d2.jpg', '38.jpg', '12.jpg', '31_d2.jpg', '34_d2.jpg', '45_d3.jpg', '28_d3.jpg', '149_d2.jpg', '147_d2.jpg', '22.jpg', '88_d3.jpg', '122_d2.jpg', '121.jpg', '13_d2.jpg', '73_d2.jpg', '1.jpg', '8.jpg', '55.jpg', '140_d2.jpg', '147_d3.jpg', '52_d2.jpg', '53_d3.jpg', '95.jpg', '4_d3.jpg', '106_d3.jpg', '96_d2.jpg', '138_d3.jpg', '71_d2.jpg', '102_d3.jpg', '61_d3.jpg', '30_d2.jpg', '136_d2.jpg', '33_d3.jpg', '103.jpg', '135_d2.jpg', '78_d2.jpg', '112_d3.jpg', '16_d3.jpg', '123_d2.jpg', '87_d2.jpg', '119_d2.jpg', '33_d2.jpg', '141_d2.jpg', '125.jpg', '145_d3.jpg', '33.jpg', '85_d2.jpg', '22_d2.jpg', '61_d2.jpg', '87.jpg', '62_d2.jpg', '139_d3.jpg', '123_d3.jpg', '27_d2.jpg', '69_d3.jpg', '29_d2.jpg', '136_d3.jpg', '10_d2.jpg', '25_d2.jpg', '42_d2.jpg', '52.jpg', '55_d2.jpg', '108.jpg', '74_d3.jpg', '59.jpg', '20_d3.jpg', '75_d3.jpg', '77.jpg', '3.jpg', '122_d3.jpg', '127_d2.jpg', '80.jpg', '79.jpg', '52_d3.jpg', '102.jpg', '94_d2.jpg', '67_d3.jpg', '10_d3.jpg', '90_d3.jpg', '108_d2.jpg', '38_d3.jpg', '3_d3.jpg', '22_d3.jpg', '115_d3.jpg', '128_d2.jpg', '60.jpg', '26_d3.jpg', '26.jpg', '113_d3.jpg', '38_d2.jpg', '9_d3.jpg', '107_d2.jpg', '54.jpg', '98_d3.jpg', '5_d3.jpg', '121_d3.jpg', '128.jpg', '16.jpg', '144_d2.jpg', '27.jpg', '97_d3.jpg', '81_d3.jpg', '130_d3.jpg', '82.jpg', '45.jpg', '57.jpg', '137_d2.jpg', '89_d2.jpg', '29.jpg', '71.jpg', '148_d3.jpg', '58_d3.jpg', '14_d2.jpg', '91_d2.jpg', '109_d3.jpg', '144_d3.jpg', '120.jpg', '78.jpg', '0_d2.jpg', '63.jpg', '132_d2.jpg', '146.jpg', '0_d3.jpg', '89.jpg', '42_d3.jpg', '40.jpg', '107_d3.jpg', '54_d2.jpg', '86.jpg', '105.jpg', '125_d3.jpg', '102_d2.jpg', '5.jpg', '43_d3.jpg', '20.jpg', '104.jpg', '82_d2.jpg', '133_d2.jpg', '23.jpg', '15_d3.jpg', '133.jpg', '35.jpg', '56.jpg', '57_d2.jpg', '8_d2.jpg', '11_d2.jpg', '120_d3.jpg', '83.jpg', '120_d2.jpg', '70.jpg', '131_d2.jpg', '17_d2.jpg', '70_d2.jpg', '57_d3.jpg', '76_d2.jpg', '104_d3.jpg', '9_d2.jpg', '41.jpg', '2.jpg', '20_d2.jpg', '126_d2.jpg', '85_d3.jpg', '72_d3.jpg', '14_d3.jpg', '139.jpg', '47_d3.jpg', '43.jpg', '139_d2.jpg', '32.jpg', '95_d2.jpg', '30.jpg', '66.jpg', '24_d3.jpg', '65_d3.jpg', '92_d2.jpg', '80_d2.jpg', '130.jpg', '27_d3.jpg', '81.jpg', '29_d3.jpg', '131.jpg', '143_d3.jpg', '132.jpg', '112_d2.jpg', '124_d2.jpg', '137.jpg', '30_d3.jpg', '140_d3.jpg', '100.jpg', '37.jpg', '94.jpg', '76_d3.jpg', '31_d3.jpg', '65.jpg', '46_d3.jpg', '60_d3.jpg', '23_d3.jpg', '43_d2.jpg', '109.jpg', '114_d3.jpg', '68.jpg', '126.jpg', '107.jpg', '40_d3.jpg', '95_d3.jpg', '64_d2.jpg', '141_d3.jpg', '50.jpg', '62.jpg', '83_d3.jpg', '96.jpg', '70_d3.jpg', '118_d2.jpg', '99.jpg', '53_d2.jpg', '0.jpg', '77_d3.jpg', '42.jpg', '13_d3.jpg', '36_d2.jpg', '50_d2.jpg', '143_d2.jpg', '144.jpg', '89_d3.jpg', '116_d3.jpg', '79_d3.jpg', '127_d3.jpg', '99_d2.jpg', '24_d2.jpg', '2_d2.jpg', '6_d2.jpg', '101_d2.jpg', '18.jpg', '115.jpg', '124_d3.jpg', '32_d2.jpg', '14.jpg']\n"
     ]
    },
    {
     "data": {
      "application/vnd.jupyter.widget-view+json": {
       "model_id": "2c38c15d01894a8592d2731b92d9e6ba",
       "version_major": 2,
       "version_minor": 0
      },
      "text/plain": [
       "HBox(children=(IntProgress(value=0, max=450), HTML(value='')))"
      ]
     },
     "metadata": {},
     "output_type": "display_data"
    },
    {
     "name": "stdout",
     "output_type": "stream",
     "text": [
      "\n",
      "Reading:\n",
      "['c70_127.jpg', 'c11_29.jpg', 'c64_87.jpg', 'c55_81.jpg', 'c10_6.jpg', 'c18_12.jpg', 'c2_147.jpg', 'c63_16.jpg', 'c69_3.jpg', 'c74_106.jpg', 'c32_4.jpg', 'c39_92.jpg', 'c22_62.jpg', 'c48_124.jpg', 'c60_95.jpg', 'c26_7.jpg', 'c57_76.jpg', 'c15_120.jpg', 'c53_141.jpg', 'c62_116.jpg', 'c3_73.jpg', 'c22_13.jpg', 'c34_68.jpg', 'c4_113.jpg', 'c21_5.jpg', 'c25_69.jpg', 'c0_33.jpg', 'c85_123.jpg', 'c49_145.jpg', 'c33_82.jpg', 'c8_9.jpg', 'c92_110.jpg', 'c83_37.jpg', 'c65_61.jpg', 'c62_63.jpg', 'c77_24.jpg', 'c61_138.jpg', 'c2_142.jpg', 'c36_133.jpg', 'c71_31.jpg', 'c17_149.jpg', 'c70_45.jpg', 'c79_46.jpg', 'c76_70.jpg', 'c25_85.jpg', 'c38_101.jpg', 'c52_51.jpg', 'c0_89.jpg', 'c34_8.jpg', 'c71_28.jpg', 'c10_102.jpg', 'c45_131.jpg', 'c8_80.jpg', 'c69_22.jpg', 'c54_49.jpg', 'c81_86.jpg', 'c92_119.jpg', 'c27_10.jpg', 'c12_108.jpg', 'c59_34.jpg', 'c55_114.jpg', 'c90_125.jpg', 'c90_137.jpg', 'c30_139.jpg', 'c31_98.jpg', 'c64_57.jpg', 'c42_93.jpg', 'c40_109.jpg', 'c56_136.jpg', 'c8_121.jpg', 'c73_60.jpg', 'c16_78.jpg', 'c61_53.jpg', 'c80_42.jpg', 'c67_91.jpg', 'c79_27.jpg', 'c83_25.jpg', 'c55_56.jpg', 'c16_88.jpg', 'c68_18.jpg', 'c94_23.jpg', 'c78_117.jpg', 'c81_75.jpg', 'c76_58.jpg', 'c77_20.jpg', 'c13_59.jpg', 'c2_35.jpg', 'c18_64.jpg', 'c69_47.jpg', 'c68_77.jpg', 'c0_11.jpg', 'c65_104.jpg', 'c26_55.jpg', 'c53_83.jpg', 'c89_54.jpg', 'c82_17.jpg', 'c41_96.jpg', 'c30_52.jpg', 'c22_32.jpg', 'c47_94.jpg', 'c94_79.jpg', 'c25_118.jpg', 'c2_50.jpg', 'c87_19.jpg', 'c93_44.jpg', 'c61_2.jpg', 'c36_65.jpg', 'c55_99.jpg', 'c88_43.jpg', 'c33_100.jpg', 'c21_39.jpg', 'c88_115.jpg', 'c46_14.jpg', 'c2_15.jpg', 'c78_146.jpg', 'c34_112.jpg', 'c37_72.jpg', 'c17_1.jpg', 'c90_111.jpg', 'c38_126.jpg', 'c17_40.jpg', 'c51_143.jpg', 'c92_140.jpg', 'c81_48.jpg', 'c22_26.jpg', 'c20_90.jpg', 'c23_97.jpg', 'c79_134.jpg', 'c59_41.jpg', 'c86_67.jpg', 'c24_21.jpg', 'c36_0.jpg', 'c51_130.jpg', 'c13_30.jpg', 'c66_148.jpg', 'c0_144.jpg', 'c21_122.jpg', 'c76_74.jpg', 'c71_132.jpg', 'c28_129.jpg', 'c75_36.jpg', 'c26_66.jpg', 'c6_84.jpg', 'c55_103.jpg', 'c42_105.jpg', 'c41_71.jpg', 'c33_107.jpg', 'c30_135.jpg', 'c4_38.jpg', 'c11_128.jpg']\n"
     ]
    },
    {
     "data": {
      "application/vnd.jupyter.widget-view+json": {
       "model_id": "f92505fe4f4a4990b08689d43072a9cd",
       "version_major": 2,
       "version_minor": 0
      },
      "text/plain": [
       "HBox(children=(IntProgress(value=0, max=150), HTML(value='')))"
      ]
     },
     "metadata": {},
     "output_type": "display_data"
    },
    {
     "name": "stdout",
     "output_type": "stream",
     "text": [
      "\n",
      "Reading:\n",
      "['c4_82.jpg', 'c1_43.jpg', 'c1_104.jpg', 'c10_128.jpg', 'c8_106.jpg', 'c7_56.jpg', 'c5_125.jpg', 'c9_89.jpg', 'c0_9.jpg', 'c6_133.jpg', 'c11_91.jpg', 'c7_24.jpg', 'c4_70.jpg', 'c3_6.jpg', 'c11_41.jpg', 'c11_42.jpg', 'c10_101.jpg', 'c11_80.jpg', 'c6_93.jpg', 'c10_54.jpg', 'c11_15.jpg', 'c4_109.jpg', 'c7_4.jpg', 'c9_30.jpg', 'c7_1.jpg', 'c4_17.jpg', 'c2_138.jpg', 'c7_141.jpg', 'c4_135.jpg', 'c10_140.jpg', 'c1_144.jpg', 'c9_113.jpg', 'c2_8.jpg', 'c1_51.jpg', 'c1_102.jpg', 'c11_84.jpg', 'c1_94.jpg', 'c9_108.jpg', 'c11_12.jpg', 'c8_129.jpg', 'c6_37.jpg', 'c7_22.jpg', 'c0_23.jpg', 'c8_46.jpg', 'c10_64.jpg', 'c1_7.jpg', 'c6_100.jpg', 'c6_81.jpg', 'c6_126.jpg', 'c8_146.jpg', 'c10_63.jpg', 'c6_36.jpg', 'c0_16.jpg', 'c0_78.jpg', 'c11_118.jpg', 'c10_137.jpg', 'c9_32.jpg', 'c7_112.jpg', 'c6_31.jpg', 'c2_149.jpg', 'c3_14.jpg', 'c10_72.jpg', 'c4_2.jpg', 'c0_99.jpg', 'c2_98.jpg', 'c7_34.jpg', 'c7_96.jpg', 'c2_10.jpg', 'c6_45.jpg', 'c10_62.jpg', 'c0_119.jpg', 'c1_18.jpg', 'c2_52.jpg', 'c5_67.jpg', 'c5_88.jpg', 'c1_87.jpg', 'c5_79.jpg', 'c3_38.jpg', 'c5_69.jpg', 'c1_66.jpg', 'c6_130.jpg', 'c8_116.jpg', 'c5_74.jpg', 'c0_27.jpg', 'c1_117.jpg', 'c0_11.jpg', 'c0_19.jpg', 'c0_132.jpg', 'c7_13.jpg', 'c6_58.jpg', 'c3_142.jpg', 'c4_95.jpg', 'c3_68.jpg', 'c3_35.jpg', 'c3_49.jpg', 'c6_145.jpg', 'c5_40.jpg', 'c5_127.jpg', 'c3_75.jpg', 'c0_29.jpg', 'c5_33.jpg', 'c9_136.jpg', 'c11_26.jpg', 'c9_122.jpg', 'c8_77.jpg', 'c8_97.jpg', 'c7_50.jpg', 'c6_107.jpg', 'c8_85.jpg', 'c0_39.jpg', 'c7_47.jpg', 'c5_61.jpg', 'c4_121.jpg', 'c6_5.jpg', 'c11_105.jpg', 'c9_120.jpg', 'c5_57.jpg', 'c9_21.jpg', 'c9_148.jpg', 'c10_65.jpg', 'c10_48.jpg', 'c10_115.jpg', 'c6_139.jpg', 'c2_123.jpg', 'c11_25.jpg', 'c8_147.jpg', 'c5_131.jpg', 'c11_53.jpg', 'c2_28.jpg', 'c6_114.jpg', 'c11_83.jpg', 'c2_60.jpg', 'c0_90.jpg', 'c2_76.jpg', 'c0_110.jpg', 'c3_3.jpg', 'c5_103.jpg', 'c7_20.jpg', 'c9_124.jpg', 'c2_55.jpg', 'c2_44.jpg', 'c11_143.jpg', 'c3_0.jpg', 'c10_92.jpg', 'c8_59.jpg', 'c9_134.jpg', 'c9_73.jpg', 'c9_111.jpg', 'c9_86.jpg', 'c4_71.jpg']\n"
     ]
    },
    {
     "data": {
      "application/vnd.jupyter.widget-view+json": {
       "model_id": "37244b69d2fd4b9e9c36c4ecc507e77e",
       "version_major": 2,
       "version_minor": 0
      },
      "text/plain": [
       "HBox(children=(IntProgress(value=0, max=150), HTML(value='')))"
      ]
     },
     "metadata": {},
     "output_type": "display_data"
    },
    {
     "name": "stdout",
     "output_type": "stream",
     "text": [
      "\n",
      "Reading:\n",
      "['c33_142.jpg', 'c17_71.jpg', 'c47_144.jpg', 'c37_43.jpg', 'c6_108.jpg', 'c10_34.jpg', 'c16_10.jpg', 'c23_77.jpg', 'c23_140.jpg', 'c13_97.jpg', 'c32_85.jpg', 'c18_37.jpg', 'c18_90.jpg', 'c2_107.jpg', 'c36_46.jpg', 'c34_146.jpg', 'c43_129.jpg', 'c21_45.jpg', 'c36_79.jpg', 'c34_86.jpg', 'c7_132.jpg', 'c14_61.jpg', 'c33_84.jpg', 'c38_38.jpg', 'c50_87.jpg', 'c4_106.jpg', 'c10_130.jpg', 'c42_56.jpg', 'c16_40.jpg', 'c38_27.jpg', 'c51_64.jpg', 'c44_68.jpg', 'c14_50.jpg', 'c21_109.jpg', 'c7_4.jpg', 'c26_30.jpg', 'c21_133.jpg', 'c25_145.jpg', 'c51_35.jpg', 'c9_123.jpg', 'c51_81.jpg', 'c28_15.jpg', 'c31_75.jpg', 'c44_32.jpg', 'c12_128.jpg', 'c27_135.jpg', 'c8_14.jpg', 'c2_59.jpg', 'c12_118.jpg', 'c16_96.jpg', 'c36_25.jpg', 'c27_139.jpg', 'c38_92.jpg', 'c18_110.jpg', 'c20_101.jpg', 'c32_62.jpg', 'c45_137.jpg', 'c18_115.jpg', 'c25_65.jpg', 'c45_131.jpg', 'c4_26.jpg', 'c30_98.jpg', 'c46_31.jpg', 'c7_74.jpg', 'c19_105.jpg', 'c44_6.jpg', 'c0_73.jpg', 'c7_69.jpg', 'c1_125.jpg', 'c32_11.jpg', 'c41_102.jpg', 'c0_70.jpg', 'c13_111.jpg', 'c34_54.jpg', 'c40_42.jpg', 'c14_48.jpg', 'c27_2.jpg', 'c31_134.jpg', 'c17_103.jpg', 'c8_93.jpg', 'c42_72.jpg', 'c48_78.jpg', 'c4_23.jpg', 'c12_39.jpg', 'c51_19.jpg', 'c22_76.jpg', 'c43_12.jpg', 'c46_49.jpg', 'c50_147.jpg', 'c41_36.jpg', 'c3_7.jpg', 'c0_13.jpg', 'c28_24.jpg', 'c26_112.jpg', 'c49_47.jpg', 'c36_52.jpg', 'c32_29.jpg', 'c28_138.jpg', 'c17_119.jpg', 'c45_51.jpg', 'c32_33.jpg', 'c37_141.jpg', 'c2_22.jpg', 'c21_89.jpg', 'c12_67.jpg', 'c5_80.jpg', 'c47_83.jpg', 'c24_53.jpg', 'c17_116.jpg', 'c36_95.jpg', 'c8_5.jpg', 'c21_143.jpg', 'c34_91.jpg', 'c47_60.jpg', 'c29_41.jpg', 'c14_114.jpg', 'c11_149.jpg', 'c48_28.jpg', 'c15_58.jpg', 'c43_18.jpg', 'c41_44.jpg', 'c22_63.jpg', 'c49_113.jpg', 'c30_117.jpg', 'c43_122.jpg', 'c13_100.jpg', 'c41_148.jpg', 'c32_104.jpg', 'c15_127.jpg', 'c27_21.jpg', 'c35_126.jpg', 'c45_0.jpg', 'c48_66.jpg', 'c37_99.jpg', 'c50_9.jpg', 'c16_94.jpg', 'c2_3.jpg', 'c15_88.jpg', 'c33_8.jpg', 'c25_17.jpg', 'c37_1.jpg', 'c47_124.jpg', 'c14_121.jpg', 'c12_20.jpg', 'c19_55.jpg', 'c16_82.jpg', 'c26_57.jpg', 'c15_16.jpg', 'c35_136.jpg', 'c51_120.jpg']\n"
     ]
    },
    {
     "data": {
      "application/vnd.jupyter.widget-view+json": {
       "model_id": "17c9fe1151e44605af24de8bdc5ce6ac",
       "version_major": 2,
       "version_minor": 0
      },
      "text/plain": [
       "HBox(children=(IntProgress(value=0, max=150), HTML(value='')))"
      ]
     },
     "metadata": {},
     "output_type": "display_data"
    },
    {
     "name": "stdout",
     "output_type": "stream",
     "text": [
      "\n",
      "900\n",
      "Reading:\n",
      "['145.jpg', '34.jpg', '90.jpg', '261.jpg', '48.jpg', '289.jpg', '155.jpg', '123.jpg', '106.jpg', '158.jpg', '195.jpg', '274.jpg', '138.jpg', '162.jpg', '281.jpg', '141.jpg', '69.jpg', '273.jpg', '122.jpg', '140.jpg', '268.jpg', '117.jpg', '17.jpg', '256.jpg', '231.jpg', '251.jpg', '72.jpg', '119.jpg', '152.jpg', '287.jpg', '269.jpg', '143.jpg', '296.jpg', '248.jpg', '277.jpg', '176.jpg', '10.jpg', '161.jpg', '201.jpg', '74.jpg', '21.jpg', '134.jpg', '112.jpg', '4.jpg', '272.jpg', '44.jpg', '97.jpg', '136.jpg', '149.jpg', '181.jpg', '295.jpg', '116.jpg', '279.jpg', '194.jpg', '58.jpg', '67.jpg', '174.jpg', '147.jpg', '84.jpg', '198.jpg', '270.jpg', '114.jpg', '85.jpg', '92.jpg', '220.jpg', '47.jpg', '219.jpg', '207.jpg', '64.jpg', '159.jpg', '129.jpg', '9.jpg', '61.jpg', '51.jpg', '73.jpg', '260.jpg', '28.jpg', '11.jpg', '288.jpg', '36.jpg', '111.jpg', '218.jpg', '212.jpg', '118.jpg', '240.jpg', '224.jpg', '53.jpg', '236.jpg', '13.jpg', '46.jpg', '7.jpg', '227.jpg', '93.jpg', '259.jpg', '204.jpg', '49.jpg', '196.jpg', '75.jpg', '124.jpg', '150.jpg', '205.jpg', '135.jpg', '180.jpg', '113.jpg', '253.jpg', '31.jpg', '39.jpg', '246.jpg', '266.jpg', '262.jpg', '229.jpg', '148.jpg', '285.jpg', '24.jpg', '193.jpg', '6.jpg', '127.jpg', '233.jpg', '267.jpg', '216.jpg', '252.jpg', '142.jpg', '98.jpg', '91.jpg', '189.jpg', '151.jpg', '215.jpg', '179.jpg', '110.jpg', '291.jpg', '178.jpg', '214.jpg', '221.jpg', '19.jpg', '88.jpg', '76.jpg', '101.jpg', '25.jpg', '15.jpg', '38.jpg', '171.jpg', '12.jpg', '242.jpg', '22.jpg', '121.jpg', '275.jpg', '164.jpg', '1.jpg', '8.jpg', '55.jpg', '95.jpg', '286.jpg', '297.jpg', '103.jpg', '228.jpg', '283.jpg', '208.jpg', '264.jpg', '125.jpg', '33.jpg', '87.jpg', '290.jpg', '238.jpg', '169.jpg', '186.jpg', '165.jpg', '157.jpg', '239.jpg', '52.jpg', '108.jpg', '59.jpg', '265.jpg', '282.jpg', '77.jpg', '245.jpg', '3.jpg', '80.jpg', '79.jpg', '200.jpg', '223.jpg', '102.jpg', '278.jpg', '254.jpg', '177.jpg', '247.jpg', '156.jpg', '60.jpg', '26.jpg', '167.jpg', '54.jpg', '263.jpg', '211.jpg', '128.jpg', '16.jpg', '27.jpg', '175.jpg', '276.jpg', '82.jpg', '45.jpg', '57.jpg', '232.jpg', '184.jpg', '29.jpg', '166.jpg', '71.jpg', '190.jpg', '120.jpg', '78.jpg', '172.jpg', '63.jpg', '146.jpg', '153.jpg', '249.jpg', '89.jpg', '206.jpg', '163.jpg', '202.jpg', '40.jpg', '197.jpg', '86.jpg', '203.jpg', '210.jpg', '105.jpg', '188.jpg', '5.jpg', '237.jpg', '20.jpg', '104.jpg', '23.jpg', '133.jpg', '234.jpg', '35.jpg', '56.jpg', '284.jpg', '241.jpg', '222.jpg', '226.jpg', '83.jpg', '173.jpg', '70.jpg', '191.jpg', '192.jpg', '41.jpg', '271.jpg', '213.jpg', '2.jpg', '139.jpg', '280.jpg', '43.jpg', '257.jpg', '170.jpg', '32.jpg', '30.jpg', '217.jpg', '66.jpg', '130.jpg', '81.jpg', '255.jpg', '294.jpg', '131.jpg', '132.jpg', '137.jpg', '182.jpg', '160.jpg', '100.jpg', '235.jpg', '37.jpg', '94.jpg', '244.jpg', '65.jpg', '292.jpg', '183.jpg', '243.jpg', '250.jpg', '258.jpg', '109.jpg', '298.jpg', '68.jpg', '154.jpg', '126.jpg', '299.jpg', '107.jpg', '230.jpg', '50.jpg', '62.jpg', '96.jpg', '99.jpg', '293.jpg', '168.jpg', '0.jpg', '225.jpg', '42.jpg', '144.jpg', '199.jpg', '187.jpg', '18.jpg', '115.jpg', '185.jpg', '14.jpg', '209.jpg']\n"
     ]
    },
    {
     "data": {
      "application/vnd.jupyter.widget-view+json": {
       "model_id": "4964c64178a14a9c91afb49ea066c8c5",
       "version_major": 2,
       "version_minor": 0
      },
      "text/plain": [
       "HBox(children=(IntProgress(value=0, max=300), HTML(value='')))"
      ]
     },
     "metadata": {},
     "output_type": "display_data"
    },
    {
     "name": "stdout",
     "output_type": "stream",
     "text": [
      "\n"
     ]
    }
   ],
   "source": [
    "LEVEL = 'level_1'\n",
    "languages = ['ta', 'hi', 'en']\n",
    "\n",
    "images_train = read_all(\"../input/\"+ LEVEL+ \"_train/\" +LEVEL+\"/\"+\"background\", key_prefix='bgr_') # change the path\n",
    "for language in languages:\n",
    "   images_train.update(read_all(\"../input/\"+ LEVEL+ \"_train/\" +LEVEL+\"/\"+language, key_prefix=language+\"_\" ))\n",
    "print(len(images_train))\n",
    "\n",
    "images_test = read_all(\"../input/\"+ LEVEL+ \"_test/\" +\"kaggle_\"+LEVEL, key_prefix='')"
   ]
  },
  {
   "cell_type": "code",
   "execution_count": 6,
   "metadata": {
    "_uuid": "434836d1b9db930ada546911bc2ba15aacf61f7a",
    "colab": {},
    "colab_type": "code",
    "id": "xqcTJRmSijH-",
    "outputId": "3a26f608-868b-498d-b18d-bfae2b452d4e"
   },
   "outputs": [
    {
     "data": {
      "text/plain": [
       "['145', '34', '90', '261', '48']"
      ]
     },
     "execution_count": 6,
     "metadata": {},
     "output_type": "execute_result"
    }
   ],
   "source": [
    "list(images_test.keys())[:5]"
   ]
  },
  {
   "cell_type": "code",
   "execution_count": 7,
   "metadata": {
    "_uuid": "375b7ef1b6957b3be52396d95ca5ba6ddb71089d",
    "colab": {},
    "colab_type": "code",
    "id": "yQUKxV_FijIC",
    "outputId": "e6f2538b-3285-49ea-d6fd-7fbadc2bb975"
   },
   "outputs": [
    {
     "name": "stdout",
     "output_type": "stream",
     "text": [
      "(900, 256) (900,)\n",
      "(300, 256)\n"
     ]
    }
   ],
   "source": [
    "X_train = []\n",
    "Y_train = []\n",
    "for key, value in images_train.items():\n",
    "    X_train.append(value)\n",
    "    if key[:4] == \"bgr_\":\n",
    "        Y_train.append(0)\n",
    "    else:\n",
    "        Y_train.append(1)\n",
    "\n",
    "ID_test = []\n",
    "X_test = []\n",
    "for key, value in images_test.items():\n",
    "  ID_test.append(int(key))\n",
    "  X_test.append(value)\n",
    "  \n",
    "        \n",
    "X_train = np.array(X_train)\n",
    "Y_train = np.array(Y_train)\n",
    "X_test = np.array(X_test)\n",
    "\n",
    "print(X_train.shape, Y_train.shape)\n",
    "print(X_test.shape)"
   ]
  },
  {
   "cell_type": "code",
   "execution_count": 8,
   "metadata": {
    "_uuid": "bbbaf0cc2d06a725e1853a5fc9e194f3e6cd154c",
    "colab": {},
    "colab_type": "code",
    "id": "wy3IKx26ijIG",
    "outputId": "f571f85d-1fe6-4a33-bcf1-ca1574aa3709"
   },
   "outputs": [
    {
     "name": "stderr",
     "output_type": "stream",
     "text": [
      "/opt/conda/lib/python3.6/site-packages/sklearn/utils/validation.py:595: DataConversionWarning: Data with input dtype uint8 was converted to float64 by StandardScaler.\n",
      "  warnings.warn(msg, DataConversionWarning)\n",
      "/opt/conda/lib/python3.6/site-packages/sklearn/utils/validation.py:595: DataConversionWarning: Data with input dtype uint8 was converted to float64 by StandardScaler.\n",
      "  warnings.warn(msg, DataConversionWarning)\n",
      "/opt/conda/lib/python3.6/site-packages/sklearn/utils/validation.py:595: DataConversionWarning: Data with input dtype uint8 was converted to float64 by StandardScaler.\n",
      "  warnings.warn(msg, DataConversionWarning)\n"
     ]
    }
   ],
   "source": [
    "scaler = StandardScaler()\n",
    "X_scaled_train = scaler.fit_transform(X_train)\n",
    "X_scaled_test = scaler.transform(X_test)"
   ]
  },
  {
   "cell_type": "code",
   "execution_count": 9,
   "metadata": {
    "_uuid": "a077e9e40bc151c2d40a67072c336b6df1b7f097",
    "colab": {},
    "colab_type": "code",
    "id": "eboQW2n1ijIK",
    "outputId": "fa8fbf5d-5d5c-4463-aa3c-909d6698b9b0"
   },
   "outputs": [
    {
     "name": "stdout",
     "output_type": "stream",
     "text": [
      "[1.4928474857926401, 1.2584292945385653, 1.0724475870044392, 0.9671830992517415, 0.9031737540852991, 0.8149296225064889, 0.7336450256932815, 0.6679446195200275, 0.6253333459864884, 0.5882445016983436, 0.5506474300212255, 0.5128324622962959, 0.4696533245113488, 0.44412511660282405, 0.4159206887455703, 0.3794868071785328, 0.345164278179632, 0.3162168966608119, 0.2872910889510469, 0.2607482907041605, 0.23178763552311255, 0.20358758710266558, 0.18363247402590685, 0.16558944312750645, 0.1477525452633151, 0.12997542255275046, 0.11270364704183737, 0.09911370769054813, 0.08943304528204776, 0.08270036473273049, 0.079597382481661, 0.07836408847006134, 0.0764161057991719, 0.07472664972362612, 0.0731405481352398, 0.07160261083767976, 0.07009098483372271, 0.06846220242022158, 0.06553705240713627, 0.06262242534840312, 0.05971752921432369, 0.0568235677286225, 0.05394378459647593, 0.05108302404635605, 0.048245777982400706, 0.04543278308803431, 0.04263930426370752, 0.03985799010195648, 0.037083023905344334, 0.03431130562399595, 0.03154156808209223, 0.028773570077276104, 0.026008026626637436, 0.023247632906567412, 0.020500770134798372, 0.017793003346548566, 0.015197027362390314, 0.012871216002745047, 0.010977720534335423, 0.00946373222692264, 0.008160316042144353, 0.006968503221564639, 0.005845791026691917, 0.004780068571364382, 0.0037844173045608813, 0.0028998571952150486, 0.002184536105198155, 0.0016687988233988335, 0.0013230766230373928, 0.0010914780973885505, 0.0009300612067584561, 0.0008122247753111118, 0.0007226220213312509, 0.0006521707688361728, 0.0005952564015055304, 0.0005482517133951337, 0.0005087187375256137, 0.0004749613944002939, 0.00044576413929948305, 0.00042023316968709684, 0.000397696461257937, 0.00037763881502048086, 0.0003596584502130645, 0.00034343726199106473, 0.00032871998295253723, 0.00031529928882829765, 0.0003030049601154468, 0.0002916958663963054, 0.0002812539505249551, 0.00027157965296335524, 0.0002625883887268592, 0.00025420780423102076, 0.00024637561926155557, 0.00023903791303017555, 0.00023214775089070932, 0.00022566407497656046, 0.00021955080119730216, 0.00021377607897640557, 0.00020831168036395596, 0.0002031324927732099]\n",
      "w,b [[-1.28536299]\n",
      " [-1.73501767]\n",
      " [-1.67914329]\n",
      " [-0.79180297]\n",
      " [-0.4289965 ]\n",
      " [-0.44390495]\n",
      " [-0.28276496]\n",
      " [-0.93453493]\n",
      " [-1.29618349]\n",
      " [-0.9874463 ]\n",
      " [-0.61827943]\n",
      " [ 0.63858164]\n",
      " [-0.2476726 ]\n",
      " [ 0.1795775 ]\n",
      " [ 0.32691143]\n",
      " [ 0.1850601 ]\n",
      " [-0.66700958]\n",
      " [ 0.09071655]\n",
      " [-0.98861656]\n",
      " [-0.89642344]\n",
      " [-0.90274494]\n",
      " [-0.74223715]\n",
      " [-2.42769967]\n",
      " [-0.91282363]\n",
      " [-0.38288213]\n",
      " [ 0.82946625]\n",
      " [ 0.62497209]\n",
      " [-1.87717251]\n",
      " [-0.16036701]\n",
      " [-0.28562851]\n",
      " [-0.27770513]\n",
      " [ 0.15628223]\n",
      " [-0.29092651]\n",
      " [-0.07527677]\n",
      " [-0.78951049]\n",
      " [-1.64712443]\n",
      " [-0.6152202 ]\n",
      " [-3.19485438]\n",
      " [ 0.31298133]\n",
      " [-0.63019127]\n",
      " [-0.79179865]\n",
      " [ 0.40751488]\n",
      " [ 0.40467064]\n",
      " [ 0.07719045]\n",
      " [-2.81618772]\n",
      " [-0.37471352]\n",
      " [-0.65151783]\n",
      " [ 0.4620244 ]\n",
      " [-0.12749307]\n",
      " [-0.46189947]\n",
      " [ 0.02502724]\n",
      " [-1.10629471]\n",
      " [-2.90088665]\n",
      " [-0.80488556]\n",
      " [ 0.12771805]\n",
      " [-1.49720774]\n",
      " [-0.41924143]\n",
      " [ 0.63438675]\n",
      " [ 0.20315781]\n",
      " [-0.56223654]\n",
      " [ 0.65530734]\n",
      " [-0.03398486]\n",
      " [-0.66442388]\n",
      " [-0.07540604]\n",
      " [-0.31388546]\n",
      " [ 0.26471016]\n",
      " [-0.20145749]\n",
      " [-1.0078526 ]\n",
      " [-2.67426053]\n",
      " [-1.23586867]\n",
      " [-0.23358273]\n",
      " [-1.19207253]\n",
      " [-0.12794153]\n",
      " [ 0.21690434]\n",
      " [-0.2845697 ]\n",
      " [-0.45260516]\n",
      " [-0.00998543]\n",
      " [ 0.07761142]\n",
      " [ 0.03629455]\n",
      " [ 0.1573675 ]\n",
      " [-0.09731409]\n",
      " [ 0.55488357]\n",
      " [-0.15005418]\n",
      " [-0.91011046]\n",
      " [-2.14150774]\n",
      " [-0.91332241]\n",
      " [-1.48343928]\n",
      " [-1.68922832]\n",
      " [-1.06745221]\n",
      " [-0.47820428]\n",
      " [-0.80172504]\n",
      " [-0.88458335]\n",
      " [-0.80301851]\n",
      " [-1.08419684]\n",
      " [-0.43797013]\n",
      " [-0.30240156]\n",
      " [ 0.22099801]\n",
      " [-1.38258195]\n",
      " [-0.04298773]\n",
      " [-0.90644481]\n",
      " [-1.94488969]\n",
      " [-1.6568594 ]\n",
      " [-0.14869484]\n",
      " [-0.14829151]\n",
      " [-0.12301382]\n",
      " [ 0.2311665 ]\n",
      " [ 0.06858817]\n",
      " [-0.21393163]\n",
      " [ 0.03154535]\n",
      " [-0.36761974]\n",
      " [ 0.39040781]\n",
      " [-0.42948791]\n",
      " [ 0.16899362]\n",
      " [-1.51510637]\n",
      " [-1.06197639]\n",
      " [-0.78691181]\n",
      " [-3.61044189]\n",
      " [-5.29595254]\n",
      " [-1.2482491 ]\n",
      " [-1.30471148]\n",
      " [-1.1399387 ]\n",
      " [-0.51291628]\n",
      " [-0.08363104]\n",
      " [-0.70874189]\n",
      " [-0.2550791 ]\n",
      " [-0.01085871]\n",
      " [-0.14683124]\n",
      " [ 0.10592813]\n",
      " [ 0.19821823]\n",
      " [-1.18468398]\n",
      " [-1.73405551]\n",
      " [-3.35505039]\n",
      " [-4.63839779]\n",
      " [-2.71526103]\n",
      " [-4.37690135]\n",
      " [-2.31078138]\n",
      " [-1.68146953]\n",
      " [ 0.09279727]\n",
      " [ 0.72154791]\n",
      " [-0.39660116]\n",
      " [-0.48818783]\n",
      " [ 0.20080559]\n",
      " [ 0.19973656]\n",
      " [ 0.20613336]\n",
      " [-0.15214093]\n",
      " [-0.82676712]\n",
      " [-0.77002085]\n",
      " [-7.50246374]\n",
      " [-3.6798326 ]\n",
      " [-9.87447844]\n",
      " [-2.85957585]\n",
      " [-1.96593335]\n",
      " [-2.02355722]\n",
      " [-0.27736248]\n",
      " [ 0.58910819]\n",
      " [ 0.02235057]\n",
      " [-0.48958032]\n",
      " [-0.54507443]\n",
      " [ 0.51669267]\n",
      " [-0.12715199]\n",
      " [-1.03407678]\n",
      " [-0.77505431]\n",
      " [-2.21792509]\n",
      " [-8.31016035]\n",
      " [-4.35799113]\n",
      " [-6.38893896]\n",
      " [-7.00434349]\n",
      " [-1.15743102]\n",
      " [-1.8422351 ]\n",
      " [ 0.42252406]\n",
      " [ 0.9367323 ]\n",
      " [-0.88934886]\n",
      " [-0.91424858]\n",
      " [-0.92001826]\n",
      " [ 0.49973352]\n",
      " [-0.22149553]\n",
      " [-1.41505375]\n",
      " [ 0.17853465]\n",
      " [-1.7601168 ]\n",
      " [-8.84714756]\n",
      " [-6.6023855 ]\n",
      " [-5.77412514]\n",
      " [-5.01640302]\n",
      " [-2.7701785 ]\n",
      " [-0.92736051]\n",
      " [-0.97512738]\n",
      " [-0.22239084]\n",
      " [-0.13217861]\n",
      " [-0.40021582]\n",
      " [ 0.12688547]\n",
      " [ 0.41343603]\n",
      " [-1.03483624]\n",
      " [-1.06546331]\n",
      " [ 0.43236486]\n",
      " [-0.88975175]\n",
      " [-7.34876073]\n",
      " [-3.71213516]\n",
      " [-4.90389666]\n",
      " [-3.16873843]\n",
      " [-2.35896494]\n",
      " [-0.49629023]\n",
      " [-0.59271921]\n",
      " [ 0.72081049]\n",
      " [-0.75453096]\n",
      " [-2.82436301]\n",
      " [ 0.50577228]\n",
      " [ 0.19330911]\n",
      " [-0.57624455]\n",
      " [-0.96130624]\n",
      " [ 0.60435663]\n",
      " [-1.24664896]\n",
      " [-5.56911749]\n",
      " [-8.77493092]\n",
      " [-7.55282156]\n",
      " [-4.80364537]\n",
      " [-2.01157511]\n",
      " [-0.36259878]\n",
      " [-0.74360255]\n",
      " [-2.85185369]\n",
      " [-2.9479478 ]\n",
      " [-0.18833987]\n",
      " [ 0.1470845 ]\n",
      " [-1.04307651]\n",
      " [-1.49787948]\n",
      " [-1.90349379]\n",
      " [-1.28982985]\n",
      " [-1.24015461]\n",
      " [-2.47506609]\n",
      " [-1.2002166 ]\n",
      " [-0.82481263]\n",
      " [-1.08032677]\n",
      " [-0.95884393]\n",
      " [-0.5888961 ]\n",
      " [-0.85022011]\n",
      " [-1.332138  ]\n",
      " [-1.51296911]\n",
      " [-1.44743119]\n",
      " [-1.69749376]\n",
      " [-3.88863218]\n",
      " [-1.63923411]\n",
      " [-1.27394157]\n",
      " [ 0.24726959]\n",
      " [-0.3910938 ]\n",
      " [ 0.21186806]\n",
      " [-0.29101179]\n",
      " [ 0.11691085]\n",
      " [-0.06818639]\n",
      " [-0.78730119]\n",
      " [-0.27392068]\n",
      " [ 0.1408457 ]\n",
      " [ 0.3586525 ]\n",
      " [-1.28668451]\n",
      " [-0.30104111]\n",
      " [-0.50208187]\n",
      " [-2.17513589]\n",
      " [-1.85377005]] 9.805028288402447\n"
     ]
    },
    {
     "data": {
      "image/png": "[encoded data removed]",
      "text/plain": [
       "<Figure size 432x288 with 1 Axes>"
      ]
     },
     "metadata": {},
     "output_type": "display_data"
    }
   ],
   "source": [
    "sn_mse = SigmoidNeuron1()\n",
    "sn_mse.fit(X_scaled_train, Y_train, epochs=100, learning_rate=0.015, loss_fn=\"mse\", display_loss=True)"
   ]
  },
  {
   "cell_type": "code",
   "execution_count": 10,
   "metadata": {
    "_uuid": "6ee88c0f9b3223892fd32678c441d9e57b3f82b9"
   },
   "outputs": [
    {
     "data": {
      "application/vnd.jupyter.widget-view+json": {
       "model_id": "d851c0ab046a48798456d97f5113d5a0",
       "version_major": 2,
       "version_minor": 0
      },
      "text/plain": [
       "HBox(children=(IntProgress(value=0), HTML(value='')))"
      ]
     },
     "metadata": {},
     "output_type": "display_data"
    },
    {
     "name": "stdout",
     "output_type": "stream",
     "text": [
      "\n",
      "dict_values([1.4928474857926406, 1.2584292945385656, 1.072447587004439, 0.9671830992517415, 0.903173754085298, 0.8149296225064881, 0.7336450256932812, 0.667944619520027, 0.6253333459864876, 0.5882445016983427, 0.5506474300212247, 0.5128324622962953, 0.4696533245113485, 0.4441251166028237, 0.4159206887455703, 0.3794868071785329, 0.3451642781796321, 0.3162168966608119, 0.287291088951047, 0.26074829070416045, 0.23178763552311263, 0.20358758710266575, 0.18363247402590696, 0.16558944312750662, 0.1477525452633153, 0.12997542255275069, 0.1127036470418375, 0.0991137076905484, 0.08943304528204805, 0.08270036473273067, 0.07959738248166108, 0.07836408847006127, 0.07641610579917182, 0.07472664972362607, 0.07314054813523975, 0.07160261083767967, 0.07009098483372266, 0.06846220242022168, 0.06553705240713635, 0.06262242534840318, 0.0597175292143238, 0.05682356772862257, 0.05394378459647598, 0.05108302404635615, 0.048245777982400755, 0.04543278308803442, 0.042639304263707614, 0.039857990101956606, 0.037083023905344445, 0.03431130562399601, 0.03154156808209229, 0.028773570077276205, 0.026008026626637523, 0.023247632906567502, 0.02050077013479843, 0.017793003346548632, 0.015197027362390415, 0.012871216002745225, 0.010977720534335576, 0.009463732226922804, 0.008160316042144523, 0.006968503221564864, 0.005845791026692112, 0.004780068571364562, 0.0037844173045610487, 0.002899857195215192, 0.002184536105198266, 0.0016687988233989079, 0.0013230766230374403, 0.001091478097388589, 0.0009300612067584732, 0.0008122247753111286, 0.000722622021331264, 0.0006521707688361861, 0.000595256401505536, 0.0005482517133951339, 0.0005087187375256173, 0.00047496139440029685, 0.0004457641392994876, 0.0004202331696870955, 0.0003976964612579374, 0.00037763881502048347, 0.00035965845021306757, 0.00034343726199106517, 0.00032871998295253864, 0.00031529928882829944, 0.00030300496011544873, 0.0002916958663963079, 0.0002812539505249532, 0.00027157965296335204, 0.00026258838872685985, 0.00025420780423102244, 0.0002463756192615565, 0.00023903791303017444, 0.00023214775089070865, 0.0002256640749765607, 0.0002195508011973018, 0.0002137760789764061, 0.00020831168036395623, 0.0002031324927732104])\n",
      "w,b [[-1.28536299 -1.73501767 -1.67914329 -0.79180297 -0.4289965  -0.44390495\n",
      "  -0.28276496 -0.93453493 -1.29618349 -0.9874463  -0.61827943  0.63858164\n",
      "  -0.2476726   0.1795775   0.32691143  0.1850601  -0.66700958  0.09071655\n",
      "  -0.98861656 -0.89642344 -0.90274494 -0.74223715 -2.42769967 -0.91282363\n",
      "  -0.38288213  0.82946625  0.62497209 -1.87717251 -0.16036701 -0.28562851\n",
      "  -0.27770513  0.15628223 -0.29092651 -0.07527677 -0.78951049 -1.64712443\n",
      "  -0.6152202  -3.19485438  0.31298133 -0.63019127 -0.79179865  0.40751488\n",
      "   0.40467064  0.07719045 -2.81618772 -0.37471352 -0.65151783  0.4620244\n",
      "  -0.12749307 -0.46189947  0.02502724 -1.10629471 -2.90088665 -0.80488556\n",
      "   0.12771805 -1.49720774 -0.41924143  0.63438675  0.20315781 -0.56223654\n",
      "   0.65530734 -0.03398486 -0.66442388 -0.07540604 -0.31388546  0.26471016\n",
      "  -0.20145749 -1.0078526  -2.67426053 -1.23586867 -0.23358273 -1.19207253\n",
      "  -0.12794153  0.21690434 -0.2845697  -0.45260516 -0.00998543  0.07761142\n",
      "   0.03629455  0.1573675  -0.09731409  0.55488357 -0.15005418 -0.91011046\n",
      "  -2.14150774 -0.91332241 -1.48343928 -1.68922832 -1.06745221 -0.47820428\n",
      "  -0.80172504 -0.88458335 -0.80301851 -1.08419684 -0.43797013 -0.30240156\n",
      "   0.22099801 -1.38258195 -0.04298773 -0.90644481 -1.94488969 -1.6568594\n",
      "  -0.14869484 -0.14829151 -0.12301382  0.2311665   0.06858817 -0.21393163\n",
      "   0.03154535 -0.36761974  0.39040781 -0.42948791  0.16899362 -1.51510637\n",
      "  -1.06197639 -0.78691181 -3.61044189 -5.29595254 -1.2482491  -1.30471148\n",
      "  -1.1399387  -0.51291628 -0.08363104 -0.70874189 -0.2550791  -0.01085871\n",
      "  -0.14683124  0.10592813  0.19821823 -1.18468398 -1.73405551 -3.35505039\n",
      "  -4.63839779 -2.71526103 -4.37690135 -2.31078138 -1.68146953  0.09279727\n",
      "   0.72154791 -0.39660116 -0.48818783  0.20080559  0.19973656  0.20613336\n",
      "  -0.15214093 -0.82676712 -0.77002085 -7.50246374 -3.6798326  -9.87447844\n",
      "  -2.85957585 -1.96593335 -2.02355722 -0.27736248  0.58910819  0.02235057\n",
      "  -0.48958032 -0.54507443  0.51669267 -0.12715199 -1.03407678 -0.77505431\n",
      "  -2.21792509 -8.31016035 -4.35799113 -6.38893896 -7.00434349 -1.15743102\n",
      "  -1.8422351   0.42252406  0.9367323  -0.88934886 -0.91424858 -0.92001826\n",
      "   0.49973352 -0.22149553 -1.41505375  0.17853465 -1.7601168  -8.84714756\n",
      "  -6.6023855  -5.77412514 -5.01640302 -2.7701785  -0.92736051 -0.97512738\n",
      "  -0.22239084 -0.13217861 -0.40021582  0.12688547  0.41343603 -1.03483624\n",
      "  -1.06546331  0.43236486 -0.88975175 -7.34876073 -3.71213516 -4.90389666\n",
      "  -3.16873843 -2.35896494 -0.49629023 -0.59271921  0.72081049 -0.75453096\n",
      "  -2.82436301  0.50577228  0.19330911 -0.57624455 -0.96130624  0.60435663\n",
      "  -1.24664896 -5.56911749 -8.77493092 -7.55282156 -4.80364537 -2.01157511\n",
      "  -0.36259878 -0.74360255 -2.85185369 -2.9479478  -0.18833987  0.1470845\n",
      "  -1.04307651 -1.49787948 -1.90349379 -1.28982985 -1.24015461 -2.47506609\n",
      "  -1.2002166  -0.82481263 -1.08032677 -0.95884393 -0.5888961  -0.85022011\n",
      "  -1.332138   -1.51296911 -1.44743119 -1.69749376 -3.88863218 -1.63923411\n",
      "  -1.27394157  0.24726959 -0.3910938   0.21186806 -0.29101179  0.11691085\n",
      "  -0.06818639 -0.78730119 -0.27392068  0.1408457   0.3586525  -1.28668451\n",
      "  -0.30104111 -0.50208187 -2.17513589 -1.85377005]] [9.80502829]\n"
     ]
    },
    {
     "data": {
      "image/png": "[encoded data removed]",
      "text/plain": [
       "<Figure size 432x288 with 1 Axes>"
      ]
     },
     "metadata": {},
     "output_type": "display_data"
    }
   ],
   "source": [
    "sn_mse = SigmoidNeuron()\n",
    "sn_mse.fit(X_scaled_train, Y_train, epochs=100, learning_rate=0.015, loss_fn=\"ce\", display_loss=True)"
   ]
  },
  {
   "cell_type": "code",
   "execution_count": 11,
   "metadata": {
    "_uuid": "9de627acb7de7897986e76cbd7a0292699f58d57",
    "colab": {},
    "colab_type": "code",
    "id": "547SFsgsijIO",
    "outputId": "e6595d5e-a9e0-4b5f-f7b5-a56297bc69c0"
   },
   "outputs": [],
   "source": [
    "\n",
    "#sn_ce.fit(X_scaled_train, Y_train, epochs=100, learning_rate=0.015, loss_fn=\"ce\", display_loss=True)\n",
    "\n",
    "from sklearn.model_selection import KFold # import KFold\n",
    "\n",
    "kf = KFold(n_splits=8,shuffle=True) # Define the split - into 10 folds \n",
    "kf.get_n_splits(X_scaled_train) # returns the number of splitting iterations in the cross-validator\n",
    "#print(kf) \n",
    "\n",
    "\n",
    "def cross_validation(learning_rate,epochs):\n",
    "    acc =[]\n",
    "    for train_index, test_index in kf.split(X_scaled_train):\n",
    "        #print(train_index,test_index)\n",
    "        sn_ce = SigmoidNeuron1()\n",
    "        sn_ce.fit(X_scaled_train[train_index], Y_train[train_index], epochs=epochs, learning_rate=learning_rate, loss_fn=\"ce\", display_loss=False)\n",
    "        Y_pred_binarised_train = (sn_ce.predict(X_scaled_train[test_index])>= 0.5).astype(\"int\").ravel()\n",
    "        accuracy_test = accuracy_score(Y_pred_binarised_train, Y_train[test_index])\n",
    "        acc.append(accuracy_test)\n",
    "    #print(acc)\n",
    "    accuracy =sum(acc)/len(acc)\n",
    "    return accuracy\n",
    "\n"
   ]
  },
  {
   "cell_type": "code",
   "execution_count": 12,
   "metadata": {
    "_uuid": "55f9b5d7f113accf782423bd9302c3438d189533"
   },
   "outputs": [],
   "source": [
    "#epochs_list =[4000,6000,7000]\n",
    "#lr_rate_list =[0.0003,0.0008,0.0005]\n",
    "#acc_dic ={}\n",
    "#for epoch in epochs_list:\n",
    "#    for lr_rate in lr_rate_list:\n",
    "#        acc_dic[(epoch,lr_rate)] = cross_validation(lr_rate,epoch)\n",
    "\n",
    "#print(acc_dic)"
   ]
  },
  {
   "cell_type": "code",
   "execution_count": 13,
   "metadata": {
    "_uuid": "695bdeb92ad30e094edd1d49252ef7dbe9462b04"
   },
   "outputs": [
    {
     "name": "stdout",
     "output_type": "stream",
     "text": [
      "{(40, 0.006): 0.9755550726927938, (40, 0.02): 0.9766810208596713, (40, 0.015): 0.9744488780025284, (40, 0.01): 0.9744291245259166, (40, 0.008): 0.9722463653603034, (100, 0.006): 0.9755945796460178, (100, 0.02): 0.9755748261694057, (100, 0.015): 0.9755155657395702, (100, 0.01): 0.973322929835651, (100, 0.008): 0.9767106510745891, (1000, 0.006): 0.9788835335018964, (1000, 0.02): 0.9777674620733249, (1000, 0.015): 0.9766316371681415, (1000, 0.01): 0.981125553097345, (1000, 0.008): 0.9788736567635904, (2000, 0.006): 0.9822021175726929, (2000, 0.02): 0.9777773388116309, (2000, 0.015): 0.9789032869785083, (2000, 0.01): 0.9811156763590391, (2000, 0.008): 0.9788934102402023}\n"
     ]
    }
   ],
   "source": [
    "#Grid Search\n",
    "epochs_list =[40,100,1000,2000]\n",
    "lr_rate_list =[0.006,0.020,0.015,0.010,0.008]\n",
    "acc_dic ={}\n",
    "for epoch in epochs_list:\n",
    "    for lr_rate in lr_rate_list:\n",
    "        acc_dic[(epoch,lr_rate)] = cross_validation(lr_rate,epoch)\n",
    "\n",
    "print(acc_dic)"
   ]
  },
  {
   "cell_type": "code",
   "execution_count": 14,
   "metadata": {
    "_uuid": "057405b02b8079ebc5f71fdf20f36491f7db2ed2"
   },
   "outputs": [
    {
     "name": "stdout",
     "output_type": "stream",
     "text": [
      "[0.24141022771761433, 0.20608144382978502, 0.17802746487184043, 0.15577235535477868, 0.13758574747264185, 0.12235019845319749, 0.10944564355846778, 0.09846155748046585, 0.08904570417200895, 0.08088150126987238, 0.07371627581578824, 0.0673713168490234, 0.06172726317735438, 0.056703201397155324, 0.05223942162646257, 0.048285598629691236, 0.04479402098139058, 0.04171702460565315, 0.03900718345844463, 0.036618647624356154, 0.034508532637406504, 0.03263790972322645, 0.030972328321874187, 0.02948193851432005, 0.028141311668703862, 0.026929059608614542, 0.025827344196645976, 0.024821352386293283, 0.02389878998098631, 0.023049425758972432, 0.02226470014718591, 0.021537400639051588, 0.020861399154900366, 0.020231443235066652, 0.01964299199602785, 0.019092088136532792, 0.018575258274537293, 0.018089435124343516, 0.017631896264066783, 0.01720021538046168, 0.016792222856797347, 0.016405973372056157, 0.016039718810986047, 0.015691885262695538, 0.015361053235539051, 0.015045940464696986, 0.014745386861069444, 0.014458341267135242, 0.014183849764151707, 0.013921045328109834, 0.013669138668178963, 0.013427410107086752, 0.013195202381950863, 0.012971914259020206, 0.01275699486809237, 0.012549938672942788, 0.012350281003418841, 0.012157594083197559, 0.011971483494724527, 0.011791585029635277, 0.01161756187906274, 0.011449102123702095, 0.011285916488380955, 0.011127736330210847, 0.010974311833218961, 0.010825410385723957, 0.010680815119670253, 0.010540323593713673, 0.010403746604101418, 0.010270907109348979, 0.010141639256419732, 0.010015787497594542, 0.009893205788505019, 0.009773756858925167, 0.00965731154888797, 0.009543748203543189, 0.009432952120913095, 0.009324815047349985, 0.009219234716065486, 0.0091161144246009, 0.009015362647544227, 0.008916892681187089, 0.008820622317154213, 0.008726473542342947, 0.008634372262776845, 0.008544248049216397, 0.008456033902583872, 0.008369666037448532, 0.008285083681987604, 0.008202228892992814, 0.008121046384626076, 0.008041483369752548, 0.007963489412788106, 0.00788701629309814, 0.007812017878072689, 0.007738450005084503, 0.007666270371608217, 0.007595438432844083, 0.007525915306249034, 0.007457663682431386, 0.007390647741912587, 0.007324833077303788, 0.007260186620484793, 0.007196676574406559, 0.007134272349173541, 0.007072944502089095, 0.007012664681374919, 0.0069534055732988756, 0.006895140852468108, 0.006837845135063913, 0.00678149393481238, 0.006726063621502099, 0.006671531381874681, 0.006617875182727967, 0.006565073736082934, 0.0065131064662789385, 0.006461953478870103, 0.006411595531206162, 0.006362014004590318, 0.006313190877912975, 0.006265108702669464, 0.006217750579274931, 0.006171100134597206, 0.006125141500632185, 0.006079859294253811, 0.006035238597973899, 0.005991264941651239, 0.005947924285095653, 0.0059052030015134165, 0.005863087861746488, 0.005821566019259925, 0.0057806249958348285, 0.005740252667927848, 0.005700437253659411, 0.005661167300396497, 0.005622431672897737, 0.005584219541989308, 0.005546520373744424, 0.005509323919138836, 0.005472620204157166, 0.005436399520327054, 0.005400652415658303, 0.005365369685966601, 0.005330542366562262, 0.005296161724284828, 0.005262219249867334, 0.005228706650612515, 0.005195615843367287, 0.00516293894777859, 0.005130668279819602, 0.0050987963455709235, 0.005067315835246415, 0.005036219617450773, 0.005005500733659075, 0.004975152392907015, 0.004945167966682775, 0.004915540984011043, 0.004886265126720535, 0.004857334224886543, 0.004828742252441037, 0.004800483322942811, 0.004772551685500154, 0.004744941720840429, 0.004717647937519043, 0.004690664968262644, 0.004663987566440425, 0.004637610602658602, 0.004611529061471941, 0.0045857380382087086, 0.004560232735903541, 0.004535008462333748, 0.004510060627155642, 0.004485384739135831, 0.004460976403474733, 0.004436831319217447, 0.004412945276749898, 0.004389314155375602, 0.004365933920970977, 0.004342800623715519, 0.00431991039589411, 0.004297259449769162, 0.0042748440755189365, 0.0042526606392410135, 0.00423070558101696, 0.004208975413037175, 0.004187466717782887, 0.004166176146263447, 0.0041451004163074855, 0.0041242363109048295, 0.004103580676598467, 0.00408313042192429, 0.004062882515896749, 0.004042833986539276, 0.004022981919457618, 0.0040033234564546254, 0.00398385579418505, 0.003964576182849257, 0.0039454819249239645, 0.003926570373929389, 0.00390783893323131, 0.0038892850548763822, 0.0038709062384608595, 0.0038527000300299275, 0.003834664021008578, 0.003816795847160925, 0.0037990931875790477, 0.0037815537636984877, 0.003764175338341424, 0.003746955714785171, 0.003729892735855853, 0.0037129842830462127, 0.0036962282756574376, 0.003679622669963244, 0.0036631654583961135, 0.003646854668755158, 0.0036306883634345016, 0.00361466463867183, 0.0035987816238164817, 0.003583037480616131, 0.0035674304025223665, 0.00355195861401337, 0.00353662036993442, 0.003521413954854626, 0.0035063376824404514, 0.0034913898948442214, 0.003476568962108892, 0.00346187328158685, 0.0034473012773734713, 0.003432851399754575, 0.0034185221246677906, 0.003404311953176652, 0.003390219410957833, 0.0033762430478007513, 0.003362381437119277, 0.003348633175475324, 0.0033349968821136874, 0.0033214711985081833, 0.003308054787918492, 0.0032947463349576574, 0.003281544545169495, 0.0032684481446164575, 0.0032554558794765692, 0.0032425665156501898, 0.003229778838375981, 0.003217091651855282, 0.0032045037788858244, 0.0031920140605032525, 0.0031796213556312893, 0.003167324540739705, 0.0031551225095101114, 0.0031430141725093457, 0.003130998456870155, 0.003119074305979013, 0.003107240679171413, 0.003095496551433046, 0.003083840913108595, 0.003072272769616381, 0.0030607911411695147, 0.003049395062503091, 0.003038083582607561, 0.0030268557644676716, 0.0030157106848074625, 0.003004647433840213, 0.0029936651150243225, 0.0029827628448243957, 0.0029719397524770627, 0.0029611949797622122, 0.0029505276807790704, 0.002939937021726739, 0.0029294221806897038, 0.00291898234742767, 0.0029086167231700297, 0.0028983245204142857, 0.0028881049627291337, 0.0028779572845612695, 0.0028678807310462888, 0.002857874557823713, 0.0028479380308557116, 0.0028380704262492415, 0.002828271030082323, 0.002818539138233556, 0.0028088740562152745, 0.0027992750990098237, 0.002789741590909438, 0.0027802728653592264, 0.0027708682648031825, 0.0027615271405335992, 0.0027522488525430554, 0.0027430327693797408, 0.0027338782680055235, 0.002724784733656605, 0.002715751559707143, 0.002706778147535734, 0.0026978639063938658, 0.0026890082532778138, 0.0026802106128022657, 0.0026714704170767056, 0.0026627871055842963, 0.0026541601250630394, 0.0026455889293888805, 0.0026370729794616228, 0.0026286117430925336, 0.00262020469489435, 0.002611851316173422, 0.0026035510948234962, 0.002595303525222071, 0.0025871081081281838, 0.0025789643505824155, 0.002570871765808928, 0.0025628298731186373, 0.002554838197814989, 0.0025468962711009627, 0.0025390036299880866, 0.002531159817206832, 0.0025233643811188996, 0.002515616875631121, 0.002507916860110633, 0.002500263899301942, 0.002492657563245432, 0.0024850974271969826, 0.002477583071549643, 0.0024701140817560926, 0.0024626900482530574, 0.002455310566386663, 0.0024479752363392895, 0.0024406836630576035, 0.0024334354561821735, 0.0024262302299780714, 0.002419067603266433, 0.002411947199358124, 0.00240486864598731, 0.0023978315752473125, 0.002390835623527093, 0.00238388043144858, 0.0023769656438057066, 0.0023700909095039145, 0.0023632558815010673, 0.002356460216749426, 0.0023497035761380074, 0.002342985624436929, 0.002336306030241687, 0.002329664465919101, 0.0023230606075538844, 0.002316494134896131, 0.0023099647313095653, 0.002303472083721109, 0.0022970158825706215, 0.002290595821762266, 0.0022842115986157893, 0.0022778629138194783, 0.0022715494713833394, 0.00226527097859325, 0.002259027145965703, 0.0022528176872037508, 0.002246642319152972, 0.002240500761758809, 0.002234392738024157, 0.0022283179739678526, 0.0022222761985840355, 0.0022162671438014023, 0.0022102905444441696, 0.002204346138192917, 0.0021984336655461803, 0.0021925528697829834, 0.002186703496925615, 0.0021808852957031265, 0.00217509801751544, 0.0021693414163980176, 0.0021636152489869797, 0.0021579192744851385, 0.0021522532546278074, 0.0021466169536500934, 0.0021410101382540246, 0.0021354325775764064, 0.0021298840431572662, 0.002124364308908467, 0.00211887315108345, 0.002113410348246526, 0.0021079756812436468, 0.002102568933172741, 0.0020971898893550876, 0.002091838337306854, 0.0020865140667111603, 0.0020812168693905716, 0.002075946539279995, 0.0020707028723999056, 0.0020654856668301715, 0.002060294722683988, 0.002055129842082556, 0.002049990829129796, 0.0020448774898877533, 0.002039789632351946, 0.0020347270664276837, 0.002029689603906214, 0.0020246770584413654, 0.002019689245526724, 0.00201472598247292, 0.0020097870883852282, 0.002004872384141887, 0.0019999816923721957, 0.0019951148374351634, 0.0019902716453987896, 0.00198545194401884, 0.001980655562719069, 0.001975882332570455, 0.0019711320862719323, 0.001966404658130391, 0.001961699884041664, 0.0019570176014715762, 0.0019523576494369925, 0.0019477198684876296, 0.001943104100687598, 0.0019385101895977254, 0.0019339379802578072, 0.0019293873191690478, 0.0019248580542769926, 0.0019203500349546437, 0.0019158631119856255, 0.0019113971375478032, 0.0019069519651970241, 0.0019025274498510071, 0.0018981234477738237, 0.0018937398165600023, 0.0018893764151193633, 0.0018850331036618026, 0.0018807097436825068, 0.0018764061979469734, 0.0018721223304765811, 0.001867858006534486, 0.0018636130926111044, 0.001859387456410438, 0.0018551809668362245, 0.0018509934939784415, 0.0018468249090998025, 0.0018426750846226559, 0.0018385438941160483, 0.0018344312122825362, 0.0018303369149459472, 0.001826260879038554, 0.0018222029825889013, 0.0018181631047094599, 0.001814141125584869, 0.0018101369264599018, 0.0018061503896277071, 0.0018021813984184787, 0.001798229837187885, 0.0017942955913059738, 0.0017903785471458907, 0.001786478592073083, 0.0017825956144344767, 0.0017787295035477863, 0.0017748801496908569, 0.0017710474440916096, 0.001767231278917448, 0.0017634315472652492, 0.001759648143151463, 0.001755880961502217, 0.0017521298981433378, 0.001748394849791138, 0.001744675714042658, 0.001740972389366406, 0.0017372847750929566, 0.0017336127714060886, 0.0017299562793334788, 0.0017263152007380516, 0.0017226894383089407, 0.0017190788955530618, 0.0017154834767863544, 0.001711903087125431, 0.0017083376324792026, 0.0017047870195404976, 0.0017012511557781668, 0.0016977299494286852, 0.0016942233094886484, 0.0016907311457065432, 0.0016872533685750775, 0.0016837898893237663, 0.0016803406199110166, 0.0016769054730168323, 0.001673484362035603, 0.0016700772010684853, 0.001666683904916399, 0.0016633043890728802, 0.0016599385697170749, 0.0016565863637067282, 0.0016532476885714861, 0.0016499224625059533, 0.0016466106043631014, 0.001643312033647553, 0.0016400266705091733, 0.0016367544357367102, 0.001633495250751036, 0.0016302490375992998, 0.0016270157189483673, 0.0016237952180789086, 0.0016205874588791334, 0.0016173923658389243, 0.0016142098640438453, 0.001611039879169182, 0.001607882337474496, 0.0016047371657973764, 0.0016016042915482104, 0.0015984836427044744, 0.0015953751478050271, 0.0015922787359448501, 0.0015891943367697266, 0.0015861218804705693, 0.0015830612977784598, 0.0015800125199592959, 0.0015769754788086357, 0.001573950106646691, 0.0015709363363132168, 0.0015679341011625386, 0.0015649433350585953, 0.001561963972370286, 0.0015589959479662824, 0.001556039197210736, 0.0015530936559581246, 0.001550159260548999, 0.001547235947805093, 0.0015443236550249726, 0.001541422319979391, 0.0015385318809070813, 0.0015356522765101175, 0.0015327834459496331, 0.001529925328841671, 0.0015270778652529038, 0.001524240995696189, 0.0015214146611268193, 0.0015185988029380358, 0.0015157933629572642, 0.0015129982834419474, 0.0015102135070755695, 0.0015074389769639351, 0.0015046746366310089, 0.001501920430015147, 0.001499176301465469, 0.001496442195737984, 0.0014937180579918856, 0.0014910038337857786, 0.0014882994690743213, 0.0014856049102043069, 0.001482920103911316, 0.0014802449973161911, 0.0014775795379214718, 0.0014749236736080194, 0.0014722773526315263, 0.001469640523619362, 0.0014670131355670264, 0.0014643951378348204, 0.0014617864801449588, 0.001459187112577816, 0.001456596985569232, 0.0014540160499069252, 0.001451444256727754, 0.0014488815575143669, 0.001446327904092211, 0.0014437832486266767, 0.0014412475436197144, 0.0014387207419073436, 0.0014362027966564393, 0.0014336936613617982, 0.0014311932898434837, 0.001428701636243905, 0.00142621865502482, 0.0014237443009648275, 0.0014212785291564736, 0.001418821295003684, 0.0014163725542186544, 0.0014139322628198348, 0.0014115003771286766, 0.001409076853767422, 0.001406661649656301, 0.0014042547220111609, 0.0014018560283407104, 0.0013994655264442503, 0.00139708317440893, 0.00139470893060763, 0.0013923427536962779, 0.0013899846026114793, 0.0013876344365681768, 0.0013852922150573554, 0.0013829578978435885, 0.0013806314449628266, 0.0013783128167200861, 0.001376001973687129, 0.0013736988767004065, 0.0013714034868585686, 0.0013691157655203988, 0.0013668356743028677, 0.0013645631750785134, 0.001362298229973819, 0.0013600408013666454, 0.001357790851884522, 0.0013555483444022505, 0.0013533132420402957, 0.0013510855081621562, 0.001348865106372974, 0.0013466520005171619, 0.0013444461546765344, 0.0013422475331684542, 0.0013400561005436778, 0.0013378718215847354, 0.0013356946613039072, 0.0013335245849412682, 0.001331361557962871, 0.001329205546059147, 0.0013270565151426847, 0.0013249144313468785, 0.0013227792610236472, 0.0013206509707421189, 0.0013185295272865928, 0.0013164148976550576, 0.0013143070490571934, 0.0013122059489128527, 0.0013101115648504146, 0.0013080238647049742, 0.0013059428165167948, 0.001303868388529571, 0.0013018005491890747, 0.001299739267141153, 0.0012976845112304466, 0.001295636250498809, 0.0012935944541835184, 0.0012915590917159062, 0.0012895301327199632, 0.0012875075470104502, 0.001285491304591782, 0.0012834813756562912, 0.0012814777305828137, 0.0012794803399354111, 0.0012774891744615439, 0.0012755042050911676, 0.0012735254029347426, 0.0012715527392823127, 0.001269586185601725, 0.0012676257135376423, 0.001265671294909877, 0.001263722901712137, 0.001261780506110652, 0.0012598440804429197, 0.0012579135972163758, 0.0012559890291070817, 0.0012540703489583517, 0.0012521575297795118, 0.0012502505447447862, 0.0012483493671918595, 0.0012464539706206524, 0.0012445643286922144, 0.0012426804152272332, 0.001240802204205244, 0.0012389296697630182, 0.0012370627861936314, 0.0012352015279451357, 0.001233345869619518, 0.0012314957859714496, 0.001229651251907135, 0.0012278122424833559, 0.0012259787329059726, 0.0012241506985293245, 0.0012223281148545449, 0.0012205109575289638, 0.001218699202344783, 0.0012168928252378939, 0.0012150918022871256, 0.001213296109712886, 0.0012115057238763778, 0.0012097206212783105, 0.0012079407785579208, 0.001206166172492156, 0.001204396779994458, 0.0012026325781138237, 0.0012008735440338348, 0.0011991196550716063, 0.0011973708886768284, 0.001195627222430864, 0.001193888634045813, 0.0011921551013633707, 0.001190426602354101, 0.0011887031151163038, 0.0011869846178753083, 0.0011852710889824656, 0.0011835625069139993, 0.0011818588502706103, 0.0011801600977761294, 0.0011784662282767668, 0.0011767772207402908, 0.001175093054255174, 0.0011734137080296593, 0.001171739161390836, 0.0011700693937839906, 0.001168404384771633, 0.001166744114032525, 0.001165088561361241, 0.0011634377066669784, 0.001161791529972897, 0.0011601500114153057, 0.0011585131312428047, 0.0011568808698156404, 0.001155253207604684, 0.0011536301251908422, 0.0011520116032643192, 0.0011503976226235706, 0.0011487881641749004, 0.001147183208931458, 0.0011455827380124984, 0.0011439867326428629, 0.0011423951741519828, 0.0011408080439732572, 0.0011392253236434293, 0.0011376469948017134, 0.0011360730391890292, 0.0011345034386476172, 0.001132938175120006, 0.0011313772306484583, 0.0011298205873743444, 0.0011282682275372212, 0.0011267201334744777, 0.0011251762876204297, 0.0011236366725058313, 0.001122101270756998, 0.0011205700650952894, 0.0011190430383365094, 0.0011175201733901478, 0.0011160014532587237, 0.0011144868610374141, 0.0011129763799130063, 0.0011114699931636539, 0.001109967684158004, 0.0011084694363547028, 0.0011069752333018367, 0.0011054850586362528, 0.001103998896082817, 0.0011025167294541522, 0.001101038542649804, 0.0010995643196556799, 0.0010980940445436303, 0.0010966277014706123, 0.0010951652746783677, 0.0010937067484926685, 0.0010922521073230013, 0.0010908013356616725, 0.0010893544180835758, 0.0010879113392453892, 0.0010864720838851779, 0.0010850366368219567, 0.0010836049829547865, 0.0010821771072627477, 0.0010807529948039234, 0.0010793326307152566, 0.0010779160002118025, 0.0010765030885863443, 0.0010750938812087454, 0.0010736883635255642, 0.0010722865210596121, 0.0010708883394092363, 0.0010694938042480533, 0.0010681029013242613, 0.0010667156164602574, 0.0010653319355522683, 0.001063951844569611, 0.001062575329554458, 0.0010612023766212386, 0.001059832971956077, 0.0010584671018166658, 0.001057104752531445, 0.0010557459104993468, 0.0010543905621892375, 0.0010530386941396143, 0.0010516902929579163, 0.001050345345320385, 0.0010490038379713284, 0.0010476657577228946, 0.0010463310914546066, 0.0010449998261128066, 0.0010436719487103845, 0.001042347446326307, 0.0010410263061050482, 0.0010397085152564387, 0.0010383940610550623, 0.0010370829308399443, 0.0010357751120140429, 0.0010344705920439633, 0.0010331693584594102, 0.0010318713988530463, 0.0010305767008797382, 0.001029285252256449, 0.0010279970407617242, 0.001026712054235443, 0.0010254302805781507, 0.001024151707751033, 0.001022876323775255, 0.0010216041167316905, 0.0010203350747606545, 0.0010190691860612775, 0.0010178064388914867, 0.0010165468215672835, 0.0010152903224626272, 0.0010140369300090186, 0.001012786632695157, 0.0010115394190664147, 0.0010102952777247308, 0.0010090541973281947, 0.0010078161665906294, 0.0010065811742812534, 0.0010053492092244258, 0.0010041202602992232, 0.0010028943164391982, 0.0010016713666319182, 0.0010004513999187184, 0.0009992344053944692, 0.0009980203722069333, 0.0009968092895568563, 0.000995601146697369, 0.0009943959329337, 0.0009931936376229248, 0.000991994250173712, 0.0009907977600458243, 0.0009896041567499087, 0.000988413429847351, 0.0009872255689496094, 0.000986040563718305, 0.000984858403864564, 0.0009836790791489761, 0.0009825025793813147, 0.0009813288944199277, 0.000980158014171877, 0.0009789899285922439, 0.0009778246276841481, 0.0009766621014983246, 0.0009755023401328184, 0.0009743453337327967, 0.0009731910724901846, 0.0009720395466434349, 0.0009708907464772039, 0.0009697446623221941, 0.0009686012845546721, 0.0009674606035964708, 0.0009663226099144549, 0.0009651872940204868, 0.000964054646470934, 0.0009629246578666981, 0.0009617973188525164, 0.0009606726201172578, 0.0009595505523932249, 0.0009584311064560802, 0.0009573142731245383, 0.0009562000432602265, 0.0009550884077672701, 0.000953979357592126, 0.000952872883723365, 0.0009517689771914613, 0.0009506676290683173, 0.0009495688304674123, 0.0009484725725431953, 0.0009473788464910069, 0.0009462876435468419, 0.0009451989549871364, 0.0009441127721285291, 0.0009430290863275231, 0.0009419478889804355, 0.0009408691715229343, 0.0009397929254300679, 0.0009387191422159023, 0.0009376478134333221, 0.0009365789306737555, 0.000935512485567048, 0.0009344484697811773, 0.0009333868750221278, 0.0009323276930334342, 0.0009312709155963611, 0.0009302165345292591, 0.0009291645416877386, 0.0009281149289641947, 0.0009270676882876463, 0.0009260228116236167, 0.0009249802909739918, 0.000923940118376491, 0.0009229022859047664, 0.0009218667856682521, 0.0009208336098116062, 0.000919802750514904, 0.0009187741999930798, 0.0009177479504961456, 0.000916723994308596, 0.0009157023237494523, 0.0009146829311719981, 0.000913665808963622, 0.0009126509495455509, 0.0009116383453727991, 0.000910627988933781, 0.000909619872750255, 0.0009086139893772618, 0.0009076103314026718, 0.0009066088914470626, 0.0009056096621638609, 0.000904612636238644, 0.0009036178063893611, 0.0009026251653660507, 0.0009016347059505444, 0.0009006464209564362, 0.0008996603032288649, 0.000898676345644226, 0.0008976945411103042, 0.0008967148825657479, 0.0008957373629800283, 0.0008947619753534774, 0.0008937887127167859, 0.000892817568131046, 0.0008918485346875408, 0.0008908816055074935, 0.0008899167737421511, 0.0008889540325723184, 0.0008879933752083574, 0.0008870347948900314, 0.0008860782848863024, 0.0008851238384952773, 0.0008841714490437222, 0.0008832211098874741, 0.0008822728144107216, 0.0008813265560261509, 0.0008803823281747815, 0.0008794401243257578, 0.0008784999379761684, 0.0008775617626509308, 0.0008766255919026676, 0.0008756914193115385, 0.0008747592384851164, 0.0008738290430581862, 0.0008729008266926418, 0.0008719745830772674, 0.0008710503059277745, 0.0008701279889864923, 0.0008692076260222341, 0.0008682892108302551, 0.0008673727372320404, 0.000866458199075235, 0.0008655455902333283, 0.0008646349046057616, 0.0008637261361176085, 0.0008628192787195176, 0.0008619143263876271, 0.0008610112731233167, 0.0008601101129530924, 0.0008592108399285619, 0.0008583134481261889, 0.0008574179316472326, 0.0008565242846176184, 0.0008556325011876396, 0.0008547425755321711, 0.0008538545018502249, 0.0008529682743649589, 0.0008520838873235861, 0.0008512013349971335, 0.0008503206116803653, 0.0008494417116918592, 0.0008485646293734548, 0.0008476893590905063, 0.0008468158952316835, 0.0008459442322087688, 0.0008450743644565107, 0.000844206286432644, 0.0008433399926176466, 0.0008424754775147545, 0.0008416127356496642, 0.0008407517615705396, 0.000839892549847901, 0.0008390350950745547, 0.0008381793918652344, 0.0008373254348568509, 0.0008364732187080052, 0.0008356227380992082, 0.0008347739877326243, 0.0008339269623318227, 0.0008330816566419791, 0.0008322380654295137, 0.000831396183482032, 0.0008305560056082754, 0.0008297175266380735, 0.0008288807414220176, 0.0008280456448315751, 0.0008272122317588427, 0.0008263804971166332, 0.0008255504358381226, 0.0008247220428768403, 0.0008238953132066134, 0.0008230702418215528, 0.0008222468237357265, 0.0008214250539831733, 0.0008206049276178446, 0.0008197864397134968, 0.0008189695853634206, 0.0008181543596806312, 0.0008173407577975494, 0.000816528774866026, 0.0008157184060571121, 0.00081490964656116, 0.0008141024915874947, 0.00081329693636449, 0.0008124929761394772, 0.0008116906061785424, 0.0008108898217664916, 0.0008100906182067081, 0.0008092929908212806, 0.000808496934950581, 0.0008077024459532938, 0.0008069095192065432, 0.0008061181501055238, 0.000805328334063489, 0.0008045400665116904, 0.0008037533428993804, 0.0008029681586934752, 0.0008021845093787632, 0.0008014023904575972, 0.0008006217974498721, 0.000799842725893086, 0.0007990651713419473, 0.0007982891293685634, 0.000797514595562242, 0.0007967415655294645, 0.0007959700348937058, 0.0007951999992954546, 0.0007944314543920245, 0.0007936643958575894, 0.0007928988193830382, 0.0007921347206758582, 0.0007913720954602562, 0.0007906109394766648, 0.000789851248482137, 0.0007890930182499538, 0.0007883362445696533, 0.0007875809232469557, 0.0007868270501036779, 0.000786074620977575, 0.0007853236317225078, 0.000784574078208071, 0.0007838259563196443, 0.0007830792619583077, 0.0007823339910407937, 0.0007815901394995345, 0.0007808477032822106, 0.0007801066783520507, 0.0007793670606876026, 0.000778628846282675, 0.0007778920311462929, 0.0007771566113026101, 0.0007764225827907385, 0.0007756899416648926, 0.0007749586839940588, 0.0007742288058622859, 0.0007735003033681149, 0.0007727731726249304, 0.000772047409760827, 0.0007713230109182762, 0.0007705999722543633, 0.0007698782899405962, 0.0007691579601627991, 0.0007684389791210877, 0.0007677213430297643, 0.0007670050481174517, 0.0007662900906266732, 0.000765576466814035, 0.0007648641729501218, 0.0007641532053194343, 0.0007634435602202676, 0.0007627352339646992, 0.0007620282228784907, 0.0007613225233010026, 0.0007606181315853093, 0.0007599150440978018, 0.0007592132572184726, 0.0007585127673406781, 0.0007578135708710644, 0.0007571156642294843, 0.0007564190438491375, 0.0007557237061762309, 0.0007550296476701113, 0.0007543368648031715, 0.0007536453540607162, 0.0007529551119409344, 0.0007522661349549591, 0.0007515784196266075, 0.0007508919624924489, 0.0007502067601017413, 0.0007495228090163895, 0.0007488401058106478, 0.0007481586470715817, 0.0007474784293984376, 0.000746799449402949, 0.0007461217037091308, 0.0007454451889533947, 0.0007447699017841344, 0.0007440958388620468, 0.0007434229968599898, 0.000742751372462724, 0.0007420809623671223, 0.0007414117632819706, 0.0007407437719277938, 0.0007400769850371801, 0.0007394113993543616, 0.0007387470116352712, 0.0007380838186475918, 0.0007374218171706512, 0.0007367610039952048, 0.0007361013759236802, 0.0007354429297698308, 0.0007347856623588934, 0.0007341295705275411, 0.0007334746511236483, 0.0007328209010062864, 0.0007321683170459591, 0.0007315168961241431, 0.0007308666351335183, 0.0007302175309777023, 0.0007295695805715474, 0.00072892278084063, 0.000728277128721616, 0.0007276326211619544, 0.0007269892551198653, 0.0007263470275645145, 0.0007257059354755387, 0.0007250659758435003, 0.0007244271456694108, 0.0007237894419649792, 0.0007231528617523424, 0.0007225174020641939, 0.0007218830599436667, 0.0007212498324442968, 0.0007206177166299354, 0.0007199867095746943, 0.0007193568083631204, 0.0007187280100897647, 0.0007181003118594222, 0.0007174737107871454, 0.0007168482039979147, 0.0007162237886267199, 0.0007156004618187176, 0.0007149782207288256, 0.0007143570625220084, 0.0007137369843729902, 0.0007131179834664145, 0.0007125000569966168, 0.00071188320216774, 0.0007112674161935546, 0.0007106526962975599, 0.0007100390397127401, 0.0007094264436817799, 0.000708814905456883, 0.0007082044222995531, 0.0007075949914810358, 0.0007069866102816663, 0.0007063792759914715, 0.0007057729859094944, 0.0007051677373442452, 0.0007045635276134244, 0.0007039603540439272, 0.0007033582139718993, 0.0007027571047424488, 0.0007021570237099382, 0.0007015579682376439, 0.0007009599356979025, 0.0007003629234720292, 0.0006997669289503202, 0.0006991719495319138, 0.0006985779826247311, 0.00069798502564559, 0.0006973930760201419, 0.000696802131182716, 0.0006962121885762588, 0.0006956232456526143, 0.0006950352998720341, 0.0006944483487035426, 0.0006938623896245244, 0.000693277420121106, 0.000692693437687753, 0.000692110439827455, 0.0006915284240515683, 0.0006909473878798526, 0.0006903673288404304, 0.0006897882444696938, 0.0006892101323123769, 0.0006886329899214363, 0.0006880568148579256, 0.0006874816046912258, 0.000686907356998803, 0.0006863340693661472, 0.0006857617393869046, 0.0006851903646627724, 0.0006846199428033765, 0.0006840504714263907, 0.0006834819481573509, 0.0006829143706297698, 0.0006823477364849054, 0.0006817820433720487, 0.0006812172889481085, 0.0006806534708778542, 0.0006800905868338321, 0.0006795286344962231, 0.0006789676115528762, 0.0006784075156994114, 0.0006778483446388488, 0.000677290096082034, 0.0006767327677471434, 0.0006761763573600773, 0.0006756208626540349, 0.0006750662813697862, 0.000674512611255515, 0.0006739598500667359, 0.0006734079955664341, 0.0006728570455248662, 0.0006723069977195979, 0.0006717578499355087, 0.0006712095999646693, 0.0006706622456063711, 0.0006701157846671349, 0.0006695702149605865, 0.0006690255343076029, 0.0006684817405359844, 0.000667938831480764, 0.0006673968049838678, 0.0006668556588943326, 0.0006663153910681536, 0.0006657759993683751, 0.0006652374816647103, 0.0006646998358341122, 0.0006641630597601397, 0.0006636271513333097, 0.000663092108450971, 0.0006625579290171587, 0.0006620246109428533, 0.0006614921521456119, 0.0006609605505497105, 0.000660429804086186, 0.0006598999106926784, 0.000659370868313427, 0.0006588426748993869, 0.0006583153284079495, 0.000657788826803123, 0.0006572631680553979, 0.0006567383501418517, 0.0006562143710459197, 0.0006556912287575834, 0.0006551689212731306, 0.0006546474465953366, 0.0006541268027333046, 0.0006536069877024633, 0.000653087999524564, 0.000652569836227692, 0.0006520524958462189, 0.0006515359764205775, 0.0006510202759976492, 0.0006505053926303886, 0.0006499913243778818, 0.0006494780693054571, 0.0006489656254845376, 0.0006484539909925465, 0.0006479431639131479, 0.0006474331423358521, 0.000646923924356346, 0.0006464155080762339, 0.0006459078916031366, 0.0006454010730506766, 0.0006448950505382613, 0.0006443898221913123, 0.0006438853861411045, 0.000643381740524775, 0.0006428788834853299, 0.000642376813171523, 0.0006418755277378997, 0.0006413750253448425, 0.0006408753041584458, 0.0006403763623505024, 0.0006398781980985649, 0.0006393808095857284, 0.0006388841950009698, 0.0006383883525386195, 0.0006378932803989512, 0.0006373989767874765, 0.0006369054399156212, 0.0006364126680000219, 0.0006359206592630978, 0.0006354294119326823, 0.0006349389242420223, 0.0006344491944300009, 0.000633960220740723, 0.0006334720014239308, 0.0006329845347346005, 0.0006324978189331444, 0.0006320118522853934, 0.0006315266330623621, 0.0006310421595405956, 0.0006305584300016744, 0.0006300754427327232, 0.0006295931960259261, 0.0006291116881788048, 0.0006286309174940074, 0.0006281508822794872, 0.0006276715808483382, 0.0006271930115187466, 0.0006267151726140682, 0.0006262380624628339, 0.0006257616793985657, 0.0006252860217599977, 0.0006248110878907608, 0.0006243368761396651, 0.0006238633848604801, 0.0006233906124118997, 0.0006229185571578253, 0.0006224472174668135, 0.0006219765917126612, 0.0006215066782738734, 0.0006210374755340096, 0.0006205689818814192, 0.0006201011957093451, 0.0006196341154158947, 0.0006191677394039795, 0.0006187020660814151, 0.0006182370938607034, 0.0006177728211592197, 0.0006173092463990076, 0.0006168463680068404, 0.0006163841844144296, 0.0006159226940578633, 0.0006154618953782071, 0.0006150017868210662, 0.000614542366836672, 0.0006140836338800284, 0.0006136255864105837, 0.0006131682228924499, 0.0006127115417944781, 0.0006122555415898482, 0.0006118002207564718, 0.0006113455777766803, 0.00061089161113735, 0.0006104383193299315, 0.0006099857008503071, 0.000609533754198787, 0.0006090824778801243, 0.0006086318704036379, 0.0006081819302829067, 0.0006077326560360296, 0.0006072840461854263, 0.0006068360992578835, 0.0006063888137845625, 0.0006059421883009543, 0.0006054962213469017, 0.0006050509114664431, 0.0006046062572080932, 0.0006041622571244697, 0.0006037189097724972, 0.0006032762137133799, 0.0006028341675125278, 0.0006023927697395589, 0.0006019520189682776, 0.0006015119137766465, 0.000601072452746858, 0.0006006336344651729, 0.0006001954575220926, 0.0005997579205121185, 0.0005993210220339681, 0.0005988847606903115, 0.0005984491350880735, 0.0005980141438380535, 0.0005975797855552675, 0.0005971460588585695, 0.0005967129623710125, 0.0005962804947195307, 0.0005958486545351362, 0.0005954174404526666, 0.0005949868511110737, 0.0005945568851532386, 0.0005941275412258193, 0.0005936988179795436, 0.00059327071406899, 0.0005928432281526201, 0.0005924163588927219, 0.0005919901049555948, 0.0005915644650111173, 0.0005911394377333338, 0.0005907150217997786, 0.0005902912158920543, 0.000589868018695297, 0.000589445428898693, 0.0005890234451950292, 0.0005886020662807942, 0.0005881812908563843, 0.0005877611176257472, 0.0005873415452966206, 0.0005869225725804324, 0.0005865041981923023, 0.0005860864208510281, 0.00058566923927896, 0.0005852526522022764, 0.0005848366583505584, 0.0005844212564572573, 0.0005840064452591881, 0.0005835922234969144, 0.0005831785899145514, 0.0005827655432597166, 0.0005823530822836277, 0.0005819412057410144, 0.0005815299123902529, 0.0005811192009930199, 0.0005807090703146843, 0.0005802995191240719, 0.0005798905461933219, 0.0005794821502982848, 0.0005790743302181207, 0.0005786670847355006, 0.0005782604126363595, 0.0005778543127103184, 0.0005774487837501246, 0.0005770438245521677, 0.0005766394339160652, 0.00057623561064484, 0.0005758323535448671, 0.0005754296614259151, 0.0005750275331010343, 0.0005746259673865749, 0.0005742249631022742, 0.0005738245190711206, 0.0005734246341194365, 0.0005730253070767711, 0.0005726265367759181, 0.000572228322053005, 0.0005718306617473034, 0.0005714335547014017, 0.0005710369997611473, 0.00057064099577538, 0.0005702455415964552, 0.0005698506360795974, 0.0005694562780834069, 0.0005690624664695702, 0.0005686692001029991, 0.000568276477851675, 0.0005678842985867295, 0.0005674926611824613, 0.0005671015645161766, 0.0005667110074683249, 0.0005663209889225829, 0.0005659315077654582, 0.0005655425628867271, 0.0005651541531791331, 0.0005647662775384534, 0.0005643789348635894, 0.0005639921240563787, 0.0005636058440216594, 0.0005632200936673688, 0.0005628348719043519, 0.000562450177646528, 0.0005620660098107245, 0.0005616823673167021, 0.000561299249087214, 0.0005609166540479966, 0.0005605345811276984, 0.0005601530292578058, 0.0005597719973728886, 0.0005593914844102228, 0.0005590114893101818, 0.0005586320110157878, 0.0005582530484731947, 0.0005578746006311896, 0.0005574966664416104, 0.0005571192448589621, 0.000556742334840735, 0.0005563659353471243, 0.0005559900453412853, 0.0005556146637890057, 0.0005552397896589656, 0.0005548654219226674, 0.0005544915595542847, 0.0005541182015308958, 0.0005537453468322242, 0.0005533729944408473, 0.0005530011433418893, 0.0005526297925234328, 0.000552258940976207, 0.0005518885876935418, 0.0005515187316716757, 0.0005511493719093674, 0.0005507805074081651, 0.0005504121371722282, 0.0005500442602083736, 0.0005496768755261842, 0.0005493099821377756, 0.0005489435790580026, 0.0005485776653042373, 0.0005482122398966267, 0.0005478473018577837, 0.000547482850212998, 0.0005471188839901834, 0.0005467554022198172, 0.0005463924039349, 0.0005460298881711153, 0.0005456678539665898, 0.0005453063003621135, 0.0005449452264009121, 0.0005445846311289036, 0.0005442245135943674, 0.0005438648728482181, 0.000543505707943818, 0.0005431470179370937, 0.0005427888018864059, 0.0005424310588526507, 0.0005420737878992242, 0.0005417169880918559, 0.0005413606584989219, 0.0005410047981911358, 0.0005406494062417137, 0.0005402944817262574, 0.0005399400237228611, 0.0005395860313119702, 0.000539232503576578, 0.0005388794396019056, 0.0005385268384756983, 0.0005381746992880864, 0.0005378230211315261, 0.0005374718031008694, 0.0005371210442933283, 0.0005367707438085805, 0.0005364209007484648, 0.0005360715142173588, 0.0005357225833217841, 0.0005353741071708109, 0.0005350260848756625, 0.0005346785155498913, 0.0005343313983094711, 0.0005339847322725171, 0.0005336385165596061, 0.0005332927502934867, 0.0005329474325991549, 0.000532602562603978, 0.0005322581394376023, 0.0005319141622317022, 0.0005315706301205635, 0.0005312275422403694, 0.0005308848977297156, 0.0005305426957293776, 0.0005302009353824698, 0.0005298596158340527, 0.0005295187362316783, 0.0005291782957248836, 0.0005288382934654551, 0.0005284987286074877, 0.0005281596003071113, 0.0005278209077226718, 0.0005274826500146366, 0.0005271448263456594, 0.0005268074358805855, 0.0005264704777863632, 0.000526133951232041, 0.0005257978553888767, 0.0005254621894301689, 0.000525126952531377, 0.0005247921438700164, 0.0005244577626258219, 0.0005241238079804718, 0.0005237902791178109, 0.0005234571752237715, 0.0005231244954863793, 0.0005227922390956278, 0.0005224604052437011, 0.0005221289931247416, 0.0005217980019349551, 0.0005214674308726021, 0.0005211372791380614, 0.0005208075459335799, 0.0005204782304634969, 0.0005201493319342529, 0.0005198208495541905, 0.0005194927825336927, 0.0005191651300850782, 0.00051883789142279, 0.0005185110657631275, 0.0005181846523244757, 0.0005178586503270562, 0.0005175330589931811, 0.0005172078775470278, 0.0005168831052148645, 0.000516558741224756, 0.0005162347848067232, 0.0005159112351928125, 0.0005155880916170083, 0.000515265353315019, 0.0005149430195247604, 0.0005146210894858195, 0.0005142995624397562, 0.0005139784376301619, 0.0005136577143022621, 0.0005133373917034824, 0.0005130174690828049, 0.000512697945691335, 0.0005123788207819083, 0.0005120600936092962, 0.0005117417634301649, 0.000511423829502875, 0.0005111062910877153, 0.0005107891474469604, 0.0005104723978444537, 0.0005101560415460138, 0.0005098400778193602, 0.0005095245059338788, 0.0005092093251608108, 0.0005088945347732194, 0.0005085801340460492, 0.0005082661222558434, 0.0005079524986811357, 0.000507639262602152, 0.0005073264133008731, 0.0005070139500610756, 0.0005067018721683312, 0.0005063901789099568, 0.0005060788695749843, 0.0005057679434542852, 0.0005054573998403932, 0.0005051472380276762, 0.000504837457312087, 0.0005045280569914544, 0.0005042190363653042, 0.0005039103947347462, 0.000503602131402794, 0.0005032942456741029, 0.000502986736854939, 0.0005026796042534031, 0.0005023728471791635, 0.0005020664649437252, 0.0005017604568601213, 0.0005014548222431641, 0.0005011495604093062, 0.0005008446706767079, 0.0005005401523650451, 0.00050023600479586, 0.0004999322272922112, 0.0004996288191788242, 0.0004993257797820688, 0.0004990231084299577, 0.0004987208044521911, 0.0004984188671800679, 0.0004981172959463637, 0.0004978160900857455, 0.0004975152489342399, 0.0004972147718295645, 0.0004969146581111509, 0.0004966149071198753, 0.0004963155181983037, 0.000496016490690522, 0.0004957178239422765, 0.0004954195173007767, 0.0004951215701149356, 0.0004948239817351328, 0.0004945267515134187, 0.000494229878803255, 0.000493933362959842, 0.0004936372033397475, 0.0004933413993012313, 0.0004930459502039777, 0.0004927508554093411, 0.0004924561142800283, 0.0004921617261804257, 0.0004918676904764174, 0.0004915740065353395, 0.000491280673726135, 0.0004909876914191188, 0.0004906950589862175, 0.000490402775800833, 0.0004901108412379545, 0.0004898192546738384, 0.0004895280154864741, 0.0004892371230551015, 0.0004889465767606392, 0.000488656375985424, 0.000488366520113117, 0.00048807700852906136, 0.00048778784061998844, 0.00048749901577389674, 0.0004872105333805666, 0.0004869223928309818, 0.00048663459351761505, 0.0004863471348344742, 0.00048606001617692917, 0.0004857732369417072, 0.0004854867965271274, 0.0004852006943327982, 0.00048491492975978866, 0.000484629502210568, 0.00048434441108905423, 0.00048405965580056577, 0.00048377523575181096, 0.0004834911503508201, 0.0004832073990071155, 0.0004829239811315445, 0.00048264089613643237, 0.0004823581434353751, 0.00048207572244343303, 0.00048179363257698054, 0.00048151187325373663, 0.0004812304438928417, 0.000480949343914838, 0.0004806685727415067, 0.0004803881297960739, 0.00048010801450310464, 0.00047982822628840415, 0.0004795487645792494, 0.0004792696288042102, 0.00047899081839316416, 0.00047871233277737766, 0.00047843417138936827, 0.00047815633366297516, 0.0004778788190334991, 0.0004776016269373337, 0.0004773247568122843, 0.00047704820809755995, 0.00047677198023356236, 0.0004764960726619785, 0.00047622048482582333, 0.0004759452161694241, 0.0004756702661383088, 0.00047539563417945926, 0.00047512131974095827, 0.0004748473222722693, 0.00047457364122407205, 0.00047430027604835603, 0.0004740272261983176, 0.0004737544911285132, 0.0004734820702947092, 0.0004732099631538579, 0.00047293816916425173, 0.00047266668778539055, 0.0004723955184780046, 0.00047212466070410924, 0.00047185411392696217, 0.00047158387761097806, 0.0004713139512218638, 0.0004710443342264819, 0.0004707750260930863, 0.00047050602629092363, 0.0004702373342906103, 0.00046996894956392117, 0.0004697008715838345, 0.00046943309982452403, 0.00046916563376142654, 0.0004688984728711618, 0.00046863161663143445, 0.00046836506452125275, 0.00046809881602086065, 0.00046783287061145874, 0.0004675672277757054, 0.0004673018869972729, 0.00046703684776104685, 0.0004667721095530414, 0.0004665076718604839, 0.0004662435341718203, 0.00046597969597654315, 0.0004657161567653579, 0.00046545291603017716, 0.00046518997326389777, 0.00046492732796078534, 0.00046466497961607933, 0.00046440292772628115, 0.0004641411717888961, 0.00046387971130269903, 0.000463618545767465, 0.00046335767468423395, 0.0004630970975550789, 0.0004628368138832285, 0.00046257682317300537, 0.00046231712492992563, 0.0004620577186604946, 0.00046179860387243353, 0.00046153978007446787, 0.0004612812467765412, 0.0004610230034896336, 0.0004607650497258297, 0.00046050738499830594, 0.0004602500088212747, 0.00045999292071021027, 0.0004597361201814996, 0.0004594796067526175, 0.00045922337994223276, 0.00045896743927002206, 0.00045871178425670194, 0.0004584564144241015, 0.0004582013292951803, 0.000457946528393799, 0.00045769201124498855, 0.0004574377773748409, 0.00045718382631050933, 0.0004569301575801476, 0.00045667677071295417, 0.0004564236652392388, 0.0004561708406902988, 0.0004559182965984854, 0.0004556660324972298, 0.0004554140479209592, 0.00045516234240507104, 0.00045491091548617357, 0.00045465976670162005, 0.0004544088955901316, 0.000454158301691161, 0.00045390798454525845, 0.0004536579436940833, 0.0004534081786802201, 0.0004531586890473149, 0.00045290947433991764, 0.0004526605341036863, 0.00045241186788524544, 0.00045216347523227297, 0.00045191535569326987, 0.00045166750881791797, 0.00045141993415683077, 0.00045117263126156874, 0.00045092559968471977, 0.00045067883897982017, 0.00045043234870144864, 0.0004501861284050419, 0.0004499401776470827, 0.0004496944959851424, 0.0004494490829774812, 0.00044920393818361783, 0.0004489590611638222, 0.00044871445147948955, 0.0004484701086928157, 0.00044822603236701676, 0.0004479822220663251, 0.0004477386773558121, 0.00044749539780163984, 0.0004472523829707743, 0.0004470096324311593, 0.0004467671457516784, 0.00044652492250227174, 0.00044628296225360123, 0.00044604126457743217, 0.0004457998290464183, 0.00044555865523403194, 0.00044531774271485346, 0.0004450770910642648, 0.00044483669985861176, 0.0004445965686750721, 0.00044435669709187687, 0.00044411708468806836, 0.00044387773104365944, 0.000443638635739472, 0.0004433997983574007, 0.00044316121848004815, 0.0004429228956910121, 0.0004426848295748763, 0.00044244701971695306, 0.0004422094657035123, 0.000441972167121778, 0.00044173512355982634, 0.0004414983346065068, 0.00044126179985173907, 0.0004410255188862162, 0.0004407894913014692, 0.0004405537166899741, 0.000440318194645139, 0.0004400829247611448, 0.00043984790663300434, 0.0004396131398567158, 0.00043937862402903676, 0.00043914435874772086, 0.00043891034361127136, 0.00043867657821900516, 0.00043844306217122916, 0.00043820979506904766, 0.00043797677651432373, 0.0004377440061099435, 0.00043751148345953995, 0.00043727920816754884, 0.0004370471798393154, 0.0004368153980809822, 0.00043658386249959967, 0.0004363525727029439, 0.0004361215282997032, 0.0004358907288994035, 0.0004356601741124194, 0.0004354298635497866, 0.00043519979682350523, 0.0004349699735464501, 0.0004347403933322215, 0.0004345110557951996, 0.00043428196055065254, 0.00043405310721466916, 0.0004338244954041067, 0.0004335961247366478, 0.0004333679948307972, 0.00043314010530587035, 0.0004329124557819064, 0.0004326850458797908, 0.00043245787522135125, 0.0004322309434288914, 0.00043200425012584147, 0.0004317777949362344, 0.00043155157748494974, 0.000431325597397576, 0.0004310998543006412, 0.00043087434782128136, 0.00043064907758757646, 0.0004304240432282932, 0.00043019924437299805, 0.0004299746806519784, 0.0004297503516963905, 0.00042952625713809836, 0.0004293023966097608, 0.00042907876974482, 0.00042885537617745064, 0.0004286322155425385, 0.0004284092874759178, 0.00042818659161392625, 0.00042796412759384177, 0.00042774189505364804, 0.0004275198936321102, 0.00042729812296864883, 0.0004270765827035572, 0.0004268552724777829, 0.0004266341919330347, 0.00042641334071184963, 0.00042619271845739795, 0.0004259723248136189, 0.00042575215942530146, 0.0004255322219377253, 0.00042531251199714803, 0.0004250930292504481, 0.0004248737733452626, 0.00042465474392992255, 0.0004244359406535036, 0.0004242173631658032, 0.0004239990111173348, 0.0004237808841594449, 0.0004235629819439947, 0.00042334530412369806, 0.00042312785035194416, 0.0004229106202829106, 0.00042269361357134106, 0.0004224768298728139, 0.00042226026884352165, 0.00042204393014050215, 0.0004218278134213427, 0.00042161191834441273, 0.0004213962445687412, 0.00042118079175418755, 0.00042096555956104906, 0.00042075054765061963, 0.00042053575568463177, 0.00042032118332567867, 0.00042010683023697515, 0.00041989269608242884, 0.0004196787805266586, 0.00041946508323487407, 0.00041925160387315844, 0.000419038342108074, 0.0004188252976069927, 0.00041861247003786996, 0.0004183998590694184, 0.00041818746437104323, 0.0004179752856126787, 0.00041776332246511367, 0.0004175515745996594, 0.00041734004168831934, 0.0004171287234038968, 0.00041691761941976, 0.00041670672940980434, 0.00041649605304882036, 0.00041628559001217265, 0.00041607533997584757, 0.00041586530261645654, 0.0004156554776113958, 0.0004154458646385665, 0.00041523646337664866, 0.00041502727350489646, 0.00041481829470316607, 0.00041460952665214776, 0.00041440096903293017, 0.0004141926215274206, 0.0004139844838180891, 0.0004137765555880654, 0.0004135688365211248, 0.0004133613263017277, 0.00041315402461484857, 0.0004129469311461503, 0.0004127400455819809, 0.0004125333676092918, 0.00041232689691558273, 0.00041212063318904745, 0.00041191457611858604, 0.00041170872539352676, 0.0004115030807040599, 0.0004112976417406888, 0.0004110924081948907, 0.0004108873797585075, 0.00041068255612402205, 0.0004104779369846612, 0.0004102735220341748, 0.00041006931096689334, 0.00040986530347785063, 0.0004096614992625733, 0.0004094578980173037, 0.00040925449943882846, 0.00040905130322452975, 0.00040884830907252063, 0.00040864551668124755, 0.00040844292575007313, 0.00040824053597864735, 0.0004080383470675058, 0.00040783635871760544, 0.0004076345706304855, 0.00040743298250839343, 0.00040723159405410585, 0.0004070304049709213, 0.0004068294149627955, 0.00040662862373424483, 0.000406428030990507, 0.0004062276364371387, 0.0004060274397805336, 0.0004058274407274752, 0.00040562763898544765, 0.0004054280342624917, 0.0004052286262671317, 0.00040502941470855374, 0.0004048303992965375, 0.00040463157974140156, 0.0004044329557540171, 0.0004042345270457798, 0.0004040362933287915, 0.00040383825431558503, 0.0004036404097193958, 0.00040344275925381537, 0.0004032453026331996, 0.0004030480395723772, 0.000402850969786759, 0.00040265409299222873, 0.0004024574089053745, 0.00040226091724317886, 0.00040206461772338714, 0.0004018685100640424, 0.0004016725939839778, 0.0004014768692023334, 0.0004012813354390504, 0.00040108599241446964, 0.00040089083984944557, 0.0004006958774654636, 0.0004005011049845824, 0.00040030652212925824, 0.00040011212862262345, 0.000399917924188325, 0.0003997239085504635, 0.00039953008143374884, 0.0003993364425634093, 0.0003991429916651833, 0.00039894972846546005, 0.00039875665269098373, 0.0003985637640691505, 0.00039837106232781924, 0.0003981785471954425, 0.00039798621840087586, 0.0003977940756736816, 0.00039760211874380173, 0.00039741034734180853, 0.00039721876119862905, 0.00039702736004586524, 0.0003968361436156094, 0.00039664511164042227, 0.0003964542638533828, 0.0003962635999881583, 0.00039607311977883056, 0.00039588282296009977, 0.00039569270926708, 0.0003955027784354323, 0.00039531303020134956, 0.000395123464301558, 0.000394934080473103, 0.0003947448784538353, 0.0003945558579818668, 0.0003943670187958915, 0.0003941783606350711, 0.0003939898832392195, 0.00039380158634845616, 0.000393613469703524, 0.0003934255330455405, 0.0003932377761162498, 0.0003930501986578076, 0.0003928628004128997, 0.0003926755811247231, 0.00039248854053688514, 0.00039230167839352816, 0.0003921149944393389, 0.00039192848841937633, 0.0003917421600793206, 0.00039155600916519594, 0.0003913700354235929, 0.00039118423860162483, 0.0003909986184467408, 0.000390813174707014, 0.0003906279071309652, 0.00039044281546752246, 0.00039025789946616987, 0.0003900731588768391, 0.0003898885934499136, 0.00038970420293628344, 0.0003895199870872814, 0.000389335945654735, 0.00038915207839099766, 0.0003889683850487242, 0.0003887848653811897, 0.0003886015191420653, 0.00038841834608556686, 0.000388235345966284, 0.0003880525185392602, 0.00038786986356013686, 0.0003876873807848824, 0.0003875050699699475, 0.0003873229308722293, 0.00038714096324922166, 0.0003869591668587279, 0.0003867775414590046, 0.00038659608680882625, 0.00038641480266741205, 0.00038623368879446167, 0.00038605274495004074, 0.0003858719708947041, 0.00038569136638947943, 0.0003855109311958291, 0.0003853306650756846, 0.0003851505677914059, 0.0003849706391057091, 0.0003847908787819718, 0.00038461128658374315, 0.00038443186227528375, 0.0003842526056210508, 0.00038407351638613326, 0.00038389459433592674, 0.0003837158392363538, 0.0003835372508537477, 0.0003833588289548583, 0.00038318057330688943, 0.0003830024836774189, 0.0003828245598345852, 0.00038264680154683297, 0.0003824692085831251, 0.0003822917807127697, 0.0003821145177055395, 0.00038193741933172527, 0.0003817604853619605, 0.0003815837155672314, 0.0003814071097190885, 0.00038123066758937645, 0.00038105438895056016, 0.000380878273575278, 0.0003807023212367344, 0.0003805265317085904, 0.0003803509047647906, 0.00038017544017984257, 0.00038000013772853194, 0.00037982499718621177, 0.00037965001832845614, 0.0003794752009314511, 0.00037930054477166696, 0.0003791260496260851, 0.0003789517152719862, 0.00037877754148713764, 0.0003786035280496668, 0.000378429674738147, 0.00037825598133165545, 0.0003780824476094183, 0.00037790907335128924, 0.0003777358583374845, 0.00037756280234855523, 0.00037738990516553785, 0.0003772171665697522, 0.0003770445863431037, 0.00037687216426772024, 0.00037669990012626696, 0.00037652779370168, 0.00037635584477732317, 0.00037618405313709884, 0.0003760124185651283, 0.0003758409408459491, 0.0003756696197646404, 0.0003754984551064935, 0.0003753274466572725, 0.00037515659420317367, 0.00037498589753070047, 0.0003748153564268404, 0.00037464497067883433, 0.0003744747400744589, 0.0003743046644017392, 0.0003741347434491843, 0.00037396497700571517, 0.0003737953648605086, 0.0003736259068032162, 0.00037345660262389906, 0.00037328745211287923, 0.0003731184550609382, 0.0003729496112592852, 0.0003727809204994729, 0.0003726123825733085, 0.0003724439972731704, 0.0003722757643917003, 0.0003721076837219237, 0.0003719397550572913, 0.00037177197819155506, 0.0003716043529189237, 0.00037143687903390296, 0.0003712695563313975, 0.0003711023846066787, 0.00037093536365541115, 0.0003707684932736087, 0.00037060177325763845, 0.00037043520340420305, 0.0003702687835105291, 0.0003701025133740711, 0.00036993639279257843, 0.0003697704215643637, 0.00036960459948797006, 0.0003694389263622751, 0.00036927340198667934, 0.0003691080261607534, 0.00036894279868457034, 0.0003687777193584874, 0.00036861278798319534, 0.0003684480043598469, 0.00036828336828986243, 0.00036811887957501136, 0.00036795453801749404, 0.0003677903434198036, 0.0003676262955848707, 0.00036746239431579495, 0.0003672986394162349, 0.0003671350306900566, 0.0003669715679415203, 0.00036680825097533534, 0.00036664507959635996, 0.00036648205361000923, 0.0003663191728218655, 0.0003661564370379931, 0.0003659938460646778, 0.0003658313997086951, 0.0003656690977770989, 0.0003655069400771471, 0.000365344926416698, 0.0003651830566037683, 0.0003650213304468173, 0.0003648597477545523, 0.0003646983083360132, 0.00036453701200072106, 0.0003643758585584195, 0.0003642148478191465, 0.0003640539795934386, 0.0003638932536920369, 0.00036373266992600017, 0.00036357222810687106, 0.0003634119280463341, 0.00036325176955655144, 0.0003630917524500163, 0.000362931876539406, 0.000362772141637826, 0.0003626125475588118, 0.00036245309411603543, 0.00036229378112358766, 0.0003621346083959911, 0.00036197557574784133, 0.0003618166829943282, 0.0003616579299508381, 0.0003614993164330614, 0.00036134084225699357, 0.00036118250723909804, 0.0003610243111960503, 0.00036086625394486367, 0.00036070833530280993, 0.00036055055508762724, 0.0003603929131172461, 0.00036023540920995003, 0.00036007804318439123, 0.0003599208148595025, 0.00035976372405453083, 0.00035960677058896205, 0.00035944995428280476, 0.00035929327495612395, 0.00035913673242948503, 0.0003589803265237729, 0.0003588240570600162, 0.00035866792385975314, 0.00035851192674470815, 0.00035835606553690267, 0.0003582003400587565, 0.00035804475013298396, 0.0003578892955825922, 0.0003577339762308217, 0.0003575787919013128, 0.00035742374241794526, 0.0003572688276050514, 0.00035711404728708257, 0.00035695940128895043, 0.0003568048894356809, 0.00035665051155276035, 0.00035649626746600733, 0.00035634215700136476, 0.0003561881799852818, 0.0003560343362443295, 0.000355880625605524, 0.00035572704789604506, 0.00035557360294353595, 0.00035542029057574755, 0.0003552671106208785, 0.0003551140629073569, 0.00035496114726393666, 0.00035480836351960366, 0.000354655711503732, 0.0003545031910459681, 0.0003543508019761876, 0.0003541985441245957, 0.0003540464173217274, 0.00035389442139839355, 0.00035374255618557144, 0.0003535908215147894, 0.00035343921721762495, 0.00035328774312598694, 0.00035313639907227483, 0.0003529851848888388, 0.0003528341004086707, 0.0003526831454647131, 0.00035253231989051226, 0.0003523816235196559, 0.00035223105618610904, 0.00035208061772417563, 0.0003519303079683011, 0.0003517801267533716, 0.00035163007391447867, 0.00035148014928698977, 0.000351330352706591, 0.000351180684009173, 0.00035103114303099814, 0.00035088172960849655, 0.0003507324435785738, 0.0003505832847782287, 0.0003504342530447843, 0.00035028534821582123, 0.0003501365701293545, 0.00034998791862337134, 0.00034983939353651805, 0.000349690994707362, 0.00034954272197489366, 0.0003493945751784772, 0.0003492465541576235, 0.0003490986587520416, 0.0003489508888019788, 0.0003488032441476611, 0.00034865572462978165, 0.00034850833008914317, 0.00034836106036705374, 0.00034821391530482477, 0.0003480668947442218, 0.0003479199985272234, 0.00034777322649604474, 0.000347626578493165, 0.0003474800543613681, 0.00034733365394374347, 0.00034718737708351615, 0.0003470412236243297, 0.00034689519340991575, 0.0003467492862844622, 0.00034660350209231175, 0.0003464578406780396, 0.0003463123018865338, 0.00034616688556298483, 0.00034602159155276094, 0.00034587641970149226, 0.00034573136985514895, 0.00034558644185990294, 0.00034544163556221954, 0.00034529695080875696, 0.0003451523874464648, 0.00034500794532259406, 0.00034486362428458545, 0.00034471942418016094, 0.0003445753448573144, 0.0003444313861642984, 0.0003442875479495279, 0.00034414383006185415, 0.0003440002323502125, 0.00034385675466382825, 0.00034371339685222973, 0.00034357015876521757, 0.0003434270402526871, 0.0003432840411649742, 0.0003431411613525458, 0.0003429984006662197, 0.00034285575895687454, 0.00034271323607589686, 0.0003425708318746465, 0.00034242854620498097, 0.00034228637891888257, 0.00034214432986851186, 0.0003420023989064183, 0.0003418605858853471, 0.0003417188906582042, 0.00034157731307824006, 0.0003414358529989341, 0.0003412945102739962, 0.00034115328475736343, 0.00034101217630321163, 0.0003408711847659842, 0.00034073031000036677, 0.0003405895518612598, 0.0003404489102038581, 0.0003403083848835107, 0.0003401679757558666, 0.0003400276826767928, 0.00033988750550236954, 0.00033974744408902824, 0.00033960749829331635, 0.0003394676679720323, 0.0003393279529822312, 0.00033918835318128346, 0.00033904886842667155, 0.0003389094985760998, 0.0003387702434876696, 0.0003386311030195778, 0.00033849207703031087, 0.00033835316537850376, 0.0003382143679231896, 0.00033807568452344657, 0.0003379371150386965, 0.00033779865932860993, 0.0003376603172529878, 0.0003375220886719416, 0.00033738397344575664, 0.00033724597143509183, 0.00033710808250060403, 0.0003369703065033353, 0.0003368326433045303, 0.00033669509276560615, 0.0003365576547482981, 0.0003364203291145026, 0.0003362831157263807, 0.0003361460144462517, 0.000336009025136756, 0.0003358721476606433, 0.00033573538188103367, 0.0003355987276610897, 0.00033546218486435784, 0.0003353257533545339, 0.00033518943299558134, 0.0003350532236515636, 0.00033491712518696464, 0.00033478113746626876, 0.0003346452603543765, 0.00033450949371624164, 0.00033437383741718687, 0.00033423829132262563, 0.00033410285529835446, 0.00033396752921013617, 0.00033383231292418087, 0.00033369720630683976, 0.0003335622092246653, 0.0003334273215444102, 0.0003332925431331025, 0.0003331578738579051, 0.0003330233135862922, 0.0003328888621858452, 0.0003327545195244952, 0.0003326202854702201, 0.0003324861598913636, 0.00033235214265641105, 0.00033221823363405347, 0.0003320844326932293, 0.0003319507397030316, 0.0003318171545328026, 0.0003316836770521331, 0.000331550307130771, 0.0003314170446386428, 0.00033128388944600375, 0.000331150841423182, 0.00033101790044081806, 0.00033088506636974515, 0.00033075233908088665, 0.0003306197184455243, 0.0003304872043350847, 0.0003303547966211829, 0.00033022249517573925, 0.0003300902998707098, 0.00032995821057834056, 0.00032982622717114346, 0.000329694349521813, 0.00032956257750312354, 0.00032943091098821273, 0.0003292993498503536, 0.0003291678939630135, 0.00032903654319984524, 0.0003289052974347404, 0.0003287741565418019, 0.0003286431203953066, 0.0003285121888697796, 0.00032838136183981954, 0.00032825063918033435, 0.0003281200207665255, 0.0003279895064735078, 0.0003278590961769059, 0.0003277287897523234, 0.00032759858707565975, 0.0003274684880229909, 0.00032733849247058866, 0.0003272086002949549, 0.0003270788113727358, 0.00032694912558075927, 0.000326819542796184, 0.0003266900628961625, 0.0003265606857582286, 0.000326431411260001, 0.00032630223927932795, 0.00032617316969419573, 0.00032604420238287294, 0.00032591533722377107, 0.00032578657409545824, 0.0003256579128768686, 0.0003255293534468941, 0.00032540089568471254, 0.0003252725394697333, 0.0003251442846816188, 0.00032501613119996335, 0.00032488807890484767, 0.0003247601276763334, 0.00032463227739479837, 0.00032450452794072606, 0.0003243768791948382, 0.0003242493310380874, 0.00032412188335144453, 0.0003239945360162688, 0.00032386728891398825, 0.00032374014192626494, 0.00032361309493493913, 0.0003234861478219562, 0.00032335930046956807, 0.0003232325527601834, 0.00032310590457640035, 0.0003229793558008554, 0.00032285290631656324, 0.000322726556006673, 0.00032260030475447354, 0.0003224741524434798, 0.00032234809895725637, 0.0003222221441798323, 0.0003220962879950658, 0.00032197053028731236, 0.0003218448709409471, 0.00032171930984051597, 0.00032159384687077447, 0.00032146848191671107, 0.0003213432148633789, 0.00032121804559615875, 0.000321092974000553, 0.0003209679999620982, 0.0003208431233667093, 0.00032071834410042307, 0.0003205936620493616, 0.00032046907709997455, 0.00032034458913875153, 0.0003202201980524864, 0.0003200959037280048, 0.00031997170605242546, 0.0003198476049130168, 0.00031972360019717587, 0.0003195996917925041, 0.0003194758795867758, 0.0003193521634679815, 0.0003192285433242237, 0.00031910501904381874, 0.0003189815905152469, 0.00031885825762710253, 0.00031873502026824564, 0.00031861187832764895, 0.00031848883169449687, 0.00031836588025808905, 0.00031824302390798503, 0.0003181202625338049, 0.0003179975960254306, 0.00031787502427291984, 0.0003177525471663646, 0.000317630164596186, 0.00031750787645291986, 0.0003173856826272452, 0.0003172635830100098, 0.0003171415774922722, 0.000317019665965253, 0.00031689784832021866, 0.0003167761244488672, 0.0003166544942427155, 0.0003165329575937857, 0.0003164115143940903, 0.0003162901645357726, 0.00031616890791121645, 0.00031604774441299985, 0.00031592667393376124, 0.00031580569636637966, 0.00031568481160392176, 0.0003155640195395816, 0.000315443320066663, 0.0003153227130787342, 0.0003152021984694066, 0.0003150817761326116, 0.00031496144596237857, 0.00031484120785271687, 0.0003147210616981323, 0.0003146010073930539, 0.0003144810448321156, 0.0003143611739101731, 0.00031424139452220564, 0.0003141217065632605, 0.000314002109928753, 0.000313882604514119, 0.0003137631902149653, 0.00031364386692699016, 0.00031352463454624284, 0.0003134054929687828, 0.00031328644209080604, 0.0003131674818088236, 0.0003130486120193315, 0.0003129298326190817, 0.00031281114350491376, 0.00031269254457394664, 0.00031257403572331236, 0.00031245561685035243, 0.0003123372878526709, 0.00031221904862785383, 0.00031210089907373413, 0.00031198283908829807, 0.00031186486856962114, 0.0003117469874160901, 0.000311629195526071, 0.00031151149279812804, 0.0003113938791310791, 0.00031127635442378853, 0.00031115891857535924, 0.00031104157148487897, 0.0003109243130518012, 0.00031080714317566427, 0.0003106900617559888, 0.00031057306869270964, 0.00031045616388573866, 0.0003103393472352404, 0.00031022261864142007, 0.0003101059780047137, 0.0003099894252256676, 0.00030987296020506427, 0.00030975658284371855, 0.00030964029304265093, 0.00030952409070300315, 0.00030940797572613784, 0.0003092919480134766, 0.00030917600746666003, 0.00030906015398738995, 0.00030894438747762715, 0.00030882870783942117, 0.0003087131149748972, 0.0003085976087864943, 0.00030848218917671645, 0.00030836685604806395, 0.0003082516093034773, 0.0003081364488457842, 0.0003080213745781014, 0.00030790638640362534, 0.0003077914842258098, 0.00030767666794801683, 0.0003075619374740155, 0.0003074472927075538, 0.0003073327335525678, 0.00030721825991323693, 0.00030710387169365636, 0.00030698956879827955, 0.000306875351131579, 0.00030676121859822005, 0.0003066471711030461, 0.0003065332085509448, 0.00030641933084703065, 0.0003063055378965629, 0.00030619182960480324, 0.00030607820587733525, 0.0003059646666198116, 0.000305851211737952, 0.0003057378411377301, 0.0003056245547252495, 0.00030551135240668425, 0.0003053982340883463, 0.00030528519967672766, 0.0003051722490785098, 0.0003050593822003972, 0.00030494659894932704, 0.0003048338992323133, 0.0003047212829565667, 0.0003046087500293533, 0.00030449630035813926, 0.0003043839338505032, 0.0003042716504142241, 0.0003041594499571554, 0.00030404733238720115, 0.0003039352976125832, 0.0003038233455415841, 0.0003037114760825053, 0.00030359968914399913, 0.00030348798463473016, 0.00030337636246343747, 0.00030326482253909904, 0.0003031533647707556, 0.00030304198906769975, 0.0003029306953392767, 0.00030281948349486287, 0.0003027083534441621, 0.000302597305096916, 0.00030248633836292284, 0.0003023754531523271, 0.00030226464937516877, 0.0003021539269417478, 0.00030204328576245883, 0.00030193272574789454, 0.00030182224680865444, 0.00030171184885557293, 0.00030160153179960725, 0.000301491295551833, 0.0003013811400233465, 0.00030127106512558064, 0.00030116107076987335, 0.00030105115686796094, 0.00030094132333142516, 0.0003008315700721288, 0.000300721897002063, 0.00030061230403339786, 0.00030050279107819087, 0.00030039335804896475, 0.0003002840048581293, 0.0003001747314182885, 0.00030006553764220134, 0.0002999564234427034, 0.0002998473887328588, 0.0002997384334257313, 0.00029962955743451634, 0.00029952076067268945, 0.00029941204305373005, 0.00029930340449124714, 0.00029919484489894906, 0.000299086364190736, 0.00029897796228062294, 0.00029886963908278176, 0.00029876139451135694, 0.00029865322848081984, 0.00029854514090565015, 0.0002984371317003834, 0.0002983292007799123, 0.0002982213480589999, 0.0002981135734527069, 0.00029800587687609713, 0.00029789825824439386, 0.00029779071747306504, 0.00029768325447751456, 0.00029757586917337505, 0.000297468561476341, 0.0002973613313023351, 0.0002972541785672729, 0.0002971471031872502, 0.0002970401050785251, 0.00029693318415742427, 0.00029682634034037283, 0.00029671957354402795, 0.00029661288368494865, 0.0002965062706801145, 0.0002963997344463712, 0.0002962932749007522, 0.0002961868919605027, 0.00029608058554288127, 0.0002959743555653458, 0.0002958682019453894, 0.00029576212460074436, 0.0002956561234490716, 0.0002955501984082654, 0.0002954443493964416, 0.0002953385763316574, 0.00029523287913218543, 0.0002951272577163088, 0.0002950217120026367, 0.0002949162419096101, 0.00029481084735606217, 0.0002947055282608274, 0.00029460028454277357, 0.0002944951161209578, 0.00029439002291464203, 0.00029428500484303855, 0.00029418006182558063, 0.0002940751937817995, 0.0002939704006313395, 0.0002938656822939596, 0.0002937610386894607, 0.00029365646973792395, 0.00029355197535937093, 0.0002934475554740401, 0.00029334321000227886, 0.0002932389388644816, 0.0002931347419812114, 0.00029303061927312785, 0.00029292657066106364, 0.00029282259606583876, 0.0002927186954084422, 0.00029261486861006686, 0.0002925111155919184, 0.0002924074362752881, 0.00029230383058164117, 0.0002922002984325948, 0.00029209683974977795, 0.00029199345445494643, 0.00029189014247010353, 0.00029178690371712006, 0.00029168373811819416, 0.00029158064559557434, 0.0002914776260714973, 0.0002913746794685321, 0.00029127180570917745, 0.00029116900471610053, 0.00029106627641205707, 0.0002909636207199707, 0.00029086103756287, 0.0002907585268637698, 0.00029065608854595115, 0.0002905537225327484, 0.00029045142874747985, 0.00029034920711379434, 0.0002902470575553255, 0.0002901449799958073, 0.00029004297435908215, 0.0002899410405691487, 0.00028983917855004147, 0.0002897373882260117, 0.00028963566952129447, 0.0002895340223603012, 0.00028943244666751076, 0.00028933094236759257, 0.00028922950938522953, 0.0002891281476451694, 0.00028902685707246547, 0.00028892563759206046, 0.0002888244891291622, 0.00028872341160895645, 0.0002886224049567356, 0.00028852146909811156, 0.000288420603958518, 0.0002883198094636454, 0.0002882190855392275, 0.0002881184321111702, 0.0002880178491054599, 0.00028791733644817455, 0.00028781689406544693, 0.0002877165218835644, 0.00028761621982894707, 0.0002875159878280884, 0.00028741582580759696, 0.0002873157336940918, 0.00028721571141440206, 0.0002871157588954229, 0.0002870158760641823, 0.00028691606284778266, 0.0002868163191734261, 0.00028671664496835564, 0.0002866170401600714, 0.0002865175046760138, 0.0002864180384438164, 0.0002863186413912109, 0.00028621931344597663, 0.00028612005453602945, 0.0002860208645893322, 0.00028592174353410914, 0.0002858226912985043, 0.0002857237078108199, 0.0002856247929995073, 0.00028552594679304106, 0.0002854271691200595, 0.0002853284599091816, 0.0002852298190893354, 0.0002851312465893822, 0.0002850327423383248, 0.0002849343062652016, 0.0002848359382993173, 0.0002847376383699518, 0.0002846394064064266, 0.00028454124233826667, 0.00028444314609513035, 0.0002843451176066709, 0.0002842471568026337, 0.000284149263612901, 0.0002840514379675078, 0.00028395367979651865, 0.00028385598903004554, 0.0002837583655984409, 0.0002836608094320491, 0.00028356332046129885, 0.0002834658986167748, 0.00028336854382912923, 0.00028327125602907406, 0.0002831740351475023, 0.00028307688111534984, 0.0002829797938635922, 0.0002828827733234444, 0.00028278581942605937, 0.0002826889321028379, 0.0002825921112851058, 0.0002824953569043818, 0.00028239866889227913, 0.0002823020471805567, 0.00028220549170088996, 0.0002821090023852634, 0.00028201257916559384, 0.0002819162219739803, 0.00028181993074256466, 0.00028172370540357464, 0.00028162754588942986, 0.0002815314521324818, 0.00028143542406538336, 0.0002813394616206463, 0.0002812435647310487, 0.0002811477333293363, 0.0002810519673485081, 0.00028095626672142843, 0.00028086063138132766, 0.00028076506126128683, 0.00028066955629460526, 0.0002805741164145974, 0.0002804787415547777, 0.00028038343164863094, 0.0002802881866297913, 0.0002801930064320238, 0.0002800978909890722, 0.0002800028402349387, 0.0002799078541034677, 0.0002798129325288856, 0.00027971807544527837, 0.0002796232827869083, 0.000279528554488202, 0.00027943389048349244, 0.0002793392907073562, 0.0002792447550943533, 0.0002791502835792868, 0.00027905587609693437, 0.00027896153258210205, 0.00027886725296979054, 0.00027877303719507873, 0.0002786788851931351, 0.0002785847968991474, 0.00027849077224844396, 0.0002783968111764426, 0.0002783029136186284, 0.00027820907951058563, 0.00027811530878802196, 0.00027802160138667824, 0.000277927957242374, 0.00027783437629107097, 0.00027774085846875, 0.0002776474037115253, 0.0002775540119556069, 0.0002774606831372707, 0.0002773674171928833, 0.00027727421405888687, 0.000277181073671746, 0.0002770879959681818, 0.0002769949808848714, 0.0002769020283585824, 0.0002768091383262139, 0.0002767163107246924, 0.00027662354549112936, 0.00027653084256255427, 0.00027643820187623334, 0.0002763456233694703, 0.00027625310697963924, 0.00027616065264425186, 0.00027606826030078833, 0.00027597592988690963, 0.00027588366134031475, 0.00027579145459882056, 0.0002756993096003419, 0.0002756072262828474, 0.00027551520458429313, 0.0002754232444429249, 0.0002753313457969008, 0.0002752395085845195, 0.0002751477327442019, 0.0002750560182143452, 0.0002749643649335773, 0.0002748727728405073, 0.00027478124187375327, 0.00027468977197224465, 0.0002745983630748091, 0.00027450701512030215, 0.0002744157280479293, 0.0002743245017966439, 0.0002742333363058033, 0.0002741422315145676, 0.00027405118736234215, 0.00027396020378854627, 0.0002738692807327307, 0.0002737784181345263, 0.00027368761593358045, 0.00027359687406961484, 0.00027350619248254593, 0.0002734155711122976, 0.0002733250098988159, 0.00027323450878219424, 0.00027314406770268174, 0.0002730536866004039, 0.0002729633654157202, 0.0002728731040891168, 0.00027278290256093344, 0.0002726927607718101, 0.0002726026786624016, 0.0002725126561733719, 0.0002724226932455397, 0.000272332789819828, 0.0002722429458370769, 0.00027215316123841977, 0.00027206343596489647, 0.0002719737699577374, 0.0002718841631581818, 0.00027179461550754316, 0.00027170512694726733, 0.0002716156974189282, 0.0002715263268639413, 0.00027143701522408986, 0.0002713477624410374, 0.0002712585684566051, 0.00027116943321271075, 0.00027108035665120904, 0.0002709913387142174, 0.00027090237934383933, 0.00027081347848223323, 0.0002707246360716415, 0.0002706358520544712, 0.0002705471263731118, 0.00027045845897000887, 0.0002703698497877919, 0.00027028129876905516, 0.00027019280585651974, 0.0002701043709930231, 0.0002700159941213671, 0.00026992767518448996, 0.00026983941412549, 0.000269751210887389, 0.00026966306541333134, 0.0002695749776466285, 0.00026948694753061597, 0.0002693989750085346, 0.0002693110600240266, 0.0002692232025205225, 0.0002691354024416288, 0.0002690476597310411, 0.000268959974332558, 0.00026887234618999813, 0.0002687847752472535, 0.00026869726144828244, 0.0002686098047371635, 0.00026852240505799695, 0.00026843506235499706, 0.0002683477765724557, 0.00026826054765472456, 0.0002681733755461206, 0.00026808626019124497, 0.0002679992015345991, 0.0002679121995208107, 0.000267825254094633, 0.00026773836520077284, 0.00026765153278411396, 0.0002675647567896064, 0.00026747803716222314, 0.0002673913738469859, 0.00026730476678906096, 0.0002672182159336587, 0.0002671317212260698, 0.00026704528261159443, 0.00026695890003571076, 0.0002668725734438536, 0.0002667863027816234, 0.0002667000879946477, 0.00026661392902860444, 0.0002665278258292578, 0.0002664417783424732, 0.00026635578651419136, 0.00026626985029030845, 0.0002661839696169463, 0.0002660981444401959, 0.00026601237470630444, 0.0002659266603614339, 0.0002658410013520233, 0.00026575539762442016, 0.0002656698491250244, 0.00026558435580053126, 0.0002654989175973673, 0.00026541353446236183, 0.00026532820634217013, 0.0002652429331836371, 0.00026515771493367094, 0.0002650725515391797, 0.0002649874429471459, 0.00026490238910478097, 0.00026481738995913045, 0.00026473244545742046, 0.00026464755554699693, 0.0002645627201752168, 0.00026447793928943036, 0.0002643932128371807, 0.00026430854076606446, 0.0002642239230236913, 0.0002641393595577257, 0.0002640548503159521, 0.0002639703952462318, 0.0002638859942963609, 0.0002638016474144264, 0.0002637173545484124, 0.00026363311564636275, 0.0002635489306565009, 0.00026346479952699635, 0.00026338072220624486, 0.0002632966986425443, 0.0002632127287843602, 0.0002631288125801154, 0.000263044949978453, 0.0002629611409279142, 0.00026287738537727015, 0.00026279368327524567, 0.000262710034570617, 0.00026262643921234484, 0.00026254289714938635, 0.0002624594083307052, 0.0002623759727054393, 0.0002622925902226829, 0.0002622092608316854, 0.0002621259844816629, 0.00026204276112204623, 0.0002619595907022288, 0.00026187647317159514, 0.00026179340847982306, 0.0002617103965763633, 0.0002616274374109588, 0.0002615445309333502, 0.0002614616770932817, 0.00026137887584067347, 0.0002612961271253903, 0.00026121343089741757, 0.000261130787106797, 0.00026104819570368275, 0.0002609656566382276, 0.0002608831698606615, 0.0002608007353212579, 0.0002607183529704141, 0.00026063602275857765, 0.00026055374463614946, 0.00026047151855376077, 0.00026038934446197346, 0.00026030722231154145, 0.0002602251520531475, 0.0002601431336375449, 0.0002600611670157001, 0.00025997925213843434, 0.00025989738895683054, 0.00025981557742186606, 0.00025973381748464665, 0.0002596521090964234, 0.0002595704522083593, 0.00025948884677178056, 0.00025940729273801023, 0.00025932579005853934, 0.0002592443386847526, 0.000259162938568215, 0.00025908158966057876, 0.0002590002919135238, 0.00025891904527865727, 0.0002588378497078703, 0.00025875670515295503, 0.00025867561156580135, 0.0002585945688984171, 0.0002585135771028151, 0.0002584326361311141, 0.00025835174593537784, 0.0002582709064679003, 0.00025819011768086467, 0.0002581093795266613, 0.00025802869195764314, 0.00025794805492627336, 0.00025786746838506153, 0.00025778693228657577, 0.00025770644658344613, 0.00025762601122829835, 0.000257545626173923, 0.00025746529137305954, 0.0002573850067787152, 0.00025730477234363997, 0.00025722458802094505, 0.000257144453763602, 0.00025706436952466726, 0.00025698433525738374, 0.00025690435091493087, 0.00025682441645058805, 0.000256744531817648, 0.00025666469696951344, 0.0002565849118596861, 0.0002565051764415654, 0.00025642549066882313, 0.00025634585449501554, 0.00025626626787382024, 0.00025618673075901107, 0.00025610724310431445, 0.00025602780486367206, 0.0002559484159909007, 0.00025586907644001896, 0.000255789786165059, 0.00025571054512007324, 0.00025563135325921797, 0.00025555221053669765, 0.000255473116906671, 0.00025539407232355447, 0.0002553150767416697, 0.0002552361301154394, 0.0002551572323993352, 0.0002550783835479367, 0.00025499958351572646, 0.0002549208322574945, 0.0002548421297278171, 0.0002547634758815382, 0.0002546848706734099, 0.0002546063140583142, 0.0002545278059912159, 0.00025444934642711027, 0.00025437093532094794, 0.0002542925726278881, 0.00025421425830309463, 0.0002541359923016681, 0.0002540577745790365, 0.0002539796050903526, 0.00025390148379109085, 0.00025382341063662, 0.000253745385582463, 0.00025366740858408763, 0.0002535894795971809, 0.00025351159857730577, 0.00025343376548019915, 0.00025335598026158596, 0.0002532782428773006, 0.00025320055328317224, 0.00025312291143519185, 0.00025304531728923967, 0.00025296777080140593, 0.00025289027192777205, 0.0002528128206243737, 0.00025273541684751134, 0.000252658060553363, 0.0002525807516982802, 0.0002525034902385423, 0.00025242627613059645, 0.0002523491093308917, 0.0002522719897959076, 0.0002521949174822446, 0.00025211789234649276, 0.0002520409143453499, 0.0002519639834354483, 0.0002518870995736983, 0.00025181026271682723, 0.0002517334728217352, 0.0002516567298453639, 0.0002515800337447054, 0.0002515033844768021, 0.0002514267819987512, 0.0002513502262676325, 0.0002512737172407496, 0.00025119725487523093, 0.000251120839128468, 0.00025104446995775415, 0.00025096814732047175, 0.00025089187117421355, 0.0002508156414762992, 0.0002507394581844323, 0.0002506633212561931, 0.0002505872306491955, 0.0002505111863211869, 0.0002504351882299431, 0.0002503592363332371, 0.00025028333058899765, 0.00025020747095509996, 0.0002501316573895132, 0.00025005588985031155, 0.00024998016829545436, 0.00024990449268322225, 0.00024982886297167443, 0.0002497532791190687, 0.00024967774108366906, 0.00024960224882383846, 0.0002495268022979264, 0.0002494514014643934, 0.0002493760462816268, 0.00024930073670829337, 0.0002492254727028232, 0.0002491502542239739, 0.00024907508123032116, 0.00024899995368066213, 0.00024892487153378257, 0.00024884983474845985, 0.00024877484328357285, 0.000248699897098042, 0.00024862499615096084, 0.000248550140401231, 0.0002484753298079168, 0.00024840056433023913, 0.00024832584392735436, 0.00024825116855841636, 0.0002481765381827803, 0.00024810195275969387, 0.00024802741224859984, 0.00024795291660889074, 0.00024787846580000614, 0.00024780405978152035, 0.0002477296985129762, 0.0002476553819539908, 0.0002475811100641759, 0.00024750688280331053, 0.00024743270013115326, 0.0002473585620075131, 0.0002472844683921902, 0.00024721041924513214, 0.0002471364145263436, 0.00024706245419575874, 0.00024698853821345955, 0.0002469146665395255, 0.00024684083913408526, 0.000246767055957358, 0.00024669331696961573, 0.00024661962213110375, 0.0002465459714022, 0.00024647236474328746, 0.0002463988021147129, 0.0002463252834770172, 0.00024625180879079113, 0.00024617837801650785, 0.00024610499111478456, 0.0002460316480464034, 0.0002459583487719657, 0.00024588509325228273, 0.00024581188144815396, 0.0002457387133204716, 0.00024566558883007443, 0.00024559250793795194, 0.000245519470605073, 0.0002454464767924589, 0.00024537352646128034, 0.00024530061957264227, 0.00024522775608769765, 0.000245154935967689, 0.0002450821591739107, 0.00024500942566764265, 0.0002449367354102559, 0.00024486408836323255, 0.0002447914844879169, 0.00024471892374588236, 0.0002446464060986679, 0.0002445739315078681, 0.0002445014999351777, 0.00024442911134215755, 0.0002443567656906441, 0.0002442844629423926, 0.0002442122030591597, 0.0002441399860029562, 0.00024406781173556274, 0.00024399568021896397, 0.0002439235914151925, 0.0002438515452863155, 0.00024377954179434554, 0.00024370758090154886, 0.00024363566257000363, 0.0002435637867619572, 0.00024349195343968983, 0.00024342016256552823, 0.00024334841410183393, 0.0002432767080109637, 0.0002432050442554756, 0.00024313342279774774, 0.00024306184360042428, 0.0002429903066260234, 0.00024291881183716418, 0.00024284735919655168, 0.0002427759486669405, 0.00024270458021096147, 0.00024263325379155954, 0.0002425619693715027, 0.0002424907269137039, 0.00024241952638112736, 0.00024234836773665182, 0.00024227725094344143, 0.00024220617596445732, 0.00024213514276282217, 0.00024206415130175469, 0.00024199320154435531, 0.00024192229345396655, 0.00024185142699376203, 0.0002417806021271267, 0.00024170981881748633, 0.00024163907702812396, 0.0002415683767225979, 0.0002414977178643464, 0.0002414271004169959, 0.00024135652434400647, 0.00024128598960909716, 0.00024121549617584797, 0.00024114504400812357, 0.00024107463306947824, 0.0002410042633238962, 0.0002409339347350719, 0.00024086364726696758, 0.00024079340088351217, 0.0002407231955486361, 0.00024065303122630075, 0.00024058290788067177, 0.00024051282547574653, 0.00024044278397570762, 0.00024037278334467258, 0.00024030282354692439, 0.0002402329045467058, 0.0002401630263082618, 0.0002400931887960321, 0.0002400233919743309, 0.0002399536358076292, 0.00023988392026031617, 0.00023981424529699453, 0.00023974461088212767, 0.00023967501698040348, 0.00023960546355636364, 0.00023953595057470709, 0.00023946647800022407, 0.00023939704579751937, 0.00023932765393153076, 0.00023925830236703834, 0.00023918899106888916, 0.00023911972000205937, 0.00023905048913151845, 0.00023898129842215925, 0.00023891214783913317, 0.000238843037347525, 0.000238773966912396, 0.0002387049364989007, 0.00023863594607228755, 0.00023856699559779513, 0.00023849808504068827, 0.0002384292143663265, 0.00023836038354000814, 0.00023829159252716117, 0.0002382228412932728, 0.00023815412980384595, 0.00023808545802432563, 0.0002380168259202946, 0.0002379482334573826, 0.00023787968060119696, 0.00023781116731748692, 0.00023774269357188627, 0.00023767425933021854, 0.00023760586455829076, 0.00023753750922196344, 0.00023746919328699624, 0.000237400916719484, 0.00023733267948521878, 0.00023726448155030638, 0.0002371963228807747, 0.00023712820344270102, 0.00023706012320212343, 0.00023699208212530194, 0.00023692408017835631, 0.00023685611732755967, 0.00023678819353916008, 0.00023672030877949784, 0.00023665246301489981, 0.00023658465621178413, 0.00023651688833654062, 0.00023644915935565732, 0.00023638146923561065, 0.00023631381794294865, 0.00023624620544433026, 0.00023617863170621802, 0.0002361110966954408, 0.00023604360037854486, 0.00023597614272237156, 0.00023590872369370634, 0.00023584134325923365, 0.00023577400138586864, 0.00023570669804053992, 0.0002356394331901666, 0.00023557220680164374, 0.00023550501884201953, 0.00023543786927825703, 0.00023537075807758583, 0.00023530368520698639, 0.00023523665063364022, 0.0002351696543247708, 0.00023510269624752085, 0.0002350357763692877, 0.0002349688946572359, 0.00023490205107877662, 0.00023483524560130367, 0.00023476847819213742, 0.00023470174881879858, 0.00023463505744878495, 0.00023456840404957003, 0.00023450178858873386, 0.00023443521103392307, 0.00023436867135266786, 0.00023430216951275467, 0.00023423570548177674, 0.000234169279227526, 0.0002341028907178405, 0.00023403653992047388, 0.00023397022680331589, 0.00023390395133425404, 0.00023383771348114328, 0.00023377151321204173, 0.00023370535049492208, 0.00023363922529775336, 0.0002335731375887457, 0.00023350708733587097, 0.00023344107450735477, 0.00023337509907139895, 0.00023330916099614086, 0.0002332432602498509, 0.00023317739680088533, 0.000233111570617478, 0.00023304578166805575, 0.00023298002992102893, 0.00023291431534478165, 0.00023284863790773452, 0.00023278299757855417, 0.00023271739432562599, 0.00023265182811757157, 0.0002325862989230551, 0.0002325208067106661, 0.00023245535144907474, 0.00023238993310704665, 0.00023232455165326054, 0.00023225920705660603, 0.00023219389928583184, 0.00023212862830983709, 0.00023206339409748136, 0.00023199819661773107, 0.0002319330358395282, 0.0002318679117318448, 0.0002318028242637288, 0.00023173777340427946, 0.000231672759122561, 0.0002316077813877299, 0.00023154284016897598, 0.00023147793543546355, 0.00023141306715650483, 0.00023134823530127348, 0.0002312834398391388, 0.00023121868073945422, 0.00023115395797160303, 0.00023108927150500652, 0.00023102462130904648, 0.0002309600073532583, 0.00023089542960715563, 0.00023083088804023088, 0.00023076638262216416, 0.00023070191332256288, 0.00023063748011101204, 0.00023057308295723874, 0.00023050872183099963, 0.00023044439670197458, 0.00023038010753998514, 0.00023031585431488162, 0.00023025163699649803, 0.0002301874555546895, 0.00023012330995946347, 0.0002300592001806853, 0.0002299951261884251, 0.00022993108795266767, 0.0002298670854434855, 0.00022980311863093176, 0.0002297391874851363, 0.000229675291976321, 0.00022961143207463812, 0.00022954760775030703, 0.00022948381897359787, 0.0002294200657147895, 0.00022935634794422088, 0.00022929266563223268, 0.00022922901874921305, 0.00022916540726557506, 0.00022910183115182342, 0.00022903829037843976, 0.0002289747849158649, 0.00022891131473475485, 0.00022884787980562285, 0.0002287844800991779, 0.00022872111558599285, 0.00022865778623673664, 0.00022859449202220462, 0.0002285312329131153, 0.0002284680088802244, 0.00022840481989437101, 0.0002283416659264215, 0.0002282785469472164, 0.00022821546292769177, 0.00022815241383874362, 0.00022808939965147007, 0.00022802642033673416, 0.00022796347586568732, 0.00022790056620934908, 0.0002278376913388408, 0.0002277748512252955, 0.0002277120458398762, 0.0002276492751537866, 0.00022758653913825742, 0.0002275238377645466, 0.0002274611710039881, 0.0002273985388278558, 0.000227335941207606, 0.00022727337811449775, 0.00022721084951999953, 0.00022714835539560077, 0.00022708589571282083, 0.00022702347044304156, 0.00022696107955795611, 0.00022689872302906913, 0.00022683640082801277, 0.00022677411292639594, 0.00022671185929597307, 0.00022664963990836264, 0.0002265874547353193, 0.00022652530374867743, 0.00022646318692014529, 0.00022640110422161714, 0.00022633905562491146, 0.00022627704110192513, 0.0002262150606245934, 0.00022615311416487223, 0.00022609120169474127, 0.00022602932318622766, 0.00022596747861136873, 0.0002259056679422378, 0.0002258438911508848, 0.0002257821482095476, 0.0002257204390903865, 0.00022565876376548236, 0.0002255971222072098, 0.0002255355143877079, 0.00022547394027936204, 0.00022541239985441228, 0.00022535089308530517, 0.0002252894199442872, 0.00022522798040390738, 0.00022516657443652434, 0.00022510520201464386, 0.00022504386311072985, 0.0002249825576973413, 0.00022492128574700307, 0.00022486004723238344, 0.00022479884212605808, 0.0002247376704006532, 0.00022467653202890847, 0.00022461542698349061, 0.00022455435523715335, 0.00022449331676261866, 0.0002244323115328002, 0.00022437133952042941, 0.00022431040069835956, 0.00022424949503953856, 0.00022418862251688461, 0.00022412778310333778, 0.00022406697677181947, 0.00022400620349537968, 0.00022394546324705326, 0.00022388475599988567, 0.0002238240817270178, 0.00022376344040155545, 0.0002237028319966437, 0.00022364225648544207, 0.00022358171384119388, 0.0002235212040371211, 0.00022346072704646313, 0.00022340028284261333, 0.0002233398713988102, 0.0002232794926884896, 0.00022321914668495634, 0.00022315883336163807, 0.00022309855269200726, 0.00022303830464954303, 0.00022297808920771663, 0.00022291790634006812, 0.00022285775602011516, 0.00022279763822156176, 0.0002227375529178723, 0.0002226775000828011, 0.00022261747968997666, 0.0002225574917131502, 0.0002224975361259529, 0.00022243761290218893, 0.0002223777220157009, 0.0002223178634401857, 0.0002222580371495997, 0.00022219824311779353, 0.0002221384813186122, 0.00022207875172596203, 0.000222019054313907, 0.00022195938905635268, 0.00022189975592729446, 0.00022184015490081573, 0.00022178058595100512, 0.00022172104905189368, 0.0002216615441776302, 0.00022160207130240303, 0.00022154263040035009, 0.00022148322144566212, 0.0002214238444125885, 0.0002213644992754188, 0.00022130518600840465, 0.00022124590458589034, 0.00022118665498223125, 0.000221127437171764, 0.0002210682511288967, 0.00022100909682807885, 0.00022094997424371198, 0.0002208908833503447, 0.00022083182412249404, 0.00022077279653464523, 0.00022071380056131284, 0.00022065483617720132, 0.00022059590335692656, 0.00022053700207502367, 0.00022047813230626848, 0.00022041929402531234, 0.00022036048720686013, 0.00022030171182572513, 0.00022024296785667276, 0.00022018425527455283, 0.00022012557405408188, 0.00022006692417020764, 0.00022000830559780872, 0.0002199497183117813, 0.0002198911622871036, 0.00021983263749866033, 0.00021977414392159792, 0.00021971568153079772, 0.0002196572503013907, 0.00021959885020836537, 0.0002195404812269204, 0.00021948214333218424, 0.00021942383649923585, 0.00021936556070327527, 0.00021930731591958622, 0.00021924910212329943, 0.00021919091928975504, 0.0002191327673942508, 0.0002190746464119961, 0.0002190165563184548, 0.00021895849708888587, 0.00021890046869874578, 0.00021884247112345857, 0.00021878450433846655, 0.0002187265683191922, 0.00021866866304118523, 0.00021861078847990276, 0.00021855294461100796, 0.00021849513140995754, 0.00021843734885240108, 0.0002183795969140085, 0.00021832187557036185, 0.00021826418479718506, 0.00021820652457017916, 0.00021814889486503983, 0.00021809129565751348, 0.00021803372692347185, 0.00021797618863859773, 0.00021791868077884993, 0.00021786120332001967, 0.0002178037562379606, 0.00021774633950861195, 0.00021768895310793183, 0.00021763159701190246, 0.00021757427119642735, 0.00021751697563759007, 0.00021745971031133333, 0.00021740247519384988, 0.00021734527026113753, 0.00021728809548931163, 0.00021723095085453447, 0.00021717383633296472, 0.000217116751900809, 0.00021705969753423122, 0.00021700267320953583, 0.0002169456789029318, 0.00021688871459070094, 0.00021683178024917098, 0.00021677487585467124, 0.0002167180013836177, 0.00021666115681234449, 0.00021660434211726119, 0.00021654755727484366, 0.00021649080226154928, 0.00021643407705380439, 0.00021637738162821662, 0.00021632071596125127, 0.00021626408002946139, 0.00021620747380946462, 0.00021615089727785713, 0.00021609435041130745, 0.00021603783318645416, 0.000215981345579959, 0.00021592488756856347, 0.00021586845912896957, 0.00021581206023791021, 0.00021575569087224015, 0.00021569935100875133, 0.0002156430406242293, 0.00021558675969555167, 0.00021553050819955928, 0.00021547428611323294, 0.00021541809341340618, 0.00021536193007715295, 0.00021530579608135367, 0.00021524969140295947, 0.00021519361601912365, 0.0002151375699068402, 0.0002150815530431346, 0.00021502556540516652, 0.00021496960697004985, 0.000214913677714887, 0.0002148577776168386, 0.00021480190665309812, 0.00021474606480093424, 0.00021469025203757928, 0.00021463446834023932, 0.00021457871368623816, 0.00021452298805283747, 0.00021446729141745823, 0.00021441162375740078, 0.0002143559850500221, 0.00021430037527277654, 0.00021424479440301732, 0.0002141892424182877, 0.00021413371929604314, 0.0002140782250137072, 0.0002140227595488864, 0.0002139673228791096, 0.00021391191498185678, 0.0002138565358348051, 0.0002138011854156023, 0.0002137458637017949, 0.00021369057067107091, 0.00021363530630113124, 0.00021358007056965602, 0.00021352486345445188, 0.00021346968493317437, 0.00021341453498362388, 0.0002133594135836636, 0.00021330432071102384, 0.0002132492563436193, 0.00021319422045926436, 0.00021313921303586897, 0.0002130842340514123, 0.00021302928348372222, 0.00021297436131082238, 0.00021291946751069156, 0.00021286460206134677, 0.00021280976494075728, 0.00021275495612702765, 0.00021270017559823316, 0.00021264542333240436, 0.00021259069930776943, 0.000212536003502353, 0.00021248133589442278, 0.00021242669646204316, 0.0002123720851835192, 0.00021231750203707205, 0.0002122629470009468, 0.0002122084200534005, 0.0002121539211727678, 0.00021209945033729682, 0.00021204500752542688, 0.00021199059271544067, 0.00021193620588576254, 0.00021188184701483303, 0.00021182751608100203, 0.00021177321306281265, 0.0002117189379386499, 0.00021166469068710286, 0.00021161047128665354, 0.00021155627971581193, 0.00021150211595323125, 0.00021144797997739112, 0.0002113938717669858, 0.00021133979130059973, 0.0002112857385568545, 0.00021123171351454615, 0.0002111777161522182, 0.0002111237464487074, 0.00021106980438265581, 0.00021101588993294399, 0.00021096200307825388, 0.00021090814379745538, 0.00021085431206931468, 0.00021080050787269315, 0.00021074673118650906, 0.00021069298198960837, 0.0002106392602609599, 0.00021058556597942585, 0.00021053189912403032, 0.00021047825967368403, 0.0002104246476074334, 0.00021037106290430015, 0.00021031750554330588, 0.00021026397550350773, 0.00021021047276403756, 0.0002101569973039297, 0.00021010354910235446, 0.00021005012813849519, 0.00020999673439145642, 0.00020994336784046399, 0.00020989002846475972, 0.00020983671624350537, 0.00020978343115604528, 0.0002097301731815695, 0.00020967694229941127, 0.00020962373848891236, 0.00020957056172939028, 0.00020951741200016922, 0.00020946428928070795, 0.00020941119355032725, 0.00020935812478852197, 0.00020930508297470476, 0.00020925206808835794, 0.00020919908010892966, 0.0002091461190159974, 0.00020909318478899602, 0.00020904027740753354, 0.00020898739685114051, 0.00020893454309947867, 0.00020888171613210447, 0.0002088289159286604, 0.0002087761424687502, 0.00020872339573216073, 0.00020867067569847836, 0.00020861798234746897, 0.00020856531565887552, 0.00020851267561239573, 0.0002084600621878571, 0.00020840747536505358, 0.0002083549151237422, 0.0002083023814438651, 0.00020824987430521146, 0.00020819739368766035, 0.00020814493957108956, 0.00020809251193552308, 0.0002080401107607787, 0.00020798773602684448, 0.00020793538771369816, 0.00020788306580143078, 0.0002078307702699224, 0.00020777850109931874, 0.0002077262582695948, 0.0002076740417609209, 0.0002076218515533212, 0.0002075696876269473, 0.00020751754996191056, 0.00020746543853845562, 0.00020741335333667656, 0.0002073612943368073, 0.00020730926151902798, 0.00020725725486366324, 0.00020720527435093378, 0.0002071533199610328, 0.00020710139167438857, 0.00020704948947128664, 0.000206997613332022, 0.00020694576323697302, 0.00020689393916652505, 0.00020684214110104697, 0.00020679036902101174, 0.00020673862290687152, 0.00020668690273898427, 0.00020663520849788605, 0.00020658354016413693, 0.00020653189771809117, 0.00020648028114045338, 0.00020642869041167307, 0.00020637712551237997, 0.00020632558642317157, 0.0002062740731245972, 0.00020622258559734976, 0.00020617112382201831, 0.00020611968777937945, 0.0002060682774500132, 0.00020601689281467, 0.00020596553385413178, 0.00020591420054908013, 0.00020586289288032503, 0.00020581161082864217, 0.00020576035437482862, 0.0002057091234996881, 0.00020565791818411008, 0.0002056067384089355, 0.00020555558415503875, 0.0002055044554033413, 0.0002054533521347557, 0.00020540227433025308, 0.00020535122197076338]\n",
      "w,b [[-2.28159057e-01]\n",
      " [-2.86380965e-01]\n",
      " [-2.71919306e-01]\n",
      " [-1.16653697e-01]\n",
      " [ 1.80719076e-02]\n",
      " [-1.78230058e-02]\n",
      " [-3.38532310e-02]\n",
      " [-1.70344537e-01]\n",
      " [-2.01429159e-01]\n",
      " [-2.98570046e-01]\n",
      " [-2.78295020e-01]\n",
      " [ 6.09988934e-02]\n",
      " [-2.54903131e-01]\n",
      " [-1.25763251e-01]\n",
      " [-1.56424211e-01]\n",
      " [-4.95289044e-02]\n",
      " [-1.40291691e-01]\n",
      " [ 2.78139919e-03]\n",
      " [-2.74276784e-01]\n",
      " [-1.09957840e-01]\n",
      " [-1.01991590e-01]\n",
      " [-8.46074876e-02]\n",
      " [-4.13019941e-01]\n",
      " [-1.43129303e-01]\n",
      " [ 7.32317775e-02]\n",
      " [ 3.65616674e-02]\n",
      " [ 9.17945016e-02]\n",
      " [-4.31951489e-01]\n",
      " [ 6.61969901e-04]\n",
      " [-6.68788489e-02]\n",
      " [ 1.53775345e-02]\n",
      " [ 5.73973580e-02]\n",
      " [-2.01980948e-01]\n",
      " [-1.25331356e-01]\n",
      " [-1.79706712e-01]\n",
      " [-3.52410884e-01]\n",
      " [ 7.24147284e-03]\n",
      " [-4.15339460e-01]\n",
      " [ 1.61188685e-01]\n",
      " [-8.75472731e-02]\n",
      " [-1.91449436e-02]\n",
      " [ 6.16970594e-02]\n",
      " [ 8.55981046e-02]\n",
      " [ 4.09663046e-02]\n",
      " [-4.05461295e-01]\n",
      " [-6.66276540e-03]\n",
      " [ 3.33808235e-02]\n",
      " [ 8.16340817e-02]\n",
      " [-9.67299800e-02]\n",
      " [ 5.37226179e-02]\n",
      " [ 7.76463350e-02]\n",
      " [-1.68549105e-01]\n",
      " [-3.33494506e-01]\n",
      " [ 2.64716804e-02]\n",
      " [ 8.33541672e-02]\n",
      " [-2.68812809e-01]\n",
      " [ 1.01963768e-01]\n",
      " [-5.90290212e-02]\n",
      " [ 5.11389971e-02]\n",
      " [-9.47418773e-02]\n",
      " [ 2.48775574e-01]\n",
      " [ 1.15417265e-01]\n",
      " [-5.90799090e-02]\n",
      " [ 1.25518909e-02]\n",
      " [-1.75631727e-01]\n",
      " [-3.05465197e-02]\n",
      " [-2.89211686e-04]\n",
      " [-1.45100190e-01]\n",
      " [-3.31477815e-01]\n",
      " [-2.05235372e-02]\n",
      " [ 7.08731994e-02]\n",
      " [-1.03815932e-01]\n",
      " [ 1.44646905e-01]\n",
      " [ 1.09925936e-01]\n",
      " [-6.13618197e-02]\n",
      " [-3.61662950e-02]\n",
      " [ 5.47432883e-02]\n",
      " [-8.42411597e-02]\n",
      " [-2.84881372e-02]\n",
      " [ 1.04303574e-01]\n",
      " [-8.89467639e-02]\n",
      " [ 2.83969912e-01]\n",
      " [ 1.34285914e-01]\n",
      " [-7.74063328e-02]\n",
      " [-1.82013325e-01]\n",
      " [ 3.20886010e-02]\n",
      " [-2.80713789e-01]\n",
      " [-4.63879184e-01]\n",
      " [-2.06858098e-01]\n",
      " [-9.69841007e-02]\n",
      " [-1.08989315e-01]\n",
      " [-9.89266936e-02]\n",
      " [-8.15937463e-02]\n",
      " [-1.91311889e-01]\n",
      " [-8.11768000e-02]\n",
      " [-3.17393483e-01]\n",
      " [-1.37204958e-02]\n",
      " [-1.31838504e-01]\n",
      " [ 1.85422909e-01]\n",
      " [-2.33768715e-02]\n",
      " [-1.43175422e-01]\n",
      " [-1.25084863e-01]\n",
      " [ 1.43168832e-01]\n",
      " [ 8.70285039e-02]\n",
      " [-6.46218550e-02]\n",
      " [ 2.85331044e-02]\n",
      " [ 6.21726638e-03]\n",
      " [-9.59989264e-02]\n",
      " [-6.27540254e-02]\n",
      " [-1.51536070e-01]\n",
      " [ 1.90030443e-01]\n",
      " [-1.84848188e-01]\n",
      " [-1.57726845e-03]\n",
      " [-2.43397572e-01]\n",
      " [-5.94632106e-02]\n",
      " [ 4.97330683e-02]\n",
      " [-4.29067634e-01]\n",
      " [-7.39176459e-01]\n",
      " [-1.42534435e-01]\n",
      " [-1.60591071e-01]\n",
      " [-2.18828666e-01]\n",
      " [-5.12645889e-02]\n",
      " [ 5.31920558e-02]\n",
      " [-3.15864369e-01]\n",
      " [-1.08201964e-01]\n",
      " [-3.65215638e-02]\n",
      " [-1.23218298e-01]\n",
      " [-1.68459451e-01]\n",
      " [ 1.63915952e-01]\n",
      " [-1.22236677e-01]\n",
      " [-3.10319676e-03]\n",
      " [-3.62653562e-01]\n",
      " [-3.88787760e-01]\n",
      " [ 3.82777820e-02]\n",
      " [-5.53886655e-01]\n",
      " [-3.08482672e-01]\n",
      " [-2.77881158e-01]\n",
      " [-6.64145126e-02]\n",
      " [ 1.64188360e-01]\n",
      " [-6.09452295e-02]\n",
      " [-2.22799331e-02]\n",
      " [ 1.07037743e-01]\n",
      " [ 8.52634979e-03]\n",
      " [ 5.36728255e-02]\n",
      " [-8.81236292e-03]\n",
      " [ 3.28429279e-03]\n",
      " [ 7.43902238e-02]\n",
      " [-8.69725602e-01]\n",
      " [ 6.02421956e-03]\n",
      " [-1.14168475e+00]\n",
      " [-1.10687036e-01]\n",
      " [-2.17295412e-01]\n",
      " [-3.30083591e-01]\n",
      " [-3.69933001e-02]\n",
      " [ 5.63075650e-02]\n",
      " [ 9.28605066e-02]\n",
      " [-4.21527415e-02]\n",
      " [-2.98505947e-02]\n",
      " [ 2.45164313e-01]\n",
      " [ 2.87970237e-02]\n",
      " [-2.97404490e-01]\n",
      " [-1.90018779e-02]\n",
      " [-2.24705748e-02]\n",
      " [-9.35366080e-01]\n",
      " [-1.78964175e-01]\n",
      " [-5.82147171e-01]\n",
      " [-7.58309539e-01]\n",
      " [-7.92492339e-02]\n",
      " [-3.35263394e-01]\n",
      " [ 1.21485049e-01]\n",
      " [ 2.36208118e-01]\n",
      " [-1.71971143e-01]\n",
      " [-9.04751855e-02]\n",
      " [-5.98406164e-02]\n",
      " [ 2.96789770e-01]\n",
      " [ 5.60202926e-02]\n",
      " [-4.04932937e-01]\n",
      " [ 8.49172855e-02]\n",
      " [-1.22131701e-01]\n",
      " [-9.65924859e-01]\n",
      " [-6.52050892e-01]\n",
      " [-2.56001004e-01]\n",
      " [-3.88853027e-01]\n",
      " [-2.56034556e-01]\n",
      " [-4.50789238e-02]\n",
      " [-7.84395196e-02]\n",
      " [-3.19516592e-03]\n",
      " [ 8.05646374e-02]\n",
      " [ 6.72602152e-02]\n",
      " [-5.93074842e-02]\n",
      " [ 3.99347905e-01]\n",
      " [-1.34513174e-01]\n",
      " [-2.10724941e-01]\n",
      " [-5.46804083e-03]\n",
      " [ 1.29370313e-01]\n",
      " [-7.24617872e-01]\n",
      " [-1.68013709e-01]\n",
      " [-3.29766177e-01]\n",
      " [-2.30375706e-02]\n",
      " [-2.77923877e-01]\n",
      " [ 1.55202741e-02]\n",
      " [ 8.00394840e-02]\n",
      " [ 2.26209304e-01]\n",
      " [-1.04659046e-02]\n",
      " [-3.97436246e-01]\n",
      " [ 9.32984173e-02]\n",
      " [ 3.26854035e-01]\n",
      " [-5.30075562e-02]\n",
      " [-8.91692146e-02]\n",
      " [ 1.28722472e-01]\n",
      " [-1.25967980e-01]\n",
      " [-4.91769782e-01]\n",
      " [-9.53877368e-01]\n",
      " [-7.90582400e-01]\n",
      " [-3.04868365e-01]\n",
      " [ 5.71650683e-02]\n",
      " [-8.06217268e-02]\n",
      " [-2.53481818e-02]\n",
      " [-4.18631560e-01]\n",
      " [-3.06459498e-01]\n",
      " [ 9.10700940e-02]\n",
      " [-3.40260195e-02]\n",
      " [ 1.19546816e-01]\n",
      " [-2.43645265e-01]\n",
      " [-3.84208175e-01]\n",
      " [-3.64821328e-01]\n",
      " [-2.47586028e-01]\n",
      " [-2.30642313e-01]\n",
      " [-8.59930895e-03]\n",
      " [ 2.80802996e-02]\n",
      " [ 1.17623846e-01]\n",
      " [-2.88957338e-02]\n",
      " [ 1.14760641e-01]\n",
      " [-9.76885735e-02]\n",
      " [-1.00117417e-01]\n",
      " [-1.29217713e-01]\n",
      " [-1.15738738e-01]\n",
      " [-1.58850179e-01]\n",
      " [-5.78602820e-01]\n",
      " [-2.35220278e-01]\n",
      " [-3.00040357e-01]\n",
      " [ 3.71281613e-02]\n",
      " [ 2.96597168e-02]\n",
      " [ 2.97353872e-01]\n",
      " [ 1.11535629e-02]\n",
      " [ 2.17733545e-01]\n",
      " [ 1.65393940e-01]\n",
      " [-2.57070487e-01]\n",
      " [ 3.38539152e-02]\n",
      " [ 5.23649107e-02]\n",
      " [ 2.63311393e-01]\n",
      " [-3.50722955e-01]\n",
      " [ 6.21828609e-02]\n",
      " [-3.34784184e-02]\n",
      " [-3.66757931e-01]\n",
      " [-2.51757349e-01]] 2.860423802565286\n"
     ]
    },
    {
     "data": {
      "image/png": "[encoded data removed]",
      "text/plain": [
       "<Figure size 432x288 with 1 Axes>"
      ]
     },
     "metadata": {},
     "output_type": "display_data"
    }
   ],
   "source": [
    "sn_ce = SigmoidNeuron1()\n",
    "best_epoch   = 4000\n",
    "best_lr_rate = 0.0008\n",
    "sn_ce.fit(X_scaled_train, Y_train, epochs=best_epoch, learning_rate=best_lr_rate, loss_fn=\"ce\", display_loss=True)\n",
    "Y_pred_binarised_train = (sn_ce.predict(X_scaled_train)>= 0.5).astype(\"int\").ravel()\n"
   ]
  },
  {
   "cell_type": "code",
   "execution_count": 15,
   "metadata": {
    "_uuid": "e9ec2afcd9c0eed6970f6f986fbe41501bf3183e"
   },
   "outputs": [
    {
     "data": {
      "application/vnd.jupyter.widget-view+json": {
       "model_id": "4e7bf3c2904347a1a13188d692bdfa47",
       "version_major": 2,
       "version_minor": 0
      },
      "text/plain": [
       "HBox(children=(IntProgress(value=0, max=4000), HTML(value='')))"
      ]
     },
     "metadata": {},
     "output_type": "display_data"
    },
    {
     "name": "stdout",
     "output_type": "stream",
     "text": [
      "\n",
      "dict_values([0.24141022771761414, 0.20608144382978494, 0.17802746487184032, 0.15577235535477857, 0.13758574747264177, 0.12235019845319745, 0.10944564355846773, 0.09846155748046583, 0.08904570417200895, 0.08088150126987236, 0.07371627581578823, 0.0673713168490234, 0.061727263177354406, 0.05670320139715533, 0.05223942162646259, 0.048285598629691236, 0.04479402098139059, 0.04171702460565318, 0.03900718345844466, 0.03661864762435618, 0.03450853263740653, 0.03263790972322648, 0.030972328321874208, 0.029481938514320075, 0.028141311668703883, 0.026929059608614567, 0.025827344196646007, 0.024821352386293315, 0.023898789980986327, 0.023049425758972463, 0.02226470014718593, 0.021537400639051612, 0.02086139915490038, 0.02023144323506668, 0.019642991996027866, 0.01909208813653281, 0.018575258274537317, 0.01808943512434353, 0.017631896264066794, 0.017200215380461743, 0.016792222856797358, 0.016405973372056175, 0.01603971881098606, 0.01569188526269555, 0.015361053235539063, 0.015045940464697, 0.014745386861069461, 0.014458341267135251, 0.01418384976415172, 0.013921045328109843, 0.013669138668178973, 0.013427410107086764, 0.013195202381950875, 0.012971914259020223, 0.012756994868092376, 0.012549938672942799, 0.012350281003418853, 0.01215759408319757, 0.01197148349472453, 0.011791585029635284, 0.011617561879062748, 0.011449102123702105, 0.011285916488380962, 0.011127736330210854, 0.010974311833218968, 0.010825410385723964, 0.010680815119670261, 0.010540323593713678, 0.010403746604101425, 0.010270907109348987, 0.01014163925641974, 0.010015787497594547, 0.009893205788505022, 0.009773756858925231, 0.00965731154888798, 0.009543748203543197, 0.009432952120913099, 0.00932481504734999, 0.009219234716065491, 0.009116114424600903, 0.00901536264754423, 0.008916892681187092, 0.00882062231715422, 0.008726473542342949, 0.008634372262776847, 0.0085442480492164, 0.008456033902583876, 0.008369666037448539, 0.008285083681987607, 0.00820222889299282, 0.00812104638462608, 0.008041483369752554, 0.007963489412788112, 0.007887016293098143, 0.007812017878072695, 0.007738450005084509, 0.007666270371608221, 0.007595438432844086, 0.007525915306249041, 0.007457663682431388, 0.007390647741912592, 0.007324833077303795, 0.0072601866204847956, 0.0071966765744065605, 0.007134272349173544, 0.0070729445020891015, 0.007012664681374922, 0.006953405573298881, 0.006895140852468112, 0.006837845135063914, 0.006781493934812382, 0.006726063621502106, 0.006671531381874686, 0.006617875182727972, 0.006565073736082937, 0.00651310646627894, 0.006461953478870109, 0.006411595531206166, 0.006362014004590324, 0.006313190877912977, 0.00626510870266947, 0.006217750579274935, 0.006171100134597207, 0.006125141500632187, 0.006079859294253815, 0.0060352385979739, 0.005991264941651242, 0.005947924285095656, 0.005905203001513422, 0.005863087861746494, 0.00582156601925993, 0.005780624995834829, 0.005740252667927851, 0.005700437253659416, 0.005661167300396498, 0.005622431672897743, 0.005584219541989311, 0.0055465203737444305, 0.00550932391913884, 0.005472620204157172, 0.005436399520327055, 0.005400652415658308, 0.005365369685966606, 0.005330542366562268, 0.005296161724284832, 0.005262219249867338, 0.0052287066506125175, 0.005195615843367288, 0.005162938947778594, 0.0051306682798196055, 0.005098796345570925, 0.005067315835246421, 0.0050362196174507734, 0.005005500733659079, 0.004975152392907021, 0.004945167966682777, 0.004915540984011045, 0.004886265126720533, 0.004857334224886546, 0.004828742252441039, 0.0048004833229428135, 0.004772551685500156, 0.004744941720840431, 0.004717647937519043, 0.0046906649682626434, 0.004663987566440426, 0.004637610602658605, 0.0046115290614719435, 0.004585738038208711, 0.004560232735903545, 0.004535008462333751, 0.0045100606271556475, 0.0044853847391358335, 0.004460976403474738, 0.004436831319217452, 0.004412945276749901, 0.0043893141553756065, 0.004365933920970979, 0.004342800623715523, 0.004319910395894113, 0.004297259449769162, 0.004274844075518939, 0.004252660639241016, 0.00423070558101696, 0.0042089754130371785, 0.004187466717782891, 0.00416617614626345, 0.004145100416307488, 0.004124236310904831, 0.004103580676598472, 0.004083130421924291, 0.004062882515896752, 0.004042833986539278, 0.004022981919457623, 0.004003323456454625, 0.003983855794185054, 0.003964576182849258, 0.003945481924923968, 0.003926570373929389, 0.003907838933231311, 0.003889285054876385, 0.0038709062384608608, 0.0038527000300299305, 0.00383466402100858, 0.003816795847160927, 0.0037990931875790494, 0.0037815537636984886, 0.0037641753383414263, 0.003746955714785173, 0.0037298927358558535, 0.003712984283046216, 0.003696228275657437, 0.003679622669963245, 0.0036631654583961126, 0.0036468546687551608, 0.0036306883634345043, 0.003614664638671831, 0.0035987816238164847, 0.0035830374806161344, 0.0035674304025223695, 0.0035519586140133753, 0.003536620369934422, 0.0035214139548546265, 0.00350633768244045, 0.0034913898948442245, 0.003476568962108892, 0.0034618732815868505, 0.003447301277373471, 0.003432851399754578, 0.003418522124667791, 0.003404311953176651, 0.0033902194109578327, 0.003376243047800753, 0.0033623814371192785, 0.0033486331754753276, 0.003334996882113688, 0.003321471198508185, 0.0033080547879184947, 0.0032947463349576583, 0.003281544545169495, 0.0032684481446164588, 0.003255455879476572, 0.0032425665156501932, 0.0032297788383759823, 0.0032170916518552872, 0.0032045037788858244, 0.0031920140605032543, 0.003179621355631292, 0.0031673245407397082, 0.003155122509510115, 0.003143014172509348, 0.0031309984568701553, 0.003119074305979016, 0.003107240679171414, 0.0030954965514330478, 0.003083840913108597, 0.0030722727696163815, 0.003060791141169517, 0.003049395062503092, 0.0030380835826075638, 0.003026855764467673, 0.0030157106848074655, 0.0030046474338402142, 0.002993665115024324, 0.002982762844824398, 0.002971939752477064, 0.0029611949797622157, 0.0029505276807790734, 0.002939937021726741, 0.002929422180689704, 0.00291898234742767, 0.002908616723170033, 0.002898324520414288, 0.0028881049627291367, 0.0028779572845612704, 0.0028678807310462905, 0.0028578745578237133, 0.0028479380308557125, 0.002838070426249244, 0.0028282710300823236, 0.0028185391382335606, 0.0028088740562152758, 0.0027992750990098237, 0.002789741590909438, 0.0027802728653592273, 0.0027708682648031847, 0.0027615271405335992, 0.002752248852543057, 0.0027430327693797416, 0.0027338782680055252, 0.0027247847336566077, 0.0027157515597071424, 0.0027067781475357366, 0.002697863906393869, 0.0026890082532778138, 0.0026802106128022674, 0.002671470417076706, 0.002662787105584298, 0.0026541601250630402, 0.002645588929388882, 0.002637072979461625, 0.002628611743092536, 0.0026202046948943522, 0.002611851316173424, 0.0026035510948234975, 0.0025953035252220718, 0.0025871081081281864, 0.0025789643505824194, 0.0025708717658089295, 0.002562829873118637, 0.0025548381978149877, 0.0025468962711009653, 0.002539003629988089, 0.0025311598172068303, 0.002523364381118901, 0.0025156168756311228, 0.0025079168601106327, 0.0025002638993019415, 0.002492657563245432, 0.0024850974271969826, 0.0024775830715496453, 0.0024701140817560935, 0.002462690048253058, 0.002455310566386663, 0.002447975236339291, 0.0024406836630576057, 0.002433435456182173, 0.0024262302299780723, 0.002419067603266435, 0.0024119471993581253, 0.0024048686459873137, 0.002397831575247314, 0.002390835623527094, 0.0023838804314485797, 0.002376965643805709, 0.0023700909095039154, 0.0023632558815010673, 0.0023564602167494256, 0.0023497035761380087, 0.0023429856244369307, 0.0023363060302416857, 0.002329664465919102, 0.0023230606075538844, 0.00231649413489613, 0.0023099647313095657, 0.00230347208372111, 0.0022970158825706224, 0.002290595821762268, 0.0022842115986157906, 0.002277862913819478, 0.002271549471383338, 0.002265270978593251, 0.002259027145965703, 0.0022528176872037525, 0.002246642319152973, 0.00224050076175881, 0.002234392738024158, 0.002228317973967852, 0.002222276198584037, 0.002216267143801403, 0.002210290544444171, 0.002204346138192918, 0.0021984336655461816, 0.0021925528697829834, 0.0021867034969256143, 0.0021808852957031274, 0.0021750980175154404, 0.0021693414163980206, 0.0021636152489869806, 0.0021579192744851385, 0.0021522532546278087, 0.0021466169536500947, 0.002141010138254025, 0.0021354325775764064, 0.002129884043157268, 0.002124364308908467, 0.00211887315108345, 0.0021134103482465276, 0.002107975681243647, 0.0021025689331727417, 0.002097189889355087, 0.0020918383373068547, 0.002086514066711163, 0.0020812168693905716, 0.002075946539279997, 0.002070702872399904, 0.0020654856668301724, 0.0020602947226839884, 0.002055129842082558, 0.0020499908291297954, 0.0020448774898877554, 0.002039789632351946, 0.0020347270664276868, 0.0020296896039062157, 0.002024677058441365, 0.0020196892455267255, 0.0020147259824729214, 0.0020097870883852295, 0.002004872384141889, 0.001999981692372197, 0.001995114837435164, 0.0019902716453987905, 0.001985451944018841, 0.0019806555627190697, 0.001975882332570456, 0.001971132086271935, 0.0019664046581303924, 0.0019616998840416653, 0.0019570176014715762, 0.0019523576494369923, 0.0019477198684876294, 0.0019431041006875984, 0.0019385101895977265, 0.0019339379802578085, 0.0019293873191690478, 0.0019248580542769926, 0.0019203500349546418, 0.0019158631119856268, 0.001911397137547804, 0.0019069519651970248, 0.001902527449851009, 0.0018981234477738241, 0.0018937398165600019, 0.0018893764151193637, 0.001885033103661804, 0.0018807097436825085, 0.0018764061979469739, 0.0018721223304765814, 0.001867858006534487, 0.001863613092611105, 0.001859387456410436, 0.0018551809668362253, 0.0018509934939784402, 0.0018468249090998043, 0.0018426750846226552, 0.0018385438941160492, 0.001834431212282537, 0.0018303369149459472, 0.0018262608790385543, 0.0018222029825889032, 0.0018181631047094603, 0.0018141411255848709, 0.0018101369264599048, 0.0018061503896277071, 0.0018021813984184802, 0.001798229837187888, 0.001794295591305973, 0.001790378547145892, 0.0017864785920730837, 0.0017825956144344758, 0.0017787295035477874, 0.001774880149690855, 0.001771047444091608, 0.0017672312789174462, 0.0017634315472652487, 0.0017596481431514644, 0.0017558809615022166, 0.001752129898143337, 0.0017483948497911386, 0.0017446757140426583, 0.0017409723893664062, 0.0017372847750929579, 0.0017336127714060884, 0.001729956279333478, 0.0017263152007380527, 0.0017226894383089422, 0.001719078895553061, 0.001715483476786354, 0.0017119030871254296, 0.001708337632479203, 0.0017047870195404978, 0.0017012511557781673, 0.0016977299494286848, 0.00169422330948865, 0.0016907311457065438, 0.0016872533685750781, 0.0016837898893237663, 0.0016803406199110168, 0.0016769054730168323, 0.0016734843620356031, 0.0016700772010684833, 0.0016666839049164002, 0.001663304389072881, 0.0016599385697170746, 0.001656586363706729, 0.0016532476885714866, 0.0016499224625059537, 0.0016466106043631023, 0.001643312033647555, 0.0016400266705091748, 0.0016367544357367104, 0.0016334952507510345, 0.0016302490375993024, 0.0016270157189483684, 0.0016237952180789099, 0.0016205874588791332, 0.001617392365838924, 0.0016142098640438457, 0.001611039879169183, 0.001607882337474498, 0.0016047371657973775, 0.0016016042915482104, 0.001598483642704474, 0.001595375147805027, 0.001592278735944851, 0.0015891943367697284, 0.0015861218804705686, 0.00158306129777846, 0.0015800125199592972, 0.0015769754788086357, 0.0015739501066466895, 0.001570936336313217, 0.0015679341011625393, 0.0015649433350585964, 0.0015619639723702867, 0.0015589959479662824, 0.001556039197210736, 0.0015530936559581242, 0.0015501592605489988, 0.0015472359478050938, 0.0015443236550249733, 0.001541422319979392, 0.0015385318809070807, 0.0015356522765101175, 0.0015327834459496325, 0.0015299253288416723, 0.0015270778652529027, 0.001524240995696189, 0.0015214146611268204, 0.0015185988029380382, 0.0015157933629572648, 0.0015129982834419479, 0.0015102135070755704, 0.001507438976963934, 0.0015046746366310095, 0.0015019204300151484, 0.0014991763014654696, 0.001496442195737984, 0.0014937180579918858, 0.001491003833785779, 0.0014882994690743213, 0.0014856049102043069, 0.001482920103911315, 0.0014802449973161916, 0.0014775795379214716, 0.0014749236736080209, 0.0014722773526315265, 0.0014696405236193622, 0.0014670131355670269, 0.0014643951378348209, 0.0014617864801449584, 0.001459187112577817, 0.0014565969855692335, 0.0014540160499069256, 0.0014514442567277542, 0.0014488815575143662, 0.0014463279040922098, 0.0014437832486266767, 0.0014412475436197149, 0.001438720741907344, 0.0014362027966564387, 0.0014336936613617986, 0.001431193289843486, 0.001428701636243904, 0.0014262186550248188, 0.0014237443009648269, 0.001421278529156474, 0.001418821295003685, 0.0014163725542186564, 0.0014139322628198342, 0.0014115003771286768, 0.0014090768537674226, 0.0014066616496563014, 0.0014042547220111594, 0.0014018560283407088, 0.0013994655264442503, 0.0013970831744089282, 0.0013947089306076308, 0.0013923427536962794, 0.0013899846026114802, 0.0013876344365681774, 0.0013852922150573558, 0.0013829578978435894, 0.0013806314449628261, 0.0013783128167200868, 0.0013760019736871294, 0.0013736988767004072, 0.0013714034868585676, 0.0013691157655203988, 0.0013668356743028682, 0.0013645631750785145, 0.00136229822997382, 0.0013600408013666454, 0.0013577908518845223, 0.0013555483444022526, 0.0013533132420402957, 0.0013510855081621555, 0.001348865106372974, 0.0013466520005171623, 0.0013444461546765344, 0.0013422475331684542, 0.0013400561005436785, 0.0013378718215847352, 0.0013356946613039076, 0.0013335245849412686, 0.0013313615579628713, 0.0013292055460591464, 0.0013270565151426857, 0.00132491443134688, 0.001322779261023648, 0.0013206509707421202, 0.0013185295272865932, 0.0013164148976550578, 0.0013143070490571934, 0.0013122059489128531, 0.001310111564850415, 0.0013080238647049747, 0.0013059428165167958, 0.0013038683885295724, 0.0013018005491890763, 0.0012997392671411537, 0.001297684511230447, 0.0012956362504988079, 0.0012935944541835193, 0.0012915590917159066, 0.001289530132719962, 0.0012875075470104504, 0.0012854913045917825, 0.0012834813756562894, 0.0012814777305828135, 0.0012794803399354129, 0.0012774891744615445, 0.0012755042050911667, 0.0012735254029347422, 0.0012715527392823131, 0.0012695861856017244, 0.001267625713537644, 0.0012656712949098777, 0.001263722901712138, 0.001261780506110654, 0.00125984408044292, 0.0012579135972163775, 0.0012559890291070827, 0.0012540703489583528, 0.0012521575297795111, 0.001250250544744786, 0.0012483493671918606, 0.0012464539706206524, 0.0012445643286922144, 0.0012426804152272316, 0.0012408022042052435, 0.0012389296697630182, 0.0012370627861936303, 0.0012352015279451355, 0.0012333458696195186, 0.0012314957859714498, 0.0012296512519071345, 0.0012278122424833563, 0.0012259787329059733, 0.001224150698529323, 0.001222328114854546, 0.0012205109575289638, 0.0012186992023447826, 0.0012168928252378954, 0.0012150918022871256, 0.0012132961097128861, 0.0012115057238763784, 0.0012097206212783105, 0.001207940778557921, 0.001206166172492156, 0.0012043967799944579, 0.0012026325781138254, 0.0012008735440338343, 0.0011991196550716063, 0.001197370888676829, 0.0011956272224308653, 0.0011938886340458136, 0.0011921551013633705, 0.0011904266023541005, 0.001188703115116306, 0.001186984617875307, 0.001185271088982465, 0.001183562506914, 0.0011818588502706105, 0.0011801600977761287, 0.001178466228276768, 0.0011767772207402912, 0.0011750930542551747, 0.0011734137080296593, 0.0011717391613908375, 0.0011700693937839904, 0.0011684043847716337, 0.0011667441140325258, 0.0011650885613612417, 0.0011634377066669793, 0.0011617915299728962, 0.0011601500114153068, 0.0011585131312428054, 0.0011568808698156406, 0.0011552532076046832, 0.001153630125190842, 0.0011520116032643208, 0.0011503976226235708, 0.001148788164174901, 0.0011471832089314591, 0.0011455827380124986, 0.0011439867326428627, 0.0011423951741519817, 0.0011408080439732576, 0.0011392253236434298, 0.0011376469948017132, 0.0011360730391890281, 0.0011345034386476176, 0.0011329381751200062, 0.0011313772306484583, 0.0011298205873743453, 0.0011282682275372212, 0.0011267201334744785, 0.0011251762876204297, 0.0011236366725058307, 0.0011221012707569981, 0.0011205700650952883, 0.0011190430383365099, 0.0011175201733901474, 0.0011160014532587248, 0.0011144868610374141, 0.0011129763799130068, 0.0011114699931636539, 0.0011099676841580045, 0.0011084694363547028, 0.0011069752333018365, 0.0011054850586362539, 0.0011039988960828188, 0.0011025167294541531, 0.001101038542649805, 0.0010995643196556797, 0.0010980940445436292, 0.001096627701470614, 0.001095165274678368, 0.0010937067484926685, 0.0010922521073230005, 0.0010908013356616725, 0.0010893544180835754, 0.0010879113392453898, 0.001086472083885179, 0.0010850366368219567, 0.0010836049829547865, 0.0010821771072627474, 0.001080752994803924, 0.0010793326307152577, 0.0010779160002118027, 0.0010765030885863456, 0.0010750938812087464, 0.0010736883635255646, 0.001072286521059611, 0.0010708883394092367, 0.0010694938042480557, 0.001068102901324261, 0.0010667156164602583, 0.0010653319355522673, 0.0010639518445696118, 0.0010625753295544589, 0.0010612023766212388, 0.0010598329719560776, 0.0010584671018166651, 0.0010571047525314457, 0.001055745910499347, 0.001054390562189238, 0.0010530386941396148, 0.0010516902929579171, 0.0010503453453203852, 0.0010490038379713288, 0.0010476657577228937, 0.0010463310914546082, 0.0010449998261128075, 0.0010436719487103845, 0.0010423474463263078, 0.001041026306105047, 0.0010397085152564387, 0.0010383940610550638, 0.0010370829308399452, 0.0010357751120140422, 0.001034470592043963, 0.00103316935845941, 0.0010318713988530452, 0.001030576700879738, 0.001029285252256449, 0.0010279970407617233, 0.0010267120542354433, 0.0010254302805781513, 0.0010241517077510327, 0.0010228763237752556, 0.0010216041167316896, 0.0010203350747606545, 0.0010190691860612778, 0.0010178064388914878, 0.0010165468215672829, 0.0010152903224626285, 0.001014036930009019, 0.0010127866326951577, 0.0010115394190664156, 0.0010102952777247323, 0.0010090541973281951, 0.00100781616659063, 0.0010065811742812547, 0.0010053492092244255, 0.0010041202602992243, 0.0010028943164391978, 0.0010016713666319182, 0.0010004513999187184, 0.0009992344053944692, 0.0009980203722069337, 0.0009968092895568565, 0.0009956011466973678, 0.0009943959329337011, 0.000993193637622925, 0.0009919942501737107, 0.0009907977600458256, 0.0009896041567499087, 0.0009884134298473511, 0.0009872255689496103, 0.0009860405637183054, 0.0009848584038645645, 0.0009836790791489774, 0.0009825025793813152, 0.0009813288944199282, 0.0009801580141718782, 0.0009789899285922439, 0.0009778246276841485, 0.0009766621014983248, 0.0009755023401328181, 0.0009743453337327961, 0.0009731910724901848, 0.0009720395466434352, 0.0009708907464772039, 0.0009697446623221944, 0.0009686012845546718, 0.0009674606035964706, 0.0009663226099144564, 0.000965187294020488, 0.0009640546464709332, 0.0009629246578666978, 0.0009617973188525172, 0.000960672620117258, 0.0009595505523932249, 0.0009584311064560792, 0.0009573142731245383, 0.0009562000432602278, 0.0009550884077672707, 0.0009539793575921272, 0.0009528728837233658, 0.0009517689771914609, 0.0009506676290683719, 0.0009495688304674123, 0.0009484725725431968, 0.0009473788464910067, 0.0009462876435468421, 0.0009451989549871373, 0.0009441127721285283, 0.0009430290863275228, 0.0009419478889804361, 0.0009408691715229346, 0.0009397929254300685, 0.0009387191422159025, 0.0009376478134333225, 0.0009365789306737552, 0.000935512485567048, 0.0009344484697811779, 0.0009333868750221283, 0.000932327693033435, 0.0009312709155963611, 0.0009302165345292596, 0.0009291645416877394, 0.0009281149289641949, 0.0009270676882876482, 0.0009260228116236165, 0.000924980290973992, 0.0009239401183764912, 0.0009229022859048225, 0.0009218667856682515, 0.0009208336098116074, 0.0009198027505149045, 0.0009187741999930798, 0.0009177479504961453, 0.000916723994308598, 0.0009157023237494531, 0.0009146829311719994, 0.000913665808963622, 0.0009126509495455512, 0.0009116383453727998, 0.0009106279889337813, 0.0009096198727502559, 0.0009086139893772611, 0.0009076103314026716, 0.0009066088914470628, 0.0009056096621638613, 0.0009046126362386439, 0.0009036178063893628, 0.0009026251653660507, 0.0009016347059505454, 0.000900646420956436, 0.000899660303228866, 0.0008986763456442256, 0.0008976945411103044, 0.0008967148825657485, 0.0008957373629800289, 0.0008947619753534786, 0.0008937887127167856, 0.0008928175681310457, 0.0008918485346875411, 0.0008908816055074937, 0.0008899167737421509, 0.0008889540325723196, 0.0008879933752083579, 0.0008870347948900306, 0.0008860782848863018, 0.0008851238384952779, 0.0008841714490437232, 0.0008832211098874735, 0.0008822728144107225, 0.0008813265560261509, 0.0008803823281747824, 0.0008794401243257588, 0.0008784999379761687, 0.0008775617626509331, 0.0008766255919026678, 0.0008756914193115375, 0.0008747592384851161, 0.0008738290430581867, 0.0008729008266926418, 0.0008719745830772674, 0.0008710503059277754, 0.0008701279889864925, 0.0008692076260222343, 0.0008682892108302551, 0.0008673727372320399, 0.000866458199075235, 0.0008655455902333284, 0.000864634904605761, 0.0008637261361176083, 0.0008628192787195176, 0.0008619143263876269, 0.000861011273123318, 0.0008601101129530937, 0.0008592108399285624, 0.0008583134481261885, 0.0008574179316472332, 0.000856524284617618, 0.0008556325011876392, 0.0008547425755321711, 0.0008538545018502254, 0.0008529682743649589, 0.0008520838873235857, 0.0008512013349971322, 0.0008503206116803661, 0.000849441711691859, 0.000848564629373456, 0.0008476893590905076, 0.0008468158952316843, 0.0008459442322087697, 0.0008450743644565105, 0.0008442062864326462, 0.0008433399926176473, 0.0008424754775147552, 0.0008416127356496638, 0.0008407517615705402, 0.000839892549847902, 0.0008390350950745552, 0.0008381793918652346, 0.0008373254348568511, 0.000836473218708005, 0.000835622738099208, 0.0008347739877326249, 0.000833926962331824, 0.0008330816566419789, 0.0008322380654295137, 0.0008313961834820322, 0.0008305560056082751, 0.0008297175266380748, 0.0008288807414220181, 0.0008280456448315758, 0.0008272122317588445, 0.000826380497116633, 0.0008255504358381231, 0.0008247220428768408, 0.0008238953132066139, 0.0008230702418215537, 0.0008222468237357273, 0.0008214250539831748, 0.0008206049276178448, 0.0008197864397134958, 0.0008189695853634208, 0.0008181543596806313, 0.0008173407577975504, 0.0008165287748660266, 0.0008157184060571126, 0.00081490964656116, 0.0008141024915874942, 0.0008132969363644907, 0.0008124929761394763, 0.0008116906061785427, 0.0008108898217664918, 0.0008100906182067081, 0.0008092929908212807, 0.0008084969349505802, 0.000807702445953294, 0.0008069095192065436, 0.0008061181501055233, 0.000805328334063489, 0.0008045400665116925, 0.0008037533428993809, 0.0008029681586934745, 0.0008021845093787637, 0.0008014023904575967, 0.0008006217974498727, 0.000799842725893086, 0.0007990651713419469, 0.0007982891293685638, 0.0007975145955622426, 0.0007967415655294645, 0.000795970034893706, 0.0007951999992954546, 0.0007944314543920255, 0.0007936643958575894, 0.0007928988193830384, 0.0007921347206758579, 0.0007913720954602569, 0.000790610939476665, 0.0007898512484821364, 0.0007890930182499548, 0.0007883362445696526, 0.0007875809232469557, 0.0007868270501036783, 0.0007860746209775733, 0.0007853236317225091, 0.0007845740782080713, 0.0007838259563196438, 0.0007830792619583088, 0.0007823339910407946, 0.0007815901394995348, 0.0007808477032822108, 0.0007801066783520513, 0.0007793670606876035, 0.0007786288462826757, 0.0007778920311462931, 0.0007771566113026099, 0.0007764225827907391, 0.0007756899416648932, 0.0007749586839940604, 0.0007742288058622865, 0.0007735003033681149, 0.0007727731726249307, 0.0007720474097608275, 0.0007713230109182758, 0.0007705999722543637, 0.0007698782899405962, 0.0007691579601627992, 0.000768438979121089, 0.0007677213430297648, 0.0007670050481174519, 0.0007662900906266741, 0.0007655764668140355, 0.0007648641729501215, 0.0007641532053194343, 0.0007634435602202679, 0.0007627352339647005, 0.0007620282228784903, 0.0007613225233010021, 0.0007606181315853087, 0.000759915044097802, 0.000759213257218472, 0.0007585127673406779, 0.000757813570871063, 0.0007571156642294848, 0.0007564190438491363, 0.0007557237061762316, 0.0007550296476701115, 0.0007543368648031725, 0.000753645354060717, 0.0007529551119409344, 0.0007522661349549596, 0.0007515784196266077, 0.0007508919624924484, 0.0007502067601017413, 0.0007495228090163905, 0.000748840105810648, 0.0007481586470715827, 0.0007474784293984374, 0.000746799449402949, 0.0007461217037091306, 0.0007454451889533945, 0.0007447699017841349, 0.0007440958388620478, 0.0007434229968599899, 0.0007427513724627801, 0.0007420809623671225, 0.000741411763281971, 0.0007407437719277926, 0.0007400769850371802, 0.0007394113993543623, 0.0007387470116352715, 0.0007380838186475914, 0.0007374218171706529, 0.0007367610039952052, 0.0007361013759236807, 0.0007354429297698314, 0.0007347856623588941, 0.000734129570527542, 0.0007334746511236488, 0.0007328209010062879, 0.0007321683170459602, 0.0007315168961241429, 0.0007308666351335188, 0.0007302175309777019, 0.0007295695805715466, 0.0007289227808406298, 0.0007282771287216164, 0.0007276326211619541, 0.0007269892551198659, 0.0007263470275645145, 0.0007257059354755391, 0.0007250659758435003, 0.0007244271456694108, 0.0007237894419649804, 0.0007231528617523424, 0.0007225174020641943, 0.0007218830599436666, 0.0007212498324442963, 0.000720617716629935, 0.0007199867095746941, 0.0007193568083631189, 0.000718728010089765, 0.0007181003118594222, 0.0007174737107871451, 0.0007168482039979144, 0.000716223788626719, 0.0007156004618187179, 0.0007149782207288264, 0.0007143570625220086, 0.0007137369843729902, 0.0007131179834664145, 0.0007125000569966165, 0.0007118832021677395, 0.0007112674161935544, 0.0007106526962975596, 0.0007100390397127401, 0.0007094264436817799, 0.0007088149054568828, 0.0007082044222995522, 0.0007075949914810354, 0.000706986610281666, 0.0007063792759914717, 0.0007057729859094944, 0.0007051677373442461, 0.0007045635276134251, 0.0007039603540439267, 0.0007033582139718989, 0.0007027571047424501, 0.0007021570237099385, 0.000701557968237643, 0.000700959935697903, 0.0007003629234720294, 0.0006997669289503202, 0.0006991719495319142, 0.0006985779826247318, 0.0006979850256455904, 0.0006973930760201421, 0.000696802131182716, 0.0006962121885762591, 0.0006956232456526138, 0.0006950352998720341, 0.0006944483487035426, 0.0006938623896245249, 0.0006932774201211058, 0.0006926934376877527, 0.0006921104398274552, 0.0006915284240515686, 0.0006909473878798521, 0.00069036732884043, 0.0006897882444696932, 0.0006892101323123763, 0.0006886329899214362, 0.0006880568148579254, 0.0006874816046912271, 0.0006869073569988032, 0.0006863340693661477, 0.0006857617393869046, 0.0006851903646627718, 0.0006846199428033773, 0.000684050471426391, 0.0006834819481573513, 0.00068291437062977, 0.0006823477364849054, 0.0006817820433720486, 0.0006812172889481086, 0.000680653470877854, 0.0006800905868338315, 0.0006795286344962238, 0.0006789676115528764, 0.0006784075156994112, 0.0006778483446388488, 0.0006772900960820353, 0.0006767327677471436, 0.000676176357360078, 0.0006756208626540349, 0.0006750662813697863, 0.0006745126112555148, 0.0006739598500667359, 0.0006734079955664351, 0.000672857045524866, 0.0006723069977195987, 0.0006717578499355084, 0.00067120959996467, 0.0006706622456063718, 0.0006701157846671352, 0.0006695702149605859, 0.0006690255343076033, 0.0006684817405359852, 0.0006679388314807649, 0.0006673968049838685, 0.0006668556588943338, 0.0006663153910681543, 0.0006657759993683764, 0.0006652374816647107, 0.0006646998358341125, 0.0006641630597601403, 0.0006636271513333091, 0.000663092108450971, 0.0006625579290171595, 0.0006620246109428536, 0.000661492152145613, 0.0006609605505497105, 0.0006604298040861858, 0.000659899910692679, 0.0006593708683134274, 0.0006588426748993869, 0.0006583153284079505, 0.0006577888268031235, 0.0006572631680553971, 0.0006567383501418515, 0.0006562143710459197, 0.0006556912287575832, 0.0006551689212731309, 0.0006546474465953364, 0.0006541268027333048, 0.0006536069877024641, 0.0006530879995245636, 0.000652569836227692, 0.0006520524958462187, 0.0006515359764205777, 0.0006510202759976495, 0.0006505053926303888, 0.0006499913243778821, 0.0006494780693054568, 0.0006489656254845374, 0.0006484539909925467, 0.0006479431639131489, 0.0006474331423358513, 0.0006469239243563456, 0.0006464155080762346, 0.0006459078916031373, 0.0006454010730506776, 0.0006448950505382623, 0.0006443898221913121, 0.0006438853861411042, 0.0006433817405247747, 0.0006428788834853298, 0.0006423768131715236, 0.0006418755277378993, 0.000641375025344843, 0.000640875304158445, 0.0006403763623505028, 0.0006398781980985651, 0.0006393808095857286, 0.0006388841950009698, 0.00063838835253862, 0.0006378932803989507, 0.0006373989767874767, 0.0006369054399156219, 0.0006364126680000225, 0.0006359206592630988, 0.0006354294119326819, 0.0006349389242420223, 0.0006344491944300016, 0.000633960220740723, 0.0006334720014239308, 0.0006329845347345999, 0.0006324978189331448, 0.0006320118522853938, 0.0006315266330623614, 0.000631042159540596, 0.0006305584300016746, 0.0006300754427327238, 0.0006295931960259264, 0.0006291116881788053, 0.0006286309174940072, 0.0006281508822794872, 0.0006276715808483377, 0.0006271930115187472, 0.0006267151726140685, 0.000626238062462835, 0.0006257616793985657, 0.0006252860217599982, 0.000624811087890762, 0.0006243368761396651, 0.0006238633848604803, 0.0006233906124118994, 0.0006229185571578256, 0.0006224472174668127, 0.0006219765917126617, 0.0006215066782738734, 0.0006210374755340093, 0.0006205689818814202, 0.0006201011957093449, 0.0006196341154158945, 0.0006191677394039792, 0.0006187020660814151, 0.0006182370938607032, 0.0006177728211592191, 0.0006173092463990073, 0.0006168463680068404, 0.0006163841844144288, 0.0006159226940578631, 0.0006154618953782076, 0.0006150017868210665, 0.0006145423668366716, 0.0006140836338800286, 0.0006136255864105837, 0.0006131682228924507, 0.0006127115417944781, 0.0006122555415898487, 0.0006118002207564718, 0.0006113455777766813, 0.0006108916111373503, 0.000610438319329931, 0.0006099857008503071, 0.0006095337541987865, 0.0006090824778801252, 0.0006086318704036389, 0.0006081819302829067, 0.0006077326560360296, 0.0006072840461854267, 0.0006068360992578835, 0.0006063888137845622, 0.0006059421883009538, 0.0006054962213469012, 0.0006050509114664431, 0.0006046062572080924, 0.0006041622571244699, 0.0006037189097724972, 0.0006032762137133797, 0.0006028341675125281, 0.0006023927697395589, 0.0006019520189682768, 0.0006015119137766472, 0.0006010724527468578, 0.0006006336344651729, 0.0006001954575220931, 0.0005997579205121191, 0.0005993210220339675, 0.0005988847606903118, 0.0005984491350880732, 0.0005980141438380535, 0.0005975797855552679, 0.0005971460588585703, 0.0005967129623710136, 0.0005962804947195314, 0.000595848654535137, 0.0005954174404526676, 0.0005949868511110734, 0.0005945568851532386, 0.0005941275412258201, 0.0005936988179795444, 0.0005932707140689898, 0.0005928432281526199, 0.0005924163588927214, 0.0005919901049555952, 0.0005915644650111171, 0.000591139437733334, 0.0005907150217997792, 0.0005902912158920548, 0.0005898680186952979, 0.0005894454288986929, 0.0005890234451950292, 0.0005886020662807945, 0.0005881812908563849, 0.0005877611176257481, 0.00058734154529662, 0.0005869225725804332, 0.0005865041981923023, 0.0005860864208510281, 0.0005856692392789597, 0.000585252652202277, 0.0005848366583505588, 0.0005844212564572576, 0.0005840064452591885, 0.0005835922234969132, 0.000583178589914552, 0.0005827655432597164, 0.0005823530822836279, 0.0005819412057410144, 0.0005815299123902527, 0.0005811192009930199, 0.0005807090703146843, 0.0005802995191240717, 0.0005798905461933221, 0.0005794821502982864, 0.0005790743302181208, 0.0005786670847355007, 0.0005782604126363585, 0.0005778543127103186, 0.0005774487837501248, 0.0005770438245521677, 0.0005766394339160649, 0.0005762356106448407, 0.0005758323535448675, 0.0005754296614259159, 0.0005750275331010336, 0.0005746259673865756, 0.000574224963102274, 0.0005738245190711201, 0.000573424634119437, 0.0005730253070767715, 0.0005726265367759182, 0.000572228322053005, 0.0005718306617473036, 0.0005714335547014018, 0.000571036999761148, 0.0005706409957753809, 0.0005702455415964552, 0.0005698506360795969, 0.0005694562780834063, 0.00056906246646957, 0.0005686692001029994, 0.0005682764778516753, 0.0005678842985867303, 0.000567492661182462, 0.0005671015645161772, 0.0005667110074683249, 0.000566320988922584, 0.0005659315077654577, 0.0005655425628867269, 0.0005651541531791324, 0.0005647662775384537, 0.0005643789348635896, 0.0005639921240563782, 0.0005636058440216592, 0.000563220093667369, 0.0005628348719043525, 0.000562450177646528, 0.0005620660098107249, 0.0005616823673167021, 0.0005612992490872143, 0.0005609166540479963, 0.0005605345811276986, 0.0005601530292578067, 0.0005597719973728881, 0.0005593914844102228, 0.0005590114893101818, 0.0005586320110157879, 0.000558253048473195, 0.0005578746006311902, 0.0005574966664416105, 0.0005571192448589628, 0.0005567423348407358, 0.0005563659353471238, 0.0005559900453412865, 0.0005556146637890055, 0.0005552397896589664, 0.0005548654219226676, 0.0005544915595542847, 0.0005541182015308964, 0.0005537453468322243, 0.0005533729944408466, 0.0005530011433418897, 0.0005526297925234333, 0.0005522589409762072, 0.000551888587693542, 0.0005515187316716762, 0.0005511493719093674, 0.0005507805074081661, 0.0005504121371722275, 0.0005500442602083734, 0.0005496768755261833, 0.0005493099821377758, 0.0005489435790580023, 0.0005485776653042376, 0.0005482122398966273, 0.000547847301857783, 0.0005474828502129986, 0.0005471188839901839, 0.0005467554022198165, 0.0005463924039349008, 0.0005460298881711159, 0.0005456678539665896, 0.0005453063003621138, 0.0005449452264009123, 0.0005445846311289036, 0.0005442245135943672, 0.0005438648728482189, 0.000543505707943818, 0.0005431470179370942, 0.0005427888018864051, 0.0005424310588526513, 0.0005420737878992245, 0.0005417169880918563, 0.0005413606584989215, 0.0005410047981911352, 0.0005406494062417145, 0.0005402944817262566, 0.0005399400237228611, 0.0005395860313119704, 0.000539232503576578, 0.0005388794396019059, 0.0005385268384756978, 0.0005381746992880862, 0.0005378230211315254, 0.0005374718031008694, 0.0005371210442933278, 0.0005367707438085809, 0.0005364209007484652, 0.0005360715142173586, 0.0005357225833217835, 0.0005353741071708111, 0.0005350260848756614, 0.0005346785155498908, 0.0005343313983094711, 0.0005339847322725176, 0.0005336385165596055, 0.0005332927502934863, 0.000532947432599156, 0.0005326025626039786, 0.0005322581394376016, 0.000531914162231702, 0.0005315706301205639, 0.0005312275422403682, 0.0005308848977297147, 0.0005305426957293781, 0.0005302009353824694, 0.0005298596158340531, 0.0005295187362316777, 0.0005291782957248829, 0.0005288382934654553, 0.0005284987286074877, 0.0005281596003071121, 0.0005278209077226718, 0.0005274826500146366, 0.0005271448263456602, 0.0005268074358805851, 0.0005264704777863628, 0.0005261339512320417, 0.000525797855388876, 0.0005254621894301687, 0.0005251269525313768, 0.000524792143870017, 0.0005244577626258216, 0.0005241238079804718, 0.0005237902791178105, 0.0005234571752237716, 0.0005231244954863793, 0.0005227922390956278, 0.0005224604052437006, 0.0005221289931247413, 0.0005217980019349551, 0.0005214674308726021, 0.0005211372791380605, 0.0005208075459335799, 0.0005204782304634979, 0.0005201493319342527, 0.0005198208495541908, 0.000519492782533693, 0.0005191651300850777, 0.0005188378914227887, 0.0005185110657631265, 0.0005181846523244749, 0.0005178586503270562, 0.0005175330589931809, 0.000517207877547028, 0.0005168831052148639, 0.0005165587412247555, 0.0005162347848067232, 0.0005159112351928132, 0.0005155880916170093, 0.0005152653533150193, 0.0005149430195247602, 0.0005146210894858195, 0.0005142995624397562, 0.0005139784376301625, 0.0005136577143022616, 0.0005133373917034826, 0.0005130174690828047, 0.0005126979456913355, 0.0005123788207819081, 0.0005120600936092966, 0.0005117417634301642, 0.0005114238295028755, 0.0005111062910877149, 0.0005107891474469604, 0.0005104723978444537, 0.0005101560415460138, 0.0005098400778193598, 0.0005095245059338784, 0.0005092093251608103, 0.0005088945347732194, 0.000508580134046049, 0.0005082661222558429, 0.0005079524986811355, 0.0005076392626021521, 0.0005073264133008741, 0.0005070139500610741, 0.000506701872168331, 0.0005063901789099566, 0.0005060788695749839, 0.0005057679434542847, 0.0005054573998403932, 0.0005051472380276761, 0.0005048374573120872, 0.0005045280569914551, 0.0005042190363653042, 0.0005039103947347459, 0.000503602131402794, 0.0005032942456741019, 0.0005029867368549392, 0.0005026796042534024, 0.000502372847179163, 0.0005020664649437252, 0.0005017604568601217, 0.0005014548222431641, 0.000501149560409306, 0.0005008446706767079, 0.0005005401523650457, 0.0005002360047958603, 0.0004999322272922113, 0.0004996288191788237, 0.0004993257797820686, 0.0004990231084299583, 0.0004987208044521918, 0.0004984188671800674, 0.0004981172959463637, 0.0004978160900857465, 0.0004975152489342389, 0.0004972147718295645, 0.0004969146581111509, 0.0004966149071198756, 0.000496315518198303, 0.0004960164906905218, 0.0004957178239422773, 0.0004954195173007767, 0.0004951215701149351, 0.000494823981735133, 0.000494526751513419, 0.0004942298788032542, 0.0004939333629598414, 0.0004936372033397477, 0.0004933413993012311, 0.0004930459502039782, 0.0004927508554093411, 0.0004924561142800278, 0.0004921617261804252, 0.0004918676904764177, 0.0004915740065353383, 0.000491280673726135, 0.0004909876914191188, 0.0004906950589862173, 0.0004904027758008323, 0.0004901108412379545, 0.0004898192546738385, 0.0004895280154864731, 0.0004892371230551005, 0.0004889465767606398, 0.0004886563759854245, 0.0004883665201131167, 0.00048807700852906066, 0.00048778784061998746, 0.00048749901577389604, 0.0004872105333805666, 0.0004869223928309821, 0.00048663459351761613, 0.0004863471348344743, 0.0004860600161769287, 0.0004857732369417065, 0.00048548679652712614, 0.0004852006943327971, 0.0004849149297597884, 0.00048462950221056825, 0.00048434441108905374, 0.00048405965580056593, 0.00048377523575181074, 0.00048349115035081937, 0.0004832073990071152, 0.000482923981131545, 0.00048264089613643237, 0.0004823581434353746, 0.0004820757224434328, 0.00048179363257698076, 0.00048151187325373636, 0.0004812304438928429, 0.0004809493439148365, 0.00048066857274150723, 0.00048038812979607265, 0.0004801080145031038, 0.0004798282262884038, 0.0004795487645792492, 0.0004792696288042099, 0.00047899081839316427, 0.0004787123327773774, 0.000478434171389368, 0.00047815633366297516, 0.0004778788190334991, 0.000477601626937334, 0.0004773247568122838, 0.00047704820809755995, 0.00047677198023356215, 0.0004764960726619792, 0.0004762204848258231, 0.0004759452161694241, 0.0004756702661383088, 0.00047539563417945974, 0.00047512131974095827, 0.00047484732227226863, 0.00047457364122407156, 0.00047430027604835554, 0.0004740272261983183, 0.0004737544911285139, 0.0004734820702947097, 0.00047320996315385836, 0.00047293816916425195, 0.00047266668778539125, 0.0004723955184780047, 0.00047212466070410897, 0.00047185411392696195, 0.00047158387761097833, 0.00047131395122186354, 0.0004710443342264819, 0.00047077502609308667, 0.00047050602629092314, 0.0004702373342906103, 0.00046996894956392014, 0.000469700871583834, 0.0004694330998245243, 0.00046916563376142627, 0.0004688984728711613, 0.00046863161663143375, 0.00046836506452125275, 0.00046809881602086017, 0.00046783287061145923, 0.0004675672277757059, 0.00046730188699727266, 0.00046703684776104663, 0.0004667721095530419, 0.00046650767186048317, 0.0004662435341718206, 0.00046597969597654315, 0.00046571615676535815, 0.0004654529160301774, 0.00046518997326389756, 0.00046492732796078534, 0.00046466497961607906, 0.00046440292772628126, 0.0004641411717888961, 0.00046387971130269903, 0.00046361854576746573, 0.00046335767468423346, 0.0004630970975550789, 0.00046283681388322926, 0.00046257682317300586, 0.00046231712492992617, 0.0004620577186604946, 0.0004617986038724343, 0.0004615397800744676, 0.0004612812467765417, 0.0004610230034896336, 0.0004607650497258293, 0.00046050738499830594, 0.0004602500088212752, 0.00045999292071021054, 0.00045973612018149933, 0.00045947960675261765, 0.000459223379942233, 0.00045896743927002233, 0.00045871178425670146, 0.00045845641442410104, 0.0004582013292951798, 0.000457946528393799, 0.0004576920112449888, 0.0004574377773748406, 0.0004571838263105091, 0.00045693015758014796, 0.00045667677071295346, 0.00045642366523923833, 0.00045617084069029856, 0.0004559182965984859, 0.00045566603249722954, 0.000455414047920959, 0.00045516234240507077, 0.00045491091548617433, 0.00045465976670162054, 0.00045440889559013233, 0.00045415830169116123, 0.00045390798454525823, 0.00045365794369408284, 0.0004534081786802195, 0.0004531586890473157, 0.00045290947433991737, 0.00045266053410368583, 0.00045241186788524544, 0.00045216347523227373, 0.00045191535569326987, 0.0004516675088179172, 0.00045141993415683077, 0.0004511726312615685, 0.0004509255996847195, 0.00045067883897982017, 0.00045043234870144815, 0.0004501861284050414, 0.00044994017764708245, 0.00044969449598514314, 0.000449449082977481, 0.00044920393818361756, 0.0004489590611638224, 0.00044871445147948955, 0.00044847010869281557, 0.0004482260323670153, 0.0004479822220663249, 0.00044773867735581287, 0.0004474953978016391, 0.00044725238297077405, 0.0004470096324311598, 0.0004467671457516789, 0.000446524922502272, 0.00044628296225360074, 0.0004460412645774319, 0.0004457998290464188, 0.0004455586552340323, 0.00044531774271485346, 0.000445077091064265, 0.0004448366998586115, 0.0004445965686750716, 0.00044435669709187665, 0.0004441170846880686, 0.00044387773104365895, 0.00044363863573947153, 0.0004433997983574011, 0.00044316121848004864, 0.0004429228956910118, 0.0004426848295748757, 0.00044244701971695306, 0.00044220946570351156, 0.000441972167121778, 0.0004417351235598266, 0.0004414983346065066, 0.0004412617998517398, 0.00044102551888621573, 0.0004407894913014692, 0.00044055371668997364, 0.0004403181946451398, 0.0004400829247611438, 0.00043984790663300434, 0.0004396131398567153, 0.0004393786240290365, 0.00043914435874772086, 0.0004389103436112711, 0.000438676578219004, 0.00043844306217122894, 0.00043820979506904815, 0.00043797677651432406, 0.00043774400610994377, 0.00043751148345954016, 0.00043727920816754765, 0.0004370471798393156, 0.0004368153980809822, 0.0004365838624995999, 0.0004363525727029437, 0.00043612152829970285, 0.00043589072889940327, 0.0004356601741124194, 0.0004354298635497866, 0.0004351997968235047, 0.00043496997354644984, 0.00043474039333222137, 0.0004345110557951999, 0.00043428196055065254, 0.00043405310721466965, 0.0004338244954041072, 0.00043359612473664805, 0.00043336799483079694, 0.00043314010530587057, 0.0004329124557819064, 0.0004326850458797903, 0.00043245787522135077, 0.0004322309434288909, 0.00043200425012584196, 0.00043177779493623364, 0.00043155157748494925, 0.000431325597397576, 0.00043109985430064146, 0.00043087434782128136, 0.00043064907758757625, 0.0004304240432282934, 0.0004301992443729983, 0.0004299746806519787, 0.00042975035169639, 0.000429526257138098, 0.00042930239660976055, 0.00042907876974481975, 0.00042885537617745086, 0.000428632215542538, 0.0004284092874759173, 0.00042818659161392625, 0.00042796412759384144, 0.00042774189505364804, 0.00042751989363211043, 0.00042729812296864796, 0.00042707658270355644, 0.0004268552724777827, 0.0004266341919330347, 0.00042641334071185017, 0.00042619271845739795, 0.00042597232481361843, 0.0004257521594253012, 0.00042553222193772504, 0.0004253125119971485, 0.00042509302925044764, 0.0004248737733452621, 0.00042465474392992255, 0.00042443594065350384, 0.00042421736316580375, 0.0004239990111173348, 0.0004237808841594451, 0.0004235629819439954, 0.00042334530412369757, 0.0004231278503519434, 0.00042291062028291013, 0.00042269361357134155, 0.0004224768298728136, 0.00042226026884352187, 0.0004220439301405022, 0.00042182781342134243, 0.00042161191834441273, 0.0004213962445687405, 0.0004211807917541872, 0.00042096555956104873, 0.00042075054765061914, 0.000420535755684632, 0.00042032118332567894, 0.00042010683023697515, 0.00041989269608242884, 0.0004196787805266586, 0.0004194650832348736, 0.00041925160387315893, 0.0004190383421080742, 0.000418825297606992, 0.00041861247003786926, 0.0004183998590694179, 0.00041818746437104296, 0.0004179752856126789, 0.00041776332246511345, 0.00041755157459965844, 0.00041734004168831907, 0.0004171287234038968, 0.00041691761941976, 0.0004167067294098049, 0.00041649605304882063, 0.00041628559001217287, 0.0004160753399758473, 0.00041586530261645627, 0.0004156554776113956, 0.0004154458646385665, 0.0004152364633766484, 0.00041502727350489684, 0.0004148182947031655, 0.00041460952665214797, 0.00041440096903293066, 0.00041419262152742026, 0.00041398448381808884, 0.00041377655558806517, 0.00041356883652112554, 0.00041336132630172723, 0.00041315402461484786, 0.0004129469311461503, 0.0004127400455819804, 0.0004125333676092915, 0.00041232689691558203, 0.00041212063318904745, 0.00041191457611858663, 0.0004117087253935262, 0.00041150308070405967, 0.00041129764174068796, 0.0004110924081948905, 0.0004108873797585075, 0.00041068255612402156, 0.0004104779369846615, 0.0004102735220341744, 0.0004100693109668936, 0.00040986530347785003, 0.0004096614992625737, 0.0004094578980173037, 0.00040925449943882765, 0.00040905130322452975, 0.00040884830907252014, 0.00040864551668124804, 0.0004084429257500724, 0.0004082405359786466, 0.0004080383470675063, 0.00040783635871760414, 0.0004076345706304859, 0.0004074329825083932, 0.00040723159405410585, 0.0004070304049709213, 0.0004068294149627948, 0.0004066286237342456, 0.0004064280309905072, 0.0004062276364371392, 0.0004060274397805337, 0.0004058274407274747, 0.00040562763898544765, 0.0004054280342624917, 0.00040522862626713195, 0.00040502941470855374, 0.0004048303992965373, 0.00040463157974140204, 0.0004044329557540171, 0.0004042345270457799, 0.0004040362933287908, 0.00040383825431558503, 0.0004036404097193958, 0.00040344275925381537, 0.0004032453026331996, 0.000403048039572377, 0.0004028509697867596, 0.0004026540929922292, 0.0004024574089053754, 0.00040226091724317805, 0.00040206461772338676, 0.00040186851006404265, 0.00040167259398397653, 0.00040147686920233354, 0.00040128133543904993, 0.00040108599241446964, 0.00040089083984944557, 0.00040069587746546337, 0.0004005011049845819, 0.00040030652212925824, 0.0004001121286226237, 0.0003999179241883253, 0.0003997239085504635, 0.00039953008143374933, 0.0003993364425634099, 0.000399142991665184, 0.0003989497284654598, 0.00039875665269098394, 0.0003985637640691508, 0.00039837106232781897, 0.0003981785471954425, 0.00039798621840087634, 0.0003977940756736821, 0.000397602118743802, 0.00039741034734180804, 0.0003972187611986283, 0.000397027360045865, 0.0003968361436156084, 0.0003966451116404218, 0.00039645426385338334, 0.000396263599988158, 0.00039607311977883094, 0.0003958828229600995, 0.00039569270926707975, 0.0003955027784354326, 0.00039531303020134956, 0.0003951234643015585, 0.00039493408047310273, 0.00039474487845383467, 0.00039455585798186654, 0.00039436701879589096, 0.0003941783606350716, 0.000393989883239219, 0.00039380158634845584, 0.000393613469703524, 0.0003934255330455405, 0.0003932377761162493, 0.00039305019865780785, 0.0003928628004128992, 0.0003926755811247226, 0.0003924885405368854, 0.00039230167839352794, 0.00039211499443933843, 0.00039192848841937585, 0.00039174216007932034, 0.0003915560091651964, 0.00039137003542359243, 0.0003911842386016251, 0.00039099861844674026, 0.0003908131747070135, 0.00039062790713096567, 0.00039044281546752273, 0.00039025789946616987, 0.0003900731588768391, 0.00038988859344991347, 0.0003897042029362842, 0.0003895199870872816, 0.0003893359456547357, 0.0003891520783909974, 0.0003889683850487242, 0.00038878486538119, 0.0003886015191420657, 0.00038841834608556615, 0.00038823534596628374, 0.00038805251853926047, 0.0003878698635601366, 0.00038768738078488193, 0.0003875050699699473, 0.00038732293087223005, 0.00038714096324922215, 0.0003869591668587274, 0.00038677754145900484, 0.00038659608680882576, 0.00038641480266741205, 0.0003862336887944612, 0.0003860527449500412, 0.00038587197089470326, 0.0003856913663894799, 0.0003855109311958286, 0.00038533066507568487, 0.00038515056779140516, 0.0003849706391057089, 0.0003847908787819718, 0.00038461128658374294, 0.00038443186227528396, 0.0003842526056210509, 0.0003840735163861325, 0.0003838945943359265, 0.0003837158392363534, 0.0003835372508537484, 0.0003833588289548583, 0.00038318057330688943, 0.0003830024836774191, 0.0003828245598345852, 0.00038264680154683324, 0.0003824692085831253, 0.00038229178071276824, 0.0003821145177055395, 0.00038193741933172543, 0.00038176048536196024, 0.0003815837155672312, 0.0003814071097190883, 0.00038123066758937677, 0.00038105438895055967, 0.0003808782735752777, 0.0003807023212367341, 0.00038052653170858987, 0.0003803509047647917, 0.00038017544017984257, 0.00038000013772853205, 0.0003798249971862105, 0.0003796500183284554, 0.00037947520093145094, 0.00037930054477166696, 0.0003791260496260851, 0.000378951715271986, 0.00037877754148713796, 0.00037860352804966647, 0.0003784296747381465, 0.0003782559813316547, 0.00037808244760941857, 0.00037790907335128924, 0.0003777358583374848, 0.000377562802348555, 0.00037738990516553834, 0.0003772171665698077, 0.0003770445863431037, 0.00037687216426772084, 0.0003766999001262667, 0.00037652779370168, 0.0003763558447773229, 0.0003761840531370988, 0.000376012418565128, 0.0003758409408459495, 0.00037566961976464035, 0.000375498455106493, 0.0003753274466572726, 0.0003751565942031732, 0.00037498589753070095, 0.00037481535642684016, 0.0003746449706788348, 0.0003744747400744584, 0.0003743046644017392, 0.00037413474344918403, 0.0003739649770057148, 0.0003737953648605086, 0.0003736259068032162, 0.0003734566026238996, 0.00037328745211287885, 0.00037311845506093845, 0.00037294961125928567, 0.0003727809204994724, 0.00037261238257330764, 0.0003724439972731706, 0.0003722757643917013, 0.0003721076837219237, 0.00037193975505729084, 0.00037177197819155555, 0.0003716043529189239, 0.0003714368790339027, 0.00037126955633139775, 0.0003711023846066789, 0.00037093536365541044, 0.00037076849327360897, 0.00037060177325763845, 0.0003704352034042033, 0.0003702687835105288, 0.0003701025133740706, 0.0003699363927925782, 0.0003697704215643625, 0.00036960459948796957, 0.00036943892636227463, 0.00036927340198667885, 0.0003691080261607539, 0.00036894279868457006, 0.00036877771935848764, 0.0003686127879831946, 0.0003684480043598472, 0.00036828336828986194, 0.00036811887957501136, 0.0003679545380174938, 0.00036779034341980334, 0.0003676262955848713, 0.0003674623943157952, 0.0003672986394162348, 0.0003671350306900556, 0.0003669715679415203, 0.00036680825097533507, 0.0003666450795963596, 0.00036648205361000874, 0.0003663191728218647, 0.0003661564370379925, 0.0003659938460646778, 0.0003658313997086954, 0.0003656690977770989, 0.0003655069400771471, 0.0003653449264166978, 0.0003651830566037683, 0.0003650213304468173, 0.0003648597477545512, 0.0003646983083360127, 0.0003645370120007213, 0.0003643758585584193, 0.00036421484781914623, 0.0003640539795934391, 0.0003638932536920369, 0.0003637326699260009, 0.00036357222810687133, 0.0003634119280463339, 0.00036325176955655117, 0.0003630917524500163, 0.000362931876539405, 0.00036277214163782606, 0.000362612547558811, 0.0003624530941160352, 0.0003622937811235879, 0.0003621346083959906, 0.00036197557574784155, 0.0003618166829943282, 0.00036165792995083735, 0.0003614993164330616, 0.00036134084225699335, 0.00036118250723909755, 0.0003610243111960503, 0.0003608662539448634, 0.00036070833530281015, 0.00036055055508762724, 0.0003603929131172456, 0.00036023540920995047, 0.0003600780431843905, 0.0003599208148595025, 0.00035976372405453007, 0.0003596067705889624, 0.00035944995428280476, 0.0003592932749561247, 0.00035913673242948417, 0.00035898032652377244, 0.0003588240570600157, 0.00035866792385975336, 0.0003585119267447079, 0.00035835606553690343, 0.00035820034005875604, 0.0003580447501329837, 0.0003578892955825925, 0.00035773397623082193, 0.0003575787919013128, 0.000357423742417945, 0.00035726882760505057, 0.00035711404728708257, 0.00035695940128895016, 0.0003568048894356811, 0.00035665051155276035, 0.0003564962674660074, 0.00035634215700136476, 0.0003561881799852813, 0.0003560343362443302, 0.00035588062560552424, 0.00035572704789604576, 0.00035557360294353595, 0.00035542029057574755, 0.00035526711062087773, 0.0003551140629073572, 0.00035496114726393715, 0.00035480836351960317, 0.0003546557115037327, 0.0003545031910459683, 0.0003543508019761873, 0.0003541985441245962, 0.0003540464173217274, 0.00035389442139839355, 0.00035374255618557095, 0.00035359082151478906, 0.00035343921721762446, 0.0003532877431259867, 0.00035313639907227483, 0.0003529851848888388, 0.0003528341004086705, 0.00035268314546471337, 0.0003525323198905125, 0.0003523816235196562, 0.00035223105618610904, 0.000352080617724176, 0.0003519303079683011, 0.0003517801267533711, 0.0003516300739144784, 0.0003514801492869895, 0.0003513303527065905, 0.00035118068400917204, 0.0003510311430309979, 0.00035088172960849655, 0.0003507324435785733, 0.0003505832847782287, 0.0003504342530447838, 0.0003502853482158215, 0.0003501365701293547, 0.00034998791862337134, 0.00034983939353651756, 0.0003496909947073618, 0.00034954272197489366, 0.000349394575178477, 0.0003492465541576232, 0.0003490986587520411, 0.000348950888801979, 0.00034880324414766125, 0.00034865572462978143, 0.0003485083300891429, 0.00034836106036705423, 0.0003482139153048245, 0.0003480668947442213, 0.0003479199985272231, 0.00034777322649604474, 0.00034762657849316523, 0.0003474800543613681, 0.00034733365394374444, 0.0003471873770835164, 0.0003470412236243295, 0.00034689519340991623, 0.0003467492862844622, 0.00034660350209231235, 0.0003464578406780394, 0.0003463123018865338, 0.0003461668855629848, 0.0003460215915527612, 0.0003458764197014913, 0.00034573136985514857, 0.00034558644185990294, 0.00034544163556221954, 0.00034529695080875696, 0.0003451523874464646, 0.0003450079453225933, 0.00034486362428458523, 0.00034471942418016094, 0.0003445753448573146, 0.00034443138616429794, 0.00034428754794952764, 0.0003441438300618544, 0.00034400023235021227, 0.0003438567546638275, 0.0003437133968522302, 0.00034357015876521735, 0.00034342704025268735, 0.0003432840411649742, 0.0003431411613525458, 0.0003429984006662197, 0.0003428557589568743, 0.00034271323607589686, 0.000342570831874646, 0.00034242854620498097, 0.00034228637891888257, 0.00034214432986851186, 0.00034200239890641777, 0.00034186058588534733, 0.0003417188906582042, 0.0003415773130782408, 0.0003414358529989338, 0.0003412945102739962, 0.000341153284757364, 0.0003410121763032119, 0.0003408711847659844, 0.000340730310000367, 0.00034058955186125973, 0.0003404489102038586, 0.0003403083848835105, 0.0003401679757558664, 0.0003400276826767928, 0.00033988750550236954, 0.00033974744408902776, 0.0003396074982933161, 0.0003394676679720321, 0.000339327952982231, 0.00033918835318128346, 0.00033904886842667107, 0.00033890949857609933, 0.0003387702434876696, 0.0003386311030195773, 0.00033849207703031087, 0.0003383531653785035, 0.00033821436792318935, 0.00033807568452344635, 0.0003379371150386968, 0.0003377986593286097, 0.0003376603172529878, 0.0003375220886719418, 0.0003373839734457569, 0.00033724597143509183, 0.0003371080825006043, 0.0003369703065033353, 0.00033683264330453005, 0.0003366950927656059, 0.00033655765474829835, 0.0003364203291145021, 0.00033628311572638046, 0.0003361460144462517, 0.000336009025136756, 0.0003358721476606428, 0.00033573538188103345, 0.0003355987276610892, 0.00033546218486435735, 0.00033532575335453466, 0.00033518943299558134, 0.0003350532236515631, 0.00033491712518696437, 0.00033478113746626854, 0.0003346452603543758, 0.00033450949371624164, 0.00033437383741718687, 0.00033423829132262563, 0.0003341028552983541, 0.0003339675292101359, 0.0003338323129241811, 0.00033369720630684025, 0.0003335622092246658, 0.00033342732154440993, 0.0003332925431331023, 0.0003331578738579051, 0.0003330233135862922, 0.0003328888621858447, 0.0003327545195244947, 0.0003326202854702199, 0.0003324861598913637, 0.0003323521426564108, 0.0003322182336340531, 0.000332084432693229, 0.0003319507397030316, 0.00033181715453280234, 0.0003316836770521339, 0.00033155030713077004, 0.00033141704463864307, 0.000331283889446004, 0.0003311508414231822, 0.00033101790044081806, 0.00033088506636974564, 0.0003307523390808859, 0.0003306197184455241, 0.0003304872043350855, 0.0003303547966211831, 0.0003302224951757389, 0.0003300902998707098, 0.00032995821057834034, 0.00032982622717114325, 0.0003296943495218133, 0.0003295625775031238, 0.00032943091098821344, 0.0003292993498503536, 0.0003291678939630132, 0.00032903654319984475, 0.00032890529743474095, 0.0003287741565418019, 0.0003286431203953066, 0.0003285121888697791, 0.00032838136183982003, 0.00032825063918033484, 0.00032812002076652576, 0.0003279895064735081, 0.000327859096176906, 0.0003277287897523229, 0.00032759858707565997, 0.00032746848802299216, 0.00032733849247058844, 0.0003272086002949549, 0.0003270788113727355, 0.00032694912558075927, 0.0003268195427961837, 0.00032669006289616227, 0.00032656068575822835, 0.0003264314112600012, 0.0003263022392793277, 0.00032617316969419546, 0.000326044202382873, 0.00032591533722377134, 0.0003257865740954587, 0.00032565791287686907, 0.0003255293534468939, 0.00032540089568471205, 0.00032527253946973303, 0.0003251442846816186, 0.00032501613119996313, 0.00032488807890484767, 0.00032476012767633316, 0.00032463227739479815, 0.0003245045279407258, 0.0003243768791948382, 0.00032424933103808717, 0.0003241218833514438, 0.0003239945360162685, 0.00032386728891398825, 0.00032374014192626494, 0.00032361309493493886, 0.00032348614782195644, 0.0003233593004695686, 0.0003232325527601829, 0.00032310590457640024, 0.0003229793558008554, 0.00032285290631656324, 0.000322726556006673, 0.00032260030475447305, 0.0003224741524434798, 0.0003223480989572561, 0.00032222214417983256, 0.0003220962879950653, 0.0003219705302873118, 0.0003218448709409471, 0.00032171930984051597, 0.000321593846870774, 0.00032146848191671107, 0.00032134321486337967, 0.0003212180455961582, 0.00032109297400055223, 0.00032096799996209833, 0.00032084312336670966, 0.0003207183441004228, 0.0003205936620493614, 0.00032046907709997407, 0.0003203445891387513, 0.00032022019805248616, 0.0003200959037280048, 0.00031997170605242497, 0.0003198476049130168, 0.00031972360019717614, 0.0003195996917925043, 0.0003194758795867763, 0.00031935216346798103, 0.0003192285433242234, 0.0003191050190438185, 0.0003189815905152468, 0.00031885825762710275, 0.0003187350202682461, 0.00031861187832764895, 0.0003184888316944979, 0.00031836588025808857, 0.00031824302390798503, 0.0003181202625338044, 0.0003179975960254301, 0.00031787502427291984, 0.00031775254716636433, 0.0003176301645961862, 0.00031750787645291986, 0.0003173856826272452, 0.0003172635830100098, 0.00031714157749227194, 0.000317019665965253, 0.0003168978483202184, 0.0003167761244488667, 0.000316654494242716, 0.0003165329575937864, 0.0003164115143940903, 0.00031629016453577183, 0.00031616890791121645, 0.0003160477444130001, 0.00031592667393376124, 0.00031580569636637993, 0.00031568481160392127, 0.0003155640195395816, 0.0003154433200666632, 0.0003153227130787342, 0.0003152021984694063, 0.0003150817761326116, 0.00031496144596237884, 0.0003148412078527159, 0.00031472106169813305, 0.0003146010073930534, 0.0003144810448321156, 0.00031436117391017286, 0.00031424139452220537, 0.0003141217065632602, 0.00031400210992875226, 0.00031388260451411853, 0.0003137631902149647, 0.0003136438669269892, 0.00031352463454624284, 0.0003134054929687826, 0.00031328644209080555, 0.00031316748180882357, 0.0003130486120193315, 0.00031292983261908147, 0.000312811143504913, 0.0003126925445739469, 0.00031257403572331236, 0.0003124556168503519, 0.00031233728785267067, 0.0003122190486278536, 0.0003121008990737346, 0.00031198283908829807, 0.00031186486856962065, 0.00031174698741608933, 0.00031162919552607125, 0.0003115114927981278, 0.0003113938791310786, 0.0003112763544237883, 0.00031115891857535924, 0.00031104157148487973, 0.0003109243130518009, 0.0003108071431756637, 0.0003106900617559888, 0.00031057306869270964, 0.00031045616388573845, 0.00031033934723524015, 0.00031022261864142007, 0.0003101059780047132, 0.0003099894252256676, 0.00030987296020506454, 0.00030975658284371855, 0.00030964029304265066, 0.00030952409070300266, 0.0003094079757261381, 0.0003092919480134771, 0.00030917600746665976, 0.0003090601539873897, 0.0003089443874776264, 0.00030882870783942117, 0.0003087131149748969, 0.0003085976087864945, 0.00030848218917671716, 0.00030836685604806313, 0.000308251609303477, 0.00030813644884578447, 0.0003080213745781014, 0.00030790638640362534, 0.0003077914842258098, 0.0003076766679480171, 0.000307561937474016, 0.0003074472927075541, 0.00030733273355256754, 0.0003072182599132367, 0.00030710387169365663, 0.0003069895687982798, 0.0003068753511315793, 0.00030676121859822027, 0.0003066471711030461, 0.0003065332085509448, 0.00030641933084703065, 0.0003063055378965627, 0.00030619182960480297, 0.00030607820587733525, 0.0003059646666198118, 0.000305851211737952, 0.0003057378411377303, 0.0003056245547252493, 0.00030551135240668376, 0.00030539823408834606, 0.0003052851996767274, 0.0003051722490785098, 0.0003050593822003972, 0.00030494659894932753, 0.00030483389923231303, 0.00030472128295656723, 0.0003046087500293533, 0.0003044963003581383, 0.00030438393385050347, 0.0003042716504142244, 0.00030415944995715506, 0.00030404733238720093, 0.00030393529761258326, 0.0003038233455415841, 0.00030371147608250433, 0.00030359968914399896, 0.00030348798463473065, 0.00030337636246343747, 0.0003032648225390998, 0.0003031533647707556, 0.00030304198906769996, 0.00030293069533927653, 0.00030281948349486287, 0.0003027083534441622, 0.000302597305096916, 0.0003024863383629221, 0.0003023754531523266, 0.00030226464937516877, 0.0003021539269417476, 0.0003020432857624593, 0.00030193272574789454, 0.00030182224680865396, 0.0003017118488555722, 0.00030160153179960725, 0.0003014912955518325, 0.00030138114002334603, 0.0003012710651255804, 0.0003011610707698737, 0.00030105115686796094, 0.00030094132333142516, 0.0003008315700721288, 0.000300721897002063, 0.00030061230403339765, 0.00030050279107819087, 0.00030039335804896454, 0.0003002840048581291, 0.00030017473141828786, 0.00030006553764220134, 0.0002999564234427029, 0.0002998473887328588, 0.0002997384334257308, 0.00029962955743451634, 0.0002995207606726892, 0.00029941204305372957, 0.00029930340449124763, 0.00029919484489894906, 0.000299086364190736, 0.00029897796228062315, 0.00029886963908278176, 0.0002987613945113572, 0.00029865322848081984, 0.00029854514090564994, 0.0002984371317003834, 0.0002983292007799125, 0.0002982213480589994, 0.0002981135734527067, 0.00029800587687609686, 0.00029789825824439337, 0.00029779071747306477, 0.00029768325447751456, 0.0002975758691733748, 0.0002974685614763408, 0.0002973613313023351, 0.0002972541785672729, 0.0002971471031872499, 0.0002970401050785246, 0.00029693318415742454, 0.00029682634034037283, 0.00029671957354402914, 0.00029661288368494865, 0.0002965062706801142, 0.000296399734446371, 0.00029629327490075173, 0.0002961868919605022, 0.0002960805855428815, 0.000295974355565346, 0.0002958682019453894, 0.00029576212460074436, 0.00029565612344907083, 0.0002955501984082649, 0.0002954443493964421, 0.0002953385763316571, 0.00029523287913218565, 0.0002951272577163091, 0.0002950217120026367, 0.0002949162419096099, 0.00029481084735606217, 0.0002947055282608274, 0.00029460028454277335, 0.0002944951161209578, 0.00029439002291464154, 0.00029428500484303833, 0.0002941800618255809, 0.00029407519378179923, 0.0002939704006313398, 0.0002938656822939601, 0.00029376103868946095, 0.00029365646973792395, 0.0002935519753593714, 0.00029344755547404037, 0.00029334321000227886, 0.0002932389388644816, 0.0002931347419812114, 0.0002930306192731276, 0.0002929265706610647, 0.00029282259606583903, 0.0002927186954084422, 0.00029261486861006665, 0.0002925111155919186, 0.0002924074362752877, 0.0002923038305816417, 0.0002922002984325948, 0.00029209683974977795, 0.00029199345445494643, 0.00029189014247010304, 0.00029178690371712006, 0.00029168373811819465, 0.00029158064559557423, 0.0002914776260714973, 0.0002913746794685321, 0.00029127180570917745, 0.00029116900471609983, 0.00029106627641205707, 0.0002909636207199707, 0.00029086103756287, 0.00029075852686377007, 0.00029065608854595066, 0.0002905537225327486, 0.0002904514287474796, 0.0002903492071137938, 0.00029024705755532416, 0.00029014497999580753, 0.00029004297435908215, 0.0002899410405691487, 0.00028983917855004125, 0.0002897373882260119, 0.0002896356695212942, 0.0002895340223603012, 0.00028943244666751103, 0.00028933094236759284, 0.00028922950938522953, 0.0002891281476451694, 0.00028902685707246574, 0.00028892563759206046, 0.00028882448912916173, 0.00028872341160895645, 0.00028862240495673583, 0.0002885214690981111, 0.00028842060395851754, 0.0002883198094636454, 0.0002882190855392275, 0.0002881184321111705, 0.0002880178491054596, 0.00028791733644817434, 0.00028781689406544715, 0.0002877165218835644, 0.0002876162198289468, 0.0002875159878280881, 0.0002874158258075964, 0.0002873157336940918, 0.00028721571141440184, 0.0002871157588954229, 0.0002870158760641825, 0.00028691606284778195, 0.0002868163191734266, 0.0002867166449683551, 0.0002866170401600714, 0.0002865175046760138, 0.0002864180384438164, 0.00028631864139121117, 0.00028621931344597636, 0.00028612005453602875, 0.00028602086458933193, 0.00028592174353410914, 0.0002858226912985043, 0.00028572370781081966, 0.00028562479299950704, 0.0002855259467930413, 0.0002854271691200595, 0.00028532845990918187, 0.0002852298190893354, 0.00028513124658938193, 0.0002850327423383242, 0.0002849343062652009, 0.00028483593829931633, 0.00028473763836995154, 0.00028463940640642706, 0.0002845412423382661, 0.00028444314609513035, 0.0002843451176066709, 0.000284247156802634, 0.0002841492636129012, 0.00028405143796750754, 0.00028395367979651816, 0.00028385598903004554, 0.0002837583655984407, 0.0002836608094320491, 0.00028356332046129934, 0.0002834658986167743, 0.00028336854382912896, 0.00028327125602907406, 0.0002831740351475023, 0.00028307688111535006, 0.00028297979386359253, 0.0002828827733234454, 0.0002827858194260601, 0.0002826889321028381, 0.0002825921112851058, 0.00028249535690438084, 0.0002823986688922789, 0.00028230204718055645, 0.00028220549170088996, 0.0002821090023852631, 0.00028201257916559357, 0.0002819162219739801, 0.00028181993074256445, 0.0002817237054035749, 0.00028162754588942937, 0.0002815314521324818, 0.00028143542406538336, 0.0002813394616206463, 0.00028124356473104896, 0.0002811477333293361, 0.00028105196734850836, 0.0002809562667214289, 0.0002808606313813274, 0.0002807650612612871, 0.00028066955629460597, 0.0002805741164145969, 0.0002804787415547771, 0.0002803834316486312, 0.0002802881866297908, 0.00028019300643202357, 0.0002800978909890715, 0.0002800028402349387, 0.0002799078541034676, 0.0002798129325288851, 0.00027971807544527837, 0.0002796232827869083, 0.000279528554488202, 0.00027943389048349217, 0.0002793392907073567, 0.0002792447550943531, 0.0002791502835792868, 0.0002790558760969341, 0.00027896153258210227, 0.00027886725296979054, 0.000278773037195079, 0.0002786788851931351, 0.00027858479689914814, 0.00027849077224844396, 0.00027839681117644213, 0.00027830291361862793, 0.0002782090795105859, 0.00027811530878802244, 0.000278021601386678, 0.000277927957242374, 0.00027783437629107097, 0.00027774085846875047, 0.00027764740371152553, 0.0002775540119556077, 0.00027746068313727043, 0.0002773674171928826, 0.00027727421405888763, 0.00027718107367174626, 0.00027708799596818154, 0.00027699498088487167, 0.0002769020283585824, 0.00027680913832621364, 0.00027671631072469216, 0.00027662354549112984, 0.00027653084256255405, 0.00027643820187623334, 0.0002763456233694705, 0.0002762531069796395, 0.0002761606526442521, 0.00027606826030078833, 0.00027597592988690936, 0.00027588366134031475, 0.00027579145459882034, 0.0002756993096003419, 0.0002756072262828477, 0.00027551520458429313, 0.0002754232444429246, 0.000275331345796901, 0.000275239508584519, 0.0002751477327442024, 0.000275056018214345, 0.00027496436493357754, 0.0002748727728405071, 0.00027478124187375327, 0.00027468977197224416, 0.000274598363074809, 0.0002745070151203024, 0.0002744157280479296, 0.0002743245017966432, 0.00027423333630580355, 0.00027414223151456734, 0.00027405118736234193, 0.00027396020378854676, 0.00027386928073273045, 0.0002737784181345261, 0.00027368761593358007, 0.00027359687406961484, 0.00027350619248254593, 0.0002734155711122973, 0.0002733250098988164, 0.00027323450878219424, 0.00027314406770268174, 0.0002730536866004039, 0.0002729633654157197, 0.0002728731040891168, 0.00027278290256093295, 0.0002726927607718101, 0.0002726026786624011, 0.00027251265617337164, 0.00027242269324553897, 0.00027233278981982724, 0.00027224294583707664, 0.0002721531612384195, 0.0002720634359648957, 0.0002719737699577367, 0.0002718841631581821, 0.00027179461550754316, 0.00027170512694726733, 0.000271615697418927, 0.0002715263268639413, 0.0002714370152240901, 0.00027134776244103686, 0.0002712585684566049, 0.0002711694332127106, 0.00027108035665120904, 0.00027099133871421715, 0.00027090237934383895, 0.00027081347848223323, 0.0002707246360716415, 0.00027063585205447095, 0.0002705471263731115, 0.00027045845897000887, 0.0002703698497877922, 0.00027028129876905516, 0.00027019280585651974, 0.0002701043709930231, 0.00027001599412136663, 0.00026992767518448996, 0.00026983941412549, 0.00026975121088738924, 0.00026966306541333155, 0.00026957497764662773, 0.0002694869475306155, 0.0002693989750085348, 0.00026931106002402633, 0.0002692232025205225, 0.00026913540244162906, 0.0002690476597310413, 0.0002689599743325573, 0.00026887234618999765, 0.0002687847752472532, 0.0002686972614482822, 0.00026860980473716303, 0.00026852240505799646, 0.0002684350623549963, 0.0002683477765724557, 0.00026826054765472456, 0.00026817337554612086, 0.0002680862601912447, 0.00026799920153459933, 0.0002679121995208107, 0.0002678252540946328, 0.0002677383652007721, 0.0002676515327841135, 0.0002675647567896061, 0.00026747803716222314, 0.0002673913738469861, 0.00026730476678906096, 0.0002672182159336592, 0.0002671317212260696, 0.00026704528261159465, 0.00026695890003571076, 0.000266872573443853, 0.0002667863027816234, 0.0002667000879946472, 0.00026661392902860466, 0.0002665278258292578, 0.0002664417783424732, 0.00026635578651419136, 0.00026626985029030824, 0.0002661839696169461, 0.0002660981444401959, 0.00026601237470630444, 0.0002659266603614342, 0.00026584100135202245, 0.0002657553976244199, 0.0002656698491250244, 0.00026558435580053077, 0.00026549891759736704, 0.0002654135344623616, 0.00026532820634217013, 0.0002652429331836366, 0.0002651577149336702, 0.0002650725515391797, 0.00026498744294714565, 0.00026490238910478097, 0.00026481738995913067, 0.0002647324454574207, 0.00026464755554699715, 0.0002645627201752168, 0.00026447793928943036, 0.0002643932128371804, 0.00026430854076606397, 0.0002642239230236913, 0.00026413935955772543, 0.0002640548503159523, 0.00026397039524623156, 0.0002638859942963609, 0.00026380164741442614, 0.0002637173545484126, 0.0002636331156463615, 0.0002635489306565009, 0.0002634647995269961, 0.00026338072220624486, 0.00026329669864254453, 0.0002632127287843602, 0.0002631288125801149, 0.00026304494997845347, 0.0002629611409279139, 0.0002628773853772699, 0.00026279368327524545, 0.000262710034570617, 0.00026262643921234435, 0.00026254289714938635, 0.0002624594083307054, 0.00026237597270543906, 0.0002622925902226829, 0.0002622092608316852, 0.0002621259844816624, 0.00026204276112204596, 0.0002619595907022283, 0.00026187647317159465, 0.00026179340847982306, 0.0002617103965763628, 0.0002616274374109581, 0.0002615445309333494, 0.000261461677093282, 0.0002613788758406732, 0.0002612961271253903, 0.00026121343089741757, 0.00026113078710679667, 0.00026104819570368275, 0.0002609656566382276, 0.0002608831698606615, 0.0002608007353212579, 0.0002607183529704142, 0.00026063602275857743, 0.00026055374463614946, 0.0002604715185537605, 0.0002603893444619732, 0.0002603072223115404, 0.00026022515205314725, 0.00026014313363754516, 0.0002600611670156996, 0.0002599792521384346, 0.0002598973889568303, 0.0002598155774218656, 0.0002597338174846456, 0.0002596521090964236, 0.000259570452208359, 0.00025948884677178056, 0.00025940729273801, 0.0002593257900585396, 0.00025924433868475315, 0.00025916293856821524, 0.00025908158966057876, 0.00025900029191352407, 0.00025891904527865727, 0.0002588378497078698, 0.00025875670515295454, 0.00025867561156580135, 0.0002585945688984164, 0.00025851357710281463, 0.0002584326361311136, 0.0002583517459353781, 0.00025827090646790053, 0.0002581901176808639, 0.0002581093795266613, 0.0002580286919576434, 0.00025794805492627336, 0.00025786746838506153, 0.00025778693228657555, 0.00025770644658344613, 0.00025762601122829835, 0.000257545626173923, 0.00025746529137305905, 0.0002573850067787149, 0.00025730477234364024, 0.00025722458802094505, 0.0002571444537636022, 0.000257064369524668, 0.0002569843352573842, 0.0002569043509149306, 0.00025682441645058805, 0.0002567445318176483, 0.00025666469696951317, 0.0002565849118596858, 0.00025650517644156586, 0.00025642549066882313, 0.00025634585449501554, 0.00025626626787381975, 0.0002561867307590108, 0.00025610724310431456, 0.0002560278048636718, 0.000255948415990901, 0.00025586907644001994, 0.0002557897861650588, 0.0002557105451200735, 0.00025563135325921765, 0.00025555221053669765, 0.000255473116906671, 0.00025539407232355425, 0.0002553150767416697, 0.0002552361301154394, 0.0002551572323993352, 0.00025507838354793744, 0.00025499958351572646, 0.00025492083225749367, 0.0002548421297278174, 0.00025476347588153847, 0.00025468487067340943, 0.0002546063140583135, 0.00025452780599121615, 0.0002544493464271098, 0.00025437093532094794, 0.0002542925726278881, 0.00025421425830309463, 0.0002541359923016676, 0.0002540577745790365, 0.0002539796050903523, 0.00025390148379109107, 0.00025382341063661924, 0.00025374538558246373, 0.0002536674085840882, 0.0002535894795971809, 0.00025351159857730577, 0.00025343376548019866, 0.0002533559802615857, 0.0002532782428772999, 0.00025320055328317175, 0.0002531229114351916, 0.00025304531728923945, 0.0002529677708014062, 0.00025289027192777226, 0.0002528128206243737, 0.00025273541684751107, 0.0002526580605533625, 0.00025258075169828, 0.0002525034902385421, 0.00025242627613059645, 0.0002523491093308912, 0.00025227198979590787, 0.00025219491748224487, 0.00025211789234649303, 0.0002520409143453497, 0.0002519639834354481, 0.0002518870995736976, 0.000251810262716827, 0.00025173347282173497, 0.0002516567298453641, 0.0002515800337447054, 0.00025150338447680183, 0.0002514267819987509, 0.0002513502262676325, 0.0002512737172407496, 0.00025119725487523115, 0.00025112083912846823, 0.00025104446995775415, 0.00025096814732047175, 0.00025089187117421355, 0.0002508156414762995, 0.0002507394581844323, 0.0002506633212561929, 0.00025058723064919503, 0.0002505111863211864, 0.00025043518822994234, 0.0002503592363332369, 0.00025028333058899717, 0.00025020747095509996, 0.0002501316573895132, 0.0002500558898503118, 0.00024998016829545414, 0.00024990449268322246, 0.0002498288629716742, 0.0002497532791190687, 0.00024967774108366906, 0.0002496022488238382, 0.0002495268022979264, 0.0002494514014643939, 0.0002493760462816268, 0.0002493007367082931, 0.0002492254727028234, 0.00024915025422397375, 0.0002490750812303209, 0.00024899995368066213, 0.00024892487153378257, 0.00024884983474846007, 0.00024877484328357285, 0.0002486998970980429, 0.00024862499615096057, 0.00024855014040123, 0.00024847532980791607, 0.0002484005643302389, 0.00024832584392735457, 0.0002482511685584156, 0.0002481765381827806, 0.00024810195275969387, 0.0002480274122486001, 0.00024795291660889123, 0.00024787846580000565, 0.0002478040597815201, 0.0002477296985129762, 0.00024765538195399057, 0.00024758111006417563, 0.0002475068828033105, 0.00024743270013115326, 0.0002473585620075131, 0.0002472844683921907, 0.00024721041924513214, 0.0002471364145263431, 0.00024706245419575874, 0.00024698853821345857, 0.000246914666539526, 0.00024684083913408477, 0.0002467670559573578, 0.00024669331696961525, 0.00024661962213110423, 0.0002465459714021997, 0.0002464723647432877, 0.0002463988021147129, 0.0002463252834770169, 0.00024625180879079135, 0.00024617837801650807, 0.0002461049911147843, 0.00024603164804640285, 0.00024595834877196493, 0.00024588509325228225, 0.0002458118814481532, 0.0002457387133204716, 0.00024566558883007395, 0.00024559250793795194, 0.000245519470605073, 0.0002454464767924589, 0.0002453735264612806, 0.00024530061957264227, 0.00024522775608769814, 0.0002451549359676888, 0.0002450821591739107, 0.0002450094256676418, 0.0002449367354102559, 0.0002448640883632318, 0.00024479148448791616, 0.00024471892374588187, 0.0002446464060986681, 0.00024457393150786763, 0.0002445014999351777, 0.00024442911134215707, 0.0002443567656906434, 0.0002442844629423928, 0.00024421220305916, 0.00024413998600295595, 0.00024406781173556274, 0.00024399568021896397, 0.00024392359141519202, 0.00024385154528631576, 0.00024377954179434578, 0.00024370758090154861, 0.00024363566257000363, 0.0002435637867619567, 0.00024349195343969032, 0.00024342016256552798, 0.00024334841410183418, 0.0002432767080109637, 0.0002432050442554756, 0.000243133422797748, 0.00024306184360042404, 0.00024299030662602316, 0.00024291881183716418, 0.00024284735919655117, 0.00024277594866693977, 0.0002427045802109617, 0.00024263325379155954, 0.0002425619693715027, 0.0002424907269137039, 0.00024241952638112688, 0.00024234836773665157, 0.00024227725094344167, 0.0002422061759644566, 0.00024213514276282162, 0.00024206415130175493, 0.0002419932015443548, 0.0002419222934539663, 0.00024185142699376179, 0.0002417806021271267, 0.0002417098188174864, 0.00024163907702812445, 0.00024156837672259764, 0.00024149771786434666, 0.00024142710041699615, 0.00024135652434400623, 0.00024128598960909692, 0.00024121549617584797, 0.00024114504400812357, 0.0002410746330694785, 0.0002410042633238962, 0.00024093393473507166, 0.00024086364726696758, 0.00024079340088351193, 0.0002407231955486361, 0.00024065303122630078, 0.00024058290788067226, 0.00024051282547574678, 0.00024044278397570786, 0.00024037278334467234, 0.00024030282354692414, 0.0002402329045467058, 0.00024016302630826107, 0.0002400931887960321, 0.00024002339197433164, 0.00023995363580762896, 0.0002398839202603167, 0.00023981424529699453, 0.00023974461088212742, 0.00023967501698040372, 0.0002396054635563634, 0.00023953595057470627, 0.00023946647800022407, 0.00023939704579751888, 0.00023932765393153052, 0.00023925830236703834, 0.00023918899106888819, 0.00023911972000205913, 0.0002390504891315182, 0.00023898129842215914, 0.0002389121478391334, 0.00023884303734752525, 0.000238773966912396, 0.0002387049364989012, 0.00023863594607228806, 0.00023856699559779537, 0.0002384980850406885, 0.0002384292143663265, 0.0002383603835400079, 0.00023829159252716117, 0.00023822284129327255, 0.00023815412980384595, 0.0002380854580243249, 0.00023801682592029433, 0.0002379482334573826, 0.00023787968060119672, 0.0002378111673174874, 0.00023774269357188603, 0.0002376742593302185, 0.00023760586455829052, 0.00023753750922196344, 0.000237469193286996, 0.0002374009167194845, 0.00023733267948521878, 0.00023726448155030638, 0.00023719632288077418, 0.00023712820344270102, 0.00023706012320212343, 0.0002369920821253017, 0.00023692408017835607, 0.00023685611732755915, 0.00023678819353915983, 0.00023672030877949784, 0.00023665246301490006, 0.00023658465621178426, 0.00023651688833654062, 0.00023644915935565707, 0.00023638146923561016, 0.00023631381794294792, 0.00023624620544433002, 0.00023617863170621802, 0.0002361110966954408, 0.0002360436003785451, 0.00023597614272237205, 0.00023590872369370585, 0.0002358413432592334, 0.0002357740013858679, 0.0002357066980405404, 0.0002356394331901666, 0.00023557220680164374, 0.00023550501884201953, 0.00023543786927825728, 0.00023537075807758583, 0.00023530368520698538, 0.00023523665063364022, 0.00023516965432477055, 0.00023510269624752033, 0.00023503577636928695, 0.0002349688946572359, 0.00023490205107877662, 0.00023483524560130294, 0.00023476847819213766, 0.00023470174881879883, 0.00023463505744878468, 0.00023456840404957003, 0.00023450178858873386, 0.0002344352110339228, 0.0002343686713526681, 0.00023430216951275443, 0.00023423570548177674, 0.00023416927922752576, 0.00023410289071784074, 0.00023403653992047413, 0.00023397022680331564, 0.00023390395133425428, 0.00023383771348114353, 0.000233771513212042, 0.00023370535049492232, 0.0002336392252977531, 0.00023357313758874521, 0.00023350708733587073, 0.00023344107450735453, 0.0002333750990713984, 0.0002333091609961406, 0.00023324326024985064, 0.0002331773968008846, 0.00023311157061747825, 0.000233045781668056, 0.0002329800299210287, 0.0002329143153447814, 0.00023284863790773452, 0.00023278299757855417, 0.00023271739432562574, 0.00023265182811757108, 0.00023258629892305437, 0.0002325208067106661, 0.00023245535144907523, 0.00023238993310704665, 0.00023232455165326054, 0.00023225920705660628, 0.0002321938992858316, 0.00023212862830983709, 0.0002320633940974811, 0.00023199819661773083, 0.0002319330358395282, 0.00023186791173184453, 0.00023180282426372783, 0.00023173777340427946, 0.000231672759122561, 0.00023160778138772963, 0.00023154284016897622, 0.00023147793543546306, 0.0002314130671565046, 0.00023134823530127348, 0.00023128343983913857, 0.00023121868073945373, 0.00023115395797160303, 0.00023108927150500652, 0.00023102462130904623, 0.0002309600073532583, 0.00023089542960715611, 0.00023083088804023088, 0.00023076638262216416, 0.00023070191332256264, 0.00023063748011101204, 0.0002305730829572385, 0.0002305087218309994, 0.00023044439670197433, 0.0002303801075399846, 0.00023031585431488186, 0.00023025163699649828, 0.00023018745555468924, 0.00023012330995946295, 0.00023005920018068503, 0.00022999512618842447, 0.00022993108795266715, 0.00022986708544348527, 0.00022980311863093127, 0.00022973918748513602, 0.00022967529197632125, 0.00022961143207463758, 0.00022954760775030655, 0.00022948381897359738, 0.0002294200657147895, 0.00022935634794422113, 0.00022929266563223244, 0.00022922901874921278, 0.00022916540726557554, 0.0002291018311518229, 0.00022903829037844003, 0.00022897478491586514, 0.00022891131473475434, 0.0002288478798056226, 0.00022878448009917767, 0.0002287211155859931, 0.00022865778623673664, 0.00022859449202220462, 0.00022853123291311555, 0.00022846800888022464, 0.00022840481989437101, 0.00022834166592642174, 0.00022827854694721666, 0.0002282154629276919, 0.00022815241383874362, 0.00022808939965146956, 0.00022802642033673391, 0.00022796347586568683, 0.00022790056620934908, 0.00022783769133884006, 0.0002277748512252955, 0.00022771204583987544, 0.0002276492751537866, 0.0002275865391382579, 0.00022752383776454636, 0.00022746117100398786, 0.00022739853882785556, 0.0002273359412076065, 0.0002272733781144975, 0.00022721084951999928, 0.00022714835539560052, 0.00022708589571282035, 0.00022702347044304132, 0.00022696107955795611, 0.00022689872302906862, 0.00022683640082801277, 0.0002267741129263957, 0.00022671185929597283, 0.0002266496399083624, 0.00022658745473531878, 0.0002265253037486772, 0.00022646318692014553, 0.00022640110422161665, 0.00022633905562491146, 0.00022627704110192488, 0.00022621506062459314, 0.00022615311416487223, 0.00022609120169474078, 0.00022602932318622777, 0.00022596747861136873, 0.00022590566794223756, 0.0002258438911508848, 0.0002257821482095485, 0.0002257204390903865, 0.00022565876376548212, 0.00022559712220721032, 0.00022553551438770814, 0.00022547394027936204, 0.00022541239985441241, 0.00022535089308530517, 0.0002252894199442872, 0.00022522798040390787, 0.00022516657443652358, 0.0002251052020146431, 0.0002250438631107296, 0.00022498255769734103, 0.00022492128574700282, 0.00022486004723238392, 0.00022479884212605808, 0.0002247376704006532, 0.0002246765320289087, 0.00022461542698349037, 0.00022455435523715384, 0.0002244933167626189, 0.00022443231153280045, 0.00022437133952042893, 0.0002243104006983593, 0.0002242494950395388, 0.00022418862251688437, 0.00022412778310333803, 0.00022406697677181898, 0.00022400620349537968, 0.000223945463247053, 0.00022388475599988594, 0.00022382408172701707, 0.0002237634404015557, 0.00022370283199664345, 0.00022364225648544106, 0.00022358171384119363, 0.0002235212040371211, 0.0002234607270464629, 0.00022340028284261333, 0.00022333987139881045, 0.00022327949268848983, 0.00022321914668495659, 0.0002231588333616378, 0.00022309855269200726, 0.00022303830464954377, 0.00022297808920771688, 0.00022291790634006788, 0.00022285775602011516, 0.000222797638221562, 0.0002227375529178723, 0.00022267750008280037, 0.00022261747968997593, 0.0002225574917131502, 0.00022249753612595255, 0.00022243761290218893, 0.00022237772201570065, 0.0002223178634401857, 0.00022225803714959945, 0.0002221982431177933, 0.0002221384813186122, 0.0002220787517259618, 0.00022201905431390751, 0.00022195938905635268, 0.00022189975592729421, 0.00022184015490081524, 0.00022178058595100588, 0.00022172104905189343, 0.00022166154417762972, 0.00022160207130240303, 0.00022154263040035009, 0.00022148322144566188, 0.000221423844412588, 0.00022136449927541928, 0.00022130518600840465, 0.0002212459045858901, 0.00022118665498223125, 0.000221127437171764, 0.00022106825112889645, 0.0002210090968280786, 0.00022094997424371173, 0.00022089088335034443, 0.0002208318241224938, 0.00022077279653464498, 0.00022071380056131284, 0.0002206548361772018, 0.00022059590335692632, 0.00022053700207502392, 0.00022047813230626848, 0.00022041929402531234, 0.00022036048720685964, 0.00022030171182572516, 0.00022024296785667227, 0.00022018425527455283, 0.00022012557405408115, 0.00022006692417020788, 0.00022000830559780883, 0.00021994971831178106, 0.00021989116228710303, 0.00021983263749866008, 0.00021977414392159743, 0.0002197156815307972, 0.00021965725030139092, 0.00021959885020836462, 0.0002195404812269204, 0.00021948214333218448, 0.00021942383649923536, 0.00021936556070327476, 0.00021930731591958622, 0.0002192491021232989, 0.00021919091928975553, 0.0002191327673942508, 0.0002190746464119961, 0.0002190165563184548, 0.0002189584970888861, 0.00021890046869874578, 0.0002188424711234588, 0.00021878450433846655, 0.00021872656831919168, 0.00021866866304118523, 0.00021861078847990276, 0.00021855294461100747, 0.00021849513140995733, 0.00021843734885240108, 0.0002183795969140085, 0.0002183218755703616, 0.0002182641847971853, 0.00021820652457017916, 0.00021814889486503983, 0.00021809129565751397, 0.00021803372692347185, 0.00021797618863859822, 0.00021791868077884993, 0.00021786120332001942, 0.00021780375623796112, 0.00021774633950861146, 0.00021768895310793183, 0.00021763159701190246, 0.00021757427119642762, 0.0002175169756375903, 0.00021745971031133333, 0.0002174024751938494, 0.000217345270261137, 0.00021728809548931163, 0.00021723095085453476, 0.00021717383633296447, 0.00021711675190080876, 0.00021705969753423108, 0.00021700267320953583, 0.0002169456789029313, 0.00021688871459070046, 0.00021683178024917098, 0.00021677487585467124, 0.0002167180013836177, 0.00021666115681234473, 0.00021660434211726094, 0.00021654755727484317, 0.00021649080226154903, 0.00021643407705380414, 0.00021637738162821662, 0.00021632071596125127, 0.00021626408002946163, 0.00021620747380946462, 0.00021615089727785688, 0.00021609435041130697, 0.00021603783318645392, 0.00021598134557995847, 0.000215924887568564, 0.00021586845912896933, 0.00021581206023791021, 0.00021575569087224042, 0.00021569935100875133, 0.0002156430406242293, 0.00021558675969555167, 0.00021553050819955976, 0.0002154742861132327, 0.00021541809341340618, 0.0002153619300771522, 0.00021530579608135343, 0.00021524969140295923, 0.00021519361601912316, 0.0002151375699068402, 0.0002150815530431346, 0.00021502556540516603, 0.00021496960697004936, 0.000214913677714887, 0.00021485777761683886, 0.00021480190665309812, 0.00021474606480093448, 0.00021469025203757903, 0.00021463446834023932, 0.00021457871368623868, 0.00021452298805283747, 0.000214467291417458, 0.00021441162375740054, 0.00021435598505002137, 0.0002143003752727758, 0.00021424479440301732, 0.0002141892424182877, 0.00021413371929604347, 0.00021407822501370743, 0.00021402275954888675, 0.00021396732287910983, 0.00021391191498185654, 0.00021385653583480486, 0.0002138011854156023, 0.00021374586370179465, 0.00021369057067107043, 0.000213635306301131, 0.00021358007056965602, 0.00021352486345445188, 0.00021346968493317437, 0.00021341453498362412, 0.00021335941358366286, 0.0002133043207110236, 0.00021324925634361907, 0.00021319422045926436, 0.00021313921303586872, 0.00021308423405141255, 0.00021302928348372285, 0.0002129743613108219, 0.00021291946751069156, 0.00021286460206134677, 0.00021280976494075728, 0.00021275495612702814, 0.00021270017559823291, 0.00021264542333240412, 0.00021259069930776894, 0.0002125360035023525, 0.00021248133589442253, 0.0002124266964620434, 0.0002123720851835192, 0.00021231750203707205, 0.0002122629470009468, 0.00021220842005340075, 0.0002121539211727678, 0.00021209945033729707, 0.00021204500752542663, 0.00021199059271544067, 0.00021193620588576254, 0.00021188184701483254, 0.00021182751608100252, 0.00021177321306281265, 0.00021171893793864915, 0.00021166469068710286, 0.00021161047128665354, 0.00021155627971581193, 0.00021150211595323125, 0.00021144797997739112, 0.00021139387176698603, 0.00021133979130059973, 0.00021128573855685475, 0.00021123171351454615, 0.00021117771615221793, 0.00021112374644870763, 0.00021106980438271133, 0.00021101588993294399, 0.00021096200307825413, 0.00021090814379745538, 0.0002108543120693157, 0.00021080050787269353, 0.00021074673118650858, 0.00021069298198960788, 0.0002106392602609599, 0.00021058556597942633, 0.00021053189912403057, 0.00021047825967368427, 0.00021042464760743365, 0.00021037106290430015, 0.00021031750554330564, 0.00021026397550350773, 0.00021021047276403808, 0.00021015699730392922, 0.0002101035491023542, 0.00021005012813849519, 0.00020999673439145618, 0.00020994336784046399, 0.00020989002846475948, 0.00020983671624350537, 0.00020978343115604528, 0.0002097301731815695, 0.00020967694229941103, 0.0002096237384889131, 0.00020957056172939102, 0.00020951741200016897, 0.00020946428928070722, 0.00020941119355032727, 0.00020935812478852246, 0.00020930508297470476, 0.00020925206808835794, 0.0002091990801089294, 0.00020914611901599715, 0.00020909318478899553, 0.00020904027740753378, 0.00020898739685114051, 0.0002089345430994784, 0.00020888171613210442, 0.0002088289159286604, 0.0002087761424687502, 0.00020872339573216073, 0.00020867067569847836, 0.00020861798234746897, 0.00020856531565887552, 0.00020851267561239573, 0.0002084600621878571, 0.00020840747536505334, 0.0002083549151237422, 0.0002083023814438651, 0.00020824987430521146, 0.0002081973936876606, 0.00020814493957108956, 0.00020809251193552308, 0.0002080401107607782, 0.00020798773602684448, 0.00020793538771369816, 0.0002078830658014303, 0.0002078307702699224, 0.0002077785010993185, 0.0002077262582695948, 0.00020767404176092139, 0.00020762185155332095, 0.00020756968762694657, 0.00020751754996191032, 0.00020746543853845538, 0.00020741335333667555, 0.00020736129433680778, 0.00020730926151902847, 0.00020725725486366324, 0.00020720527435093427, 0.00020715331996103305, 0.00020710139167438857, 0.00020704948947128675, 0.00020699761333202175, 0.00020694576323697326, 0.00020689393916652578, 0.00020684214110104672, 0.0002067903690210115, 0.00020673862290687177, 0.00020668690273898402, 0.00020663520849788607, 0.00020658354016413668, 0.00020653189771809117, 0.00020648028114045362, 0.0002064286904116728, 0.00020637712551237945, 0.00020632558642317157, 0.0002062740731245972, 0.00020622258559734952, 0.00020617112382201783, 0.00020611968777937945, 0.00020606827745001295, 0.00020601689281467, 0.00020596553385413178, 0.00020591420054908013, 0.00020586289288032479, 0.0002058116108286424, 0.0002057603543748281, 0.0002057091234996881, 0.00020565791818410984, 0.0002056067384089355, 0.0002055555841550375, 0.00020550445540334106, 0.0002054533521347557, 0.0002054022743302526, 0.00020535122197076338])\n",
      "w,b [[-2.28159057e-01 -2.86380965e-01 -2.71919306e-01 -1.16653697e-01\n",
      "   1.80719076e-02 -1.78230058e-02 -3.38532310e-02 -1.70344537e-01\n",
      "  -2.01429159e-01 -2.98570046e-01 -2.78295020e-01  6.09988934e-02\n",
      "  -2.54903131e-01 -1.25763251e-01 -1.56424211e-01 -4.95289044e-02\n",
      "  -1.40291691e-01  2.78139919e-03 -2.74276784e-01 -1.09957840e-01\n",
      "  -1.01991590e-01 -8.46074876e-02 -4.13019941e-01 -1.43129303e-01\n",
      "   7.32317775e-02  3.65616674e-02  9.17945016e-02 -4.31951489e-01\n",
      "   6.61969901e-04 -6.68788489e-02  1.53775345e-02  5.73973580e-02\n",
      "  -2.01980948e-01 -1.25331356e-01 -1.79706712e-01 -3.52410884e-01\n",
      "   7.24147284e-03 -4.15339460e-01  1.61188685e-01 -8.75472731e-02\n",
      "  -1.91449436e-02  6.16970594e-02  8.55981046e-02  4.09663046e-02\n",
      "  -4.05461295e-01 -6.66276540e-03  3.33808235e-02  8.16340817e-02\n",
      "  -9.67299800e-02  5.37226179e-02  7.76463350e-02 -1.68549105e-01\n",
      "  -3.33494506e-01  2.64716804e-02  8.33541672e-02 -2.68812809e-01\n",
      "   1.01963768e-01 -5.90290212e-02  5.11389971e-02 -9.47418773e-02\n",
      "   2.48775574e-01  1.15417265e-01 -5.90799090e-02  1.25518909e-02\n",
      "  -1.75631727e-01 -3.05465197e-02 -2.89211686e-04 -1.45100190e-01\n",
      "  -3.31477815e-01 -2.05235372e-02  7.08731994e-02 -1.03815932e-01\n",
      "   1.44646905e-01  1.09925936e-01 -6.13618197e-02 -3.61662950e-02\n",
      "   5.47432883e-02 -8.42411597e-02 -2.84881372e-02  1.04303574e-01\n",
      "  -8.89467639e-02  2.83969912e-01  1.34285914e-01 -7.74063328e-02\n",
      "  -1.82013325e-01  3.20886010e-02 -2.80713789e-01 -4.63879184e-01\n",
      "  -2.06858098e-01 -9.69841007e-02 -1.08989315e-01 -9.89266936e-02\n",
      "  -8.15937463e-02 -1.91311889e-01 -8.11768000e-02 -3.17393483e-01\n",
      "  -1.37204958e-02 -1.31838504e-01  1.85422909e-01 -2.33768715e-02\n",
      "  -1.43175422e-01 -1.25084863e-01  1.43168832e-01  8.70285039e-02\n",
      "  -6.46218550e-02  2.85331044e-02  6.21726638e-03 -9.59989264e-02\n",
      "  -6.27540254e-02 -1.51536070e-01  1.90030443e-01 -1.84848188e-01\n",
      "  -1.57726845e-03 -2.43397572e-01 -5.94632106e-02  4.97330683e-02\n",
      "  -4.29067634e-01 -7.39176459e-01 -1.42534435e-01 -1.60591071e-01\n",
      "  -2.18828666e-01 -5.12645889e-02  5.31920558e-02 -3.15864369e-01\n",
      "  -1.08201964e-01 -3.65215638e-02 -1.23218298e-01 -1.68459451e-01\n",
      "   1.63915952e-01 -1.22236677e-01 -3.10319676e-03 -3.62653562e-01\n",
      "  -3.88787760e-01  3.82777820e-02 -5.53886655e-01 -3.08482672e-01\n",
      "  -2.77881158e-01 -6.64145126e-02  1.64188360e-01 -6.09452295e-02\n",
      "  -2.22799331e-02  1.07037743e-01  8.52634979e-03  5.36728255e-02\n",
      "  -8.81236292e-03  3.28429279e-03  7.43902238e-02 -8.69725602e-01\n",
      "   6.02421956e-03 -1.14168475e+00 -1.10687036e-01 -2.17295412e-01\n",
      "  -3.30083591e-01 -3.69933001e-02  5.63075650e-02  9.28605066e-02\n",
      "  -4.21527415e-02 -2.98505947e-02  2.45164313e-01  2.87970237e-02\n",
      "  -2.97404490e-01 -1.90018779e-02 -2.24705748e-02 -9.35366080e-01\n",
      "  -1.78964175e-01 -5.82147171e-01 -7.58309539e-01 -7.92492339e-02\n",
      "  -3.35263394e-01  1.21485049e-01  2.36208118e-01 -1.71971143e-01\n",
      "  -9.04751855e-02 -5.98406164e-02  2.96789770e-01  5.60202926e-02\n",
      "  -4.04932937e-01  8.49172855e-02 -1.22131701e-01 -9.65924859e-01\n",
      "  -6.52050892e-01 -2.56001004e-01 -3.88853027e-01 -2.56034556e-01\n",
      "  -4.50789238e-02 -7.84395196e-02 -3.19516592e-03  8.05646374e-02\n",
      "   6.72602152e-02 -5.93074842e-02  3.99347905e-01 -1.34513174e-01\n",
      "  -2.10724941e-01 -5.46804083e-03  1.29370313e-01 -7.24617872e-01\n",
      "  -1.68013709e-01 -3.29766177e-01 -2.30375706e-02 -2.77923877e-01\n",
      "   1.55202741e-02  8.00394840e-02  2.26209304e-01 -1.04659046e-02\n",
      "  -3.97436246e-01  9.32984173e-02  3.26854035e-01 -5.30075562e-02\n",
      "  -8.91692146e-02  1.28722472e-01 -1.25967980e-01 -4.91769782e-01\n",
      "  -9.53877368e-01 -7.90582400e-01 -3.04868365e-01  5.71650683e-02\n",
      "  -8.06217268e-02 -2.53481818e-02 -4.18631560e-01 -3.06459498e-01\n",
      "   9.10700940e-02 -3.40260195e-02  1.19546816e-01 -2.43645265e-01\n",
      "  -3.84208175e-01 -3.64821328e-01 -2.47586028e-01 -2.30642313e-01\n",
      "  -8.59930895e-03  2.80802996e-02  1.17623846e-01 -2.88957338e-02\n",
      "   1.14760641e-01 -9.76885735e-02 -1.00117417e-01 -1.29217713e-01\n",
      "  -1.15738738e-01 -1.58850179e-01 -5.78602820e-01 -2.35220278e-01\n",
      "  -3.00040357e-01  3.71281613e-02  2.96597168e-02  2.97353872e-01\n",
      "   1.11535629e-02  2.17733545e-01  1.65393940e-01 -2.57070487e-01\n",
      "   3.38539152e-02  5.23649107e-02  2.63311393e-01 -3.50722955e-01\n",
      "   6.21828609e-02 -3.34784184e-02 -3.66757931e-01 -2.51757349e-01]] [2.8604238]\n"
     ]
    },
    {
     "data": {
      "image/png": "[encoded data removed]",
      "text/plain": [
       "<Figure size 432x288 with 1 Axes>"
      ]
     },
     "metadata": {},
     "output_type": "display_data"
    }
   ],
   "source": [
    "\n",
    "sn_ce = SigmoidNeuron()\n",
    "best_epoch   = 4000\n",
    "best_lr_rate = 0.0008\n",
    "sn_ce.fit(X_scaled_train, Y_train, epochs=best_epoch, learning_rate=best_lr_rate, loss_fn=\"ce\", display_loss=True)\n",
    "Y_pred_binarised_train = (sn_ce.predict(X_scaled_train)>= 0.5).astype(\"int\").ravel()"
   ]
  },
  {
   "cell_type": "code",
   "execution_count": 16,
   "metadata": {
    "_uuid": "d6a080094481e7799e79303aa3655c6eef5763ad",
    "colab": {},
    "colab_type": "code",
    "id": "_a3_-9zYijIS"
   },
   "outputs": [],
   "source": [
    "def print_accuracy(sn):\n",
    "  Y_pred_train = sn.predict(X_scaled_train)\n",
    "  Y_pred_binarised_train = (Y_pred_train >= 0.5).astype(\"int\").ravel()\n",
    "  accuracy_train = accuracy_score(Y_pred_binarised_train, Y_train)\n",
    "  print(\"Train Accuracy : \", accuracy_train)\n",
    "  print(\"-\"*50)"
   ]
  },
  {
   "cell_type": "code",
   "execution_count": 17,
   "metadata": {
    "_uuid": "d2eba1db20fc46f689f54846501f09a0b5f08144",
    "colab": {},
    "colab_type": "code",
    "id": "lqe2g9PLijIW",
    "outputId": "0ce4b45c-78f5-4323-829b-db3e12c3f268"
   },
   "outputs": [
    {
     "name": "stdout",
     "output_type": "stream",
     "text": [
      "Train Accuracy :  1.0\n",
      "--------------------------------------------------\n",
      "Train Accuracy :  1.0\n",
      "--------------------------------------------------\n"
     ]
    }
   ],
   "source": [
    "print_accuracy(sn_mse)\n",
    "print_accuracy(sn_ce)"
   ]
  },
  {
   "cell_type": "code",
   "execution_count": 18,
   "metadata": {
    "_uuid": "a4da5eb59ba477f0fc6676f5af978c14bfc17f6d"
   },
   "outputs": [],
   "source": []
  },
  {
   "cell_type": "markdown",
   "metadata": {
    "_uuid": "6972eb3d7098f2f03fadb10e853470e3388e7e82",
    "colab_type": "text",
    "id": "8IMv7SCUijIa"
   },
   "source": [
    "## Sample Submission"
   ]
  },
  {
   "cell_type": "code",
   "execution_count": 18,
   "metadata": {
    "_uuid": "1ca3d1291f339bab1ecbf88dc74b8e6316f37556",
    "colab": {},
    "colab_type": "code",
    "id": "4_pBsgYlijIb"
   },
   "outputs": [],
   "source": [
    "Y_pred_test = sn_ce.predict(X_scaled_test)\n",
    "Y_pred_binarised_test = (Y_pred_test >= 0.5).astype(\"int\").ravel()\n",
    "\n",
    "submission = {}\n",
    "submission['ImageId'] = ID_test\n",
    "submission['Class'] = Y_pred_binarised_test\n",
    "\n",
    "submission = pd.DataFrame(submission)\n",
    "submission = submission[['ImageId', 'Class']]\n",
    "submission = submission.sort_values(['ImageId'])\n",
    "submission.to_csv(\"submisision.csv\", index=False)"
   ]
  },
  {
   "cell_type": "code",
   "execution_count": 19,
   "metadata": {
    "_uuid": "c8b270b495e89b83c102b7dc1782f774de863370"
   },
   "outputs": [],
   "source": []
  },
  {
   "cell_type": "code",
   "execution_count": 19,
   "metadata": {
    "_uuid": "17958068288ec50409b58818d03c9427ad24510d",
    "colab": {},
    "colab_type": "code",
    "id": "LCkK3-CDijIe"
   },
   "outputs": [
    {
     "name": "stdout",
     "output_type": "stream",
     "text": [
      "/kaggle/working\r\n"
     ]
    }
   ],
   "source": [
    "!pwd\n"
   ]
  }
 ],
 "metadata": {
  "colab": {
   "collapsed_sections": [],
   "name": "Text - Non Text Classification.ipynb",
   "provenance": [],
   "version": "0.3.2"
  },
  "kernelspec": {
   "display_name": "Python 3",
   "language": "python",
   "name": "python3"
  },
  "language_info": {
   "codemirror_mode": {
    "name": "ipython",
    "version": 3
   },
   "file_extension": ".py",
   "mimetype": "text/x-python",
   "name": "python",
   "nbconvert_exporter": "python",
   "pygments_lexer": "ipython3",
   "version": "3.5.0"
  }
 },
 "nbformat": 4,
 "nbformat_minor": 1
}
